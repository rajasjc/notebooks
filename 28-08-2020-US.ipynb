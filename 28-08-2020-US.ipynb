{
 "cells": [
  {
   "cell_type": "raw",
   "metadata": {},
   "source": [
    "what is function?\n",
    "\n",
    "function is to avoid repeated task."
   ]
  },
  {
   "cell_type": "code",
   "execution_count": 1,
   "metadata": {},
   "outputs": [
    {
     "data": {
      "text/plain": [
       "7"
      ]
     },
     "execution_count": 1,
     "metadata": {},
     "output_type": "execute_result"
    }
   ],
   "source": [
    "3 + 4 "
   ]
  },
  {
   "cell_type": "code",
   "execution_count": 2,
   "metadata": {},
   "outputs": [
    {
     "data": {
      "text/plain": [
       "12"
      ]
     },
     "execution_count": 2,
     "metadata": {},
     "output_type": "execute_result"
    }
   ],
   "source": [
    "5 +  7"
   ]
  },
  {
   "cell_type": "code",
   "execution_count": 4,
   "metadata": {},
   "outputs": [
    {
     "data": {
      "text/plain": [
       "2341"
      ]
     },
     "execution_count": 4,
     "metadata": {},
     "output_type": "execute_result"
    }
   ],
   "source": [
    "2334 + 7"
   ]
  },
  {
   "cell_type": "code",
   "execution_count": 5,
   "metadata": {},
   "outputs": [
    {
     "data": {
      "text/plain": [
       "7"
      ]
     },
     "execution_count": 5,
     "metadata": {},
     "output_type": "execute_result"
    }
   ],
   "source": [
    "def add(x, y):\n",
    "    return x + y \n",
    "\n",
    "add(3,4)"
   ]
  },
  {
   "cell_type": "code",
   "execution_count": 6,
   "metadata": {},
   "outputs": [
    {
     "data": {
      "text/plain": [
       "12"
      ]
     },
     "execution_count": 6,
     "metadata": {},
     "output_type": "execute_result"
    }
   ],
   "source": [
    "add(5,7)"
   ]
  },
  {
   "cell_type": "code",
   "execution_count": 8,
   "metadata": {},
   "outputs": [
    {
     "data": {
      "text/plain": [
       "2341"
      ]
     },
     "execution_count": 8,
     "metadata": {},
     "output_type": "execute_result"
    }
   ],
   "source": [
    "add(2334, 7)"
   ]
  },
  {
   "cell_type": "code",
   "execution_count": 10,
   "metadata": {},
   "outputs": [
    {
     "name": "stdout",
     "output_type": "stream",
     "text": [
      "abs           all           any           ascii         \n",
      "bin           bool          breakpoint    bytearray     \n",
      "bytes         callable      chr           classmethod   \n",
      "compile       complex       copyright     credits       \n",
      "delattr       dict          dir           display       \n",
      "divmod        enumerate     eval          exec          \n",
      "filter        float         format        frozenset     \n",
      "get_ipython   getattr       globals       hasattr       \n",
      "hash          help          hex           id            \n",
      "input         int           isinstance    issubclass    \n",
      "iter          len           license       list          \n",
      "locals        map           max           memoryview    \n",
      "min           next          object        oct           \n",
      "open          ord           pow           print         \n",
      "property      range         repr          reversed      \n",
      "round         set           setattr       slice         \n",
      "sorted        staticmethod  str           sum           \n",
      "super         tuple         type          vars          \n"
     ]
    }
   ],
   "source": [
    "import builtins\n",
    "\n",
    "methods = [i for i  in dir(builtins) if i[0].islower()]\n",
    "w = str(len(max(methods, key=len))+2)\n",
    "fmt = ('{:'+w+'s}')*4\n",
    "\n",
    "for fn in zip(*[iter(methods + [' '])] *4):\n",
    "    print(fmt.format(*fn))"
   ]
  },
  {
   "cell_type": "markdown",
   "metadata": {},
   "source": [
    "#### **Bin**"
   ]
  },
  {
   "cell_type": "code",
   "execution_count": 14,
   "metadata": {},
   "outputs": [
    {
     "data": {
      "text/plain": [
       "'0b1000'"
      ]
     },
     "execution_count": 14,
     "metadata": {},
     "output_type": "execute_result"
    }
   ],
   "source": [
    "bin(0+8)"
   ]
  },
  {
   "cell_type": "code",
   "execution_count": 16,
   "metadata": {},
   "outputs": [
    {
     "data": {
      "text/plain": [
       "'1000'"
      ]
     },
     "execution_count": 16,
     "metadata": {},
     "output_type": "execute_result"
    }
   ],
   "source": [
    "'{:b}'.format(0+8)"
   ]
  },
  {
   "cell_type": "markdown",
   "metadata": {},
   "source": [
    "### **bool**"
   ]
  },
  {
   "cell_type": "code",
   "execution_count": 1,
   "metadata": {},
   "outputs": [
    {
     "data": {
      "text/plain": [
       "True"
      ]
     },
     "execution_count": 1,
     "metadata": {},
     "output_type": "execute_result"
    }
   ],
   "source": [
    "bool('fool')"
   ]
  },
  {
   "cell_type": "code",
   "execution_count": 2,
   "metadata": {},
   "outputs": [
    {
     "data": {
      "text/plain": [
       "False"
      ]
     },
     "execution_count": 2,
     "metadata": {},
     "output_type": "execute_result"
    }
   ],
   "source": [
    "bool()"
   ]
  },
  {
   "cell_type": "code",
   "execution_count": 3,
   "metadata": {},
   "outputs": [
    {
     "data": {
      "text/plain": [
       "False"
      ]
     },
     "execution_count": 3,
     "metadata": {},
     "output_type": "execute_result"
    }
   ],
   "source": [
    "bool('')"
   ]
  },
  {
   "cell_type": "code",
   "execution_count": 4,
   "metadata": {},
   "outputs": [
    {
     "data": {
      "text/plain": [
       "False"
      ]
     },
     "execution_count": 4,
     "metadata": {},
     "output_type": "execute_result"
    }
   ],
   "source": [
    "bool([])"
   ]
  },
  {
   "cell_type": "code",
   "execution_count": 5,
   "metadata": {},
   "outputs": [
    {
     "data": {
      "text/plain": [
       "True"
      ]
     },
     "execution_count": 5,
     "metadata": {},
     "output_type": "execute_result"
    }
   ],
   "source": [
    "bool('4')"
   ]
  },
  {
   "cell_type": "code",
   "execution_count": 6,
   "metadata": {},
   "outputs": [
    {
     "data": {
      "text/plain": [
       "True"
      ]
     },
     "execution_count": 6,
     "metadata": {},
     "output_type": "execute_result"
    }
   ],
   "source": [
    "bool('¡')"
   ]
  },
  {
   "cell_type": "code",
   "execution_count": 8,
   "metadata": {},
   "outputs": [
    {
     "data": {
      "text/plain": [
       "True"
      ]
     },
     "execution_count": 8,
     "metadata": {},
     "output_type": "execute_result"
    }
   ],
   "source": [
    "bool(\"yours\")"
   ]
  },
  {
   "cell_type": "code",
   "execution_count": 10,
   "metadata": {},
   "outputs": [
    {
     "data": {
      "text/plain": [
       "True"
      ]
     },
     "execution_count": 10,
     "metadata": {},
     "output_type": "execute_result"
    }
   ],
   "source": [
    "bool(';')"
   ]
  },
  {
   "cell_type": "markdown",
   "metadata": {},
   "source": [
    "### **breakpoint**"
   ]
  },
  {
   "cell_type": "code",
   "execution_count": 11,
   "metadata": {},
   "outputs": [
    {
     "name": "stdout",
     "output_type": "stream",
     "text": [
      "Help on built-in function breakpoint in module builtins:\n",
      "\n",
      "breakpoint(...)\n",
      "    breakpoint(*args, **kws)\n",
      "    \n",
      "    Call sys.breakpointhook(*args, **kws).  sys.breakpointhook() must accept\n",
      "    whatever arguments are passed.\n",
      "    \n",
      "    By default, this drops you into the pdb debugger.\n",
      "\n"
     ]
    }
   ],
   "source": [
    "help(breakpoint)"
   ]
  },
  {
   "cell_type": "code",
   "execution_count": 10,
   "metadata": {},
   "outputs": [
    {
     "name": "stdout",
     "output_type": "stream",
     "text": [
      "abs           all           any           ascii         \n",
      "bin           bool          breakpoint    bytearray     \n",
      "bytes         callable      chr           classmethod   \n",
      "compile       complex       copyright     credits       \n",
      "delattr       dict          dir           display       \n",
      "divmod        enumerate     eval          exec          \n",
      "filter        float         format        frozenset     \n",
      "get_ipython   getattr       globals       hasattr       \n",
      "hash          help          hex           id            \n",
      "input         int           isinstance    issubclass    \n",
      "iter          len           license       list          \n",
      "locals        map           max           memoryview    \n",
      "min           next          object        oct           \n",
      "open          ord           pow           print         \n",
      "property      range         repr          reversed      \n",
      "round         set           setattr       slice         \n",
      "sorted        staticmethod  str           sum           \n",
      "super         tuple         type          vars          \n"
     ]
    }
   ],
   "source": [
    "import builtins\n",
    "\n",
    "methods = [i for i  in dir(builtins) if i[0].islower()]\n",
    "w = str(len(max(methods, key=len))+2)\n",
    "fmt = ('{:'+w+'s}')*4\n",
    "\n",
    "for fn in zip(*[iter(methods + [' '])] *4):\n",
    "    print(fmt.format(*fn))"
   ]
  },
  {
   "cell_type": "markdown",
   "metadata": {},
   "source": [
    "### **bytes**"
   ]
  },
  {
   "cell_type": "code",
   "execution_count": 12,
   "metadata": {},
   "outputs": [
    {
     "name": "stdout",
     "output_type": "stream",
     "text": [
      "Help on class bytes in module builtins:\n",
      "\n",
      "class bytes(object)\n",
      " |  bytes(iterable_of_ints) -> bytes\n",
      " |  bytes(string, encoding[, errors]) -> bytes\n",
      " |  bytes(bytes_or_buffer) -> immutable copy of bytes_or_buffer\n",
      " |  bytes(int) -> bytes object of size given by the parameter initialized with null bytes\n",
      " |  bytes() -> empty bytes object\n",
      " |  \n",
      " |  Construct an immutable array of bytes from:\n",
      " |    - an iterable yielding integers in range(256)\n",
      " |    - a text string encoded using the specified encoding\n",
      " |    - any object implementing the buffer API.\n",
      " |    - an integer\n",
      " |  \n",
      " |  Methods defined here:\n",
      " |  \n",
      " |  __add__(self, value, /)\n",
      " |      Return self+value.\n",
      " |  \n",
      " |  __contains__(self, key, /)\n",
      " |      Return key in self.\n",
      " |  \n",
      " |  __eq__(self, value, /)\n",
      " |      Return self==value.\n",
      " |  \n",
      " |  __ge__(self, value, /)\n",
      " |      Return self>=value.\n",
      " |  \n",
      " |  __getattribute__(self, name, /)\n",
      " |      Return getattr(self, name).\n",
      " |  \n",
      " |  __getitem__(self, key, /)\n",
      " |      Return self[key].\n",
      " |  \n",
      " |  __getnewargs__(...)\n",
      " |  \n",
      " |  __gt__(self, value, /)\n",
      " |      Return self>value.\n",
      " |  \n",
      " |  __hash__(self, /)\n",
      " |      Return hash(self).\n",
      " |  \n",
      " |  __iter__(self, /)\n",
      " |      Implement iter(self).\n",
      " |  \n",
      " |  __le__(self, value, /)\n",
      " |      Return self<=value.\n",
      " |  \n",
      " |  __len__(self, /)\n",
      " |      Return len(self).\n",
      " |  \n",
      " |  __lt__(self, value, /)\n",
      " |      Return self<value.\n",
      " |  \n",
      " |  __mod__(self, value, /)\n",
      " |      Return self%value.\n",
      " |  \n",
      " |  __mul__(self, value, /)\n",
      " |      Return self*value.\n",
      " |  \n",
      " |  __ne__(self, value, /)\n",
      " |      Return self!=value.\n",
      " |  \n",
      " |  __repr__(self, /)\n",
      " |      Return repr(self).\n",
      " |  \n",
      " |  __rmod__(self, value, /)\n",
      " |      Return value%self.\n",
      " |  \n",
      " |  __rmul__(self, value, /)\n",
      " |      Return value*self.\n",
      " |  \n",
      " |  __str__(self, /)\n",
      " |      Return str(self).\n",
      " |  \n",
      " |  capitalize(...)\n",
      " |      B.capitalize() -> copy of B\n",
      " |      \n",
      " |      Return a copy of B with only its first character capitalized (ASCII)\n",
      " |      and the rest lower-cased.\n",
      " |  \n",
      " |  center(self, width, fillchar=b' ', /)\n",
      " |      Return a centered string of length width.\n",
      " |      \n",
      " |      Padding is done using the specified fill character.\n",
      " |  \n",
      " |  count(...)\n",
      " |      B.count(sub[, start[, end]]) -> int\n",
      " |      \n",
      " |      Return the number of non-overlapping occurrences of subsection sub in\n",
      " |      bytes B[start:end].  Optional arguments start and end are interpreted\n",
      " |      as in slice notation.\n",
      " |  \n",
      " |  decode(self, /, encoding='utf-8', errors='strict')\n",
      " |      Decode the bytes using the codec registered for encoding.\n",
      " |      \n",
      " |      encoding\n",
      " |        The encoding with which to decode the bytes.\n",
      " |      errors\n",
      " |        The error handling scheme to use for the handling of decoding errors.\n",
      " |        The default is 'strict' meaning that decoding errors raise a\n",
      " |        UnicodeDecodeError. Other possible values are 'ignore' and 'replace'\n",
      " |        as well as any other name registered with codecs.register_error that\n",
      " |        can handle UnicodeDecodeErrors.\n",
      " |  \n",
      " |  endswith(...)\n",
      " |      B.endswith(suffix[, start[, end]]) -> bool\n",
      " |      \n",
      " |      Return True if B ends with the specified suffix, False otherwise.\n",
      " |      With optional start, test B beginning at that position.\n",
      " |      With optional end, stop comparing B at that position.\n",
      " |      suffix can also be a tuple of bytes to try.\n",
      " |  \n",
      " |  expandtabs(self, /, tabsize=8)\n",
      " |      Return a copy where all tab characters are expanded using spaces.\n",
      " |      \n",
      " |      If tabsize is not given, a tab size of 8 characters is assumed.\n",
      " |  \n",
      " |  find(...)\n",
      " |      B.find(sub[, start[, end]]) -> int\n",
      " |      \n",
      " |      Return the lowest index in B where subsection sub is found,\n",
      " |      such that sub is contained within B[start,end].  Optional\n",
      " |      arguments start and end are interpreted as in slice notation.\n",
      " |      \n",
      " |      Return -1 on failure.\n",
      " |  \n",
      " |  hex(...)\n",
      " |      Create a str of hexadecimal numbers from a bytes object.\n",
      " |      \n",
      " |        sep\n",
      " |          An optional single character or byte to separate hex bytes.\n",
      " |        bytes_per_sep\n",
      " |          How many bytes between separators.  Positive values count from the\n",
      " |          right, negative values count from the left.\n",
      " |      \n",
      " |      Example:\n",
      " |      >>> value = b'\\xb9\\x01\\xef'\n",
      " |      >>> value.hex()\n",
      " |      'b901ef'\n",
      " |      >>> value.hex(':')\n",
      " |      'b9:01:ef'\n",
      " |      >>> value.hex(':', 2)\n",
      " |      'b9:01ef'\n",
      " |      >>> value.hex(':', -2)\n",
      " |      'b901:ef'\n",
      " |  \n",
      " |  index(...)\n",
      " |      B.index(sub[, start[, end]]) -> int\n",
      " |      \n",
      " |      Return the lowest index in B where subsection sub is found,\n",
      " |      such that sub is contained within B[start,end].  Optional\n",
      " |      arguments start and end are interpreted as in slice notation.\n",
      " |      \n",
      " |      Raises ValueError when the subsection is not found.\n",
      " |  \n",
      " |  isalnum(...)\n",
      " |      B.isalnum() -> bool\n",
      " |      \n",
      " |      Return True if all characters in B are alphanumeric\n",
      " |      and there is at least one character in B, False otherwise.\n",
      " |  \n",
      " |  isalpha(...)\n",
      " |      B.isalpha() -> bool\n",
      " |      \n",
      " |      Return True if all characters in B are alphabetic\n",
      " |      and there is at least one character in B, False otherwise.\n",
      " |  \n",
      " |  isascii(...)\n",
      " |      B.isascii() -> bool\n",
      " |      \n",
      " |      Return True if B is empty or all characters in B are ASCII,\n",
      " |      False otherwise.\n",
      " |  \n",
      " |  isdigit(...)\n",
      " |      B.isdigit() -> bool\n",
      " |      \n",
      " |      Return True if all characters in B are digits\n",
      " |      and there is at least one character in B, False otherwise.\n",
      " |  \n",
      " |  islower(...)\n",
      " |      B.islower() -> bool\n",
      " |      \n",
      " |      Return True if all cased characters in B are lowercase and there is\n",
      " |      at least one cased character in B, False otherwise.\n",
      " |  \n",
      " |  isspace(...)\n",
      " |      B.isspace() -> bool\n",
      " |      \n",
      " |      Return True if all characters in B are whitespace\n",
      " |      and there is at least one character in B, False otherwise.\n",
      " |  \n",
      " |  istitle(...)\n",
      " |      B.istitle() -> bool\n",
      " |      \n",
      " |      Return True if B is a titlecased string and there is at least one\n",
      " |      character in B, i.e. uppercase characters may only follow uncased\n",
      " |      characters and lowercase characters only cased ones. Return False\n",
      " |      otherwise.\n",
      " |  \n",
      " |  isupper(...)\n",
      " |      B.isupper() -> bool\n",
      " |      \n",
      " |      Return True if all cased characters in B are uppercase and there is\n",
      " |      at least one cased character in B, False otherwise.\n",
      " |  \n",
      " |  join(self, iterable_of_bytes, /)\n",
      " |      Concatenate any number of bytes objects.\n",
      " |      \n",
      " |      The bytes whose method is called is inserted in between each pair.\n",
      " |      \n",
      " |      The result is returned as a new bytes object.\n",
      " |      \n",
      " |      Example: b'.'.join([b'ab', b'pq', b'rs']) -> b'ab.pq.rs'.\n",
      " |  \n",
      " |  ljust(self, width, fillchar=b' ', /)\n",
      " |      Return a left-justified string of length width.\n",
      " |      \n",
      " |      Padding is done using the specified fill character.\n",
      " |  \n",
      " |  lower(...)\n",
      " |      B.lower() -> copy of B\n",
      " |      \n",
      " |      Return a copy of B with all ASCII characters converted to lowercase.\n",
      " |  \n",
      " |  lstrip(self, bytes=None, /)\n",
      " |      Strip leading bytes contained in the argument.\n",
      " |      \n",
      " |      If the argument is omitted or None, strip leading  ASCII whitespace.\n",
      " |  \n",
      " |  partition(self, sep, /)\n",
      " |      Partition the bytes into three parts using the given separator.\n",
      " |      \n",
      " |      This will search for the separator sep in the bytes. If the separator is found,\n",
      " |      returns a 3-tuple containing the part before the separator, the separator\n",
      " |      itself, and the part after it.\n",
      " |      \n",
      " |      If the separator is not found, returns a 3-tuple containing the original bytes\n",
      " |      object and two empty bytes objects.\n",
      " |  \n",
      " |  replace(self, old, new, count=-1, /)\n",
      " |      Return a copy with all occurrences of substring old replaced by new.\n",
      " |      \n",
      " |        count\n",
      " |          Maximum number of occurrences to replace.\n",
      " |          -1 (the default value) means replace all occurrences.\n",
      " |      \n",
      " |      If the optional argument count is given, only the first count occurrences are\n",
      " |      replaced.\n",
      " |  \n",
      " |  rfind(...)\n",
      " |      B.rfind(sub[, start[, end]]) -> int\n",
      " |      \n",
      " |      Return the highest index in B where subsection sub is found,\n",
      " |      such that sub is contained within B[start,end].  Optional\n",
      " |      arguments start and end are interpreted as in slice notation.\n",
      " |      \n",
      " |      Return -1 on failure.\n",
      " |  \n",
      " |  rindex(...)\n",
      " |      B.rindex(sub[, start[, end]]) -> int\n",
      " |      \n",
      " |      Return the highest index in B where subsection sub is found,\n",
      " |      such that sub is contained within B[start,end].  Optional\n",
      " |      arguments start and end are interpreted as in slice notation.\n",
      " |      \n",
      " |      Raise ValueError when the subsection is not found.\n",
      " |  \n",
      " |  rjust(self, width, fillchar=b' ', /)\n",
      " |      Return a right-justified string of length width.\n",
      " |      \n",
      " |      Padding is done using the specified fill character.\n",
      " |  \n",
      " |  rpartition(self, sep, /)\n",
      " |      Partition the bytes into three parts using the given separator.\n",
      " |      \n",
      " |      This will search for the separator sep in the bytes, starting at the end. If\n",
      " |      the separator is found, returns a 3-tuple containing the part before the\n",
      " |      separator, the separator itself, and the part after it.\n",
      " |      \n",
      " |      If the separator is not found, returns a 3-tuple containing two empty bytes\n",
      " |      objects and the original bytes object.\n",
      " |  \n",
      " |  rsplit(self, /, sep=None, maxsplit=-1)\n",
      " |      Return a list of the sections in the bytes, using sep as the delimiter.\n",
      " |      \n",
      " |        sep\n",
      " |          The delimiter according which to split the bytes.\n",
      " |          None (the default value) means split on ASCII whitespace characters\n",
      " |          (space, tab, return, newline, formfeed, vertical tab).\n",
      " |        maxsplit\n",
      " |          Maximum number of splits to do.\n",
      " |          -1 (the default value) means no limit.\n",
      " |      \n",
      " |      Splitting is done starting at the end of the bytes and working to the front.\n",
      " |  \n",
      " |  rstrip(self, bytes=None, /)\n",
      " |      Strip trailing bytes contained in the argument.\n",
      " |      \n",
      " |      If the argument is omitted or None, strip trailing ASCII whitespace.\n",
      " |  \n",
      " |  split(self, /, sep=None, maxsplit=-1)\n",
      " |      Return a list of the sections in the bytes, using sep as the delimiter.\n",
      " |      \n",
      " |      sep\n",
      " |        The delimiter according which to split the bytes.\n",
      " |        None (the default value) means split on ASCII whitespace characters\n",
      " |        (space, tab, return, newline, formfeed, vertical tab).\n",
      " |      maxsplit\n",
      " |        Maximum number of splits to do.\n",
      " |        -1 (the default value) means no limit.\n",
      " |  \n",
      " |  splitlines(self, /, keepends=False)\n",
      " |      Return a list of the lines in the bytes, breaking at line boundaries.\n",
      " |      \n",
      " |      Line breaks are not included in the resulting list unless keepends is given and\n",
      " |      true.\n",
      " |  \n",
      " |  startswith(...)\n",
      " |      B.startswith(prefix[, start[, end]]) -> bool\n",
      " |      \n",
      " |      Return True if B starts with the specified prefix, False otherwise.\n",
      " |      With optional start, test B beginning at that position.\n",
      " |      With optional end, stop comparing B at that position.\n",
      " |      prefix can also be a tuple of bytes to try.\n",
      " |  \n",
      " |  strip(self, bytes=None, /)\n",
      " |      Strip leading and trailing bytes contained in the argument.\n",
      " |      \n",
      " |      If the argument is omitted or None, strip leading and trailing ASCII whitespace.\n",
      " |  \n",
      " |  swapcase(...)\n",
      " |      B.swapcase() -> copy of B\n",
      " |      \n",
      " |      Return a copy of B with uppercase ASCII characters converted\n",
      " |      to lowercase ASCII and vice versa.\n",
      " |  \n",
      " |  title(...)\n",
      " |      B.title() -> copy of B\n",
      " |      \n",
      " |      Return a titlecased version of B, i.e. ASCII words start with uppercase\n",
      " |      characters, all remaining cased characters have lowercase.\n",
      " |  \n",
      " |  translate(self, table, /, delete=b'')\n",
      " |      Return a copy with each character mapped by the given translation table.\n",
      " |      \n",
      " |        table\n",
      " |          Translation table, which must be a bytes object of length 256.\n",
      " |      \n",
      " |      All characters occurring in the optional argument delete are removed.\n",
      " |      The remaining characters are mapped through the given translation table.\n",
      " |  \n",
      " |  upper(...)\n",
      " |      B.upper() -> copy of B\n",
      " |      \n",
      " |      Return a copy of B with all ASCII characters converted to uppercase.\n",
      " |  \n",
      " |  zfill(self, width, /)\n",
      " |      Pad a numeric string with zeros on the left, to fill a field of the given width.\n",
      " |      \n",
      " |      The original string is never truncated.\n",
      " |  \n",
      " |  ----------------------------------------------------------------------\n",
      " |  Class methods defined here:\n",
      " |  \n",
      " |  fromhex(string, /) from builtins.type\n",
      " |      Create a bytes object from a string of hexadecimal numbers.\n",
      " |      \n",
      " |      Spaces between two numbers are accepted.\n",
      " |      Example: bytes.fromhex('B9 01EF') -> b'\\\\xb9\\\\x01\\\\xef'.\n",
      " |  \n",
      " |  ----------------------------------------------------------------------\n",
      " |  Static methods defined here:\n",
      " |  \n",
      " |  __new__(*args, **kwargs) from builtins.type\n",
      " |      Create and return a new object.  See help(type) for accurate signature.\n",
      " |  \n",
      " |  maketrans(frm, to, /)\n",
      " |      Return a translation table useable for the bytes or bytearray translate method.\n",
      " |      \n",
      " |      The returned table will be one where each byte in frm is mapped to the byte at\n",
      " |      the same position in to.\n",
      " |      \n",
      " |      The bytes objects frm and to must be of the same length.\n",
      "\n"
     ]
    }
   ],
   "source": [
    "help(bytes)"
   ]
  },
  {
   "cell_type": "code",
   "execution_count": 13,
   "metadata": {},
   "outputs": [
    {
     "data": {
      "text/plain": [
       "b'\\x00\\x00\\x00\\x00\\x00\\x00\\x00\\x00\\x00\\x00\\x00\\x00\\x00\\x00\\x00\\x00\\x00\\x00\\x00\\x00\\x00\\x00\\x00\\x00\\x00\\x00\\x00\\x00\\x00\\x00\\x00\\x00\\x00\\x00\\x00\\x00\\x00\\x00\\x00\\x00\\x00\\x00\\x00\\x00\\x00\\x00\\x00\\x00\\x00\\x00\\x00\\x00\\x00\\x00\\x00\\x00\\x00\\x00\\x00\\x00\\x00\\x00\\x00\\x00\\x00\\x00\\x00\\x00\\x00\\x00\\x00\\x00\\x00\\x00\\x00\\x00\\x00\\x00'"
      ]
     },
     "execution_count": 13,
     "metadata": {},
     "output_type": "execute_result"
    }
   ],
   "source": [
    "bytes(78)"
   ]
  },
  {
   "cell_type": "code",
   "execution_count": 16,
   "metadata": {},
   "outputs": [
    {
     "data": {
      "text/plain": [
       "b'\\x00\\x00\\x00\\x00\\x00\\x00\\x00\\x00\\x00\\x00'"
      ]
     },
     "execution_count": 16,
     "metadata": {},
     "output_type": "execute_result"
    }
   ],
   "source": [
    "bytes(10)"
   ]
  },
  {
   "cell_type": "code",
   "execution_count": 18,
   "metadata": {},
   "outputs": [
    {
     "data": {
      "text/plain": [
       "b'i'"
      ]
     },
     "execution_count": 18,
     "metadata": {},
     "output_type": "execute_result"
    }
   ],
   "source": [
    "bytes('i', encoding = 'utf-8')"
   ]
  },
  {
   "cell_type": "code",
   "execution_count": null,
   "metadata": {},
   "outputs": [],
   "source": []
  }
 ],
 "metadata": {
  "kernelspec": {
   "display_name": "Python 3",
   "language": "python",
   "name": "python3"
  },
  "language_info": {
   "codemirror_mode": {
    "name": "ipython",
    "version": 3
   },
   "file_extension": ".py",
   "mimetype": "text/x-python",
   "name": "python",
   "nbconvert_exporter": "python",
   "pygments_lexer": "ipython3",
   "version": "3.8.2"
  }
 },
 "nbformat": 4,
 "nbformat_minor": 4
}
