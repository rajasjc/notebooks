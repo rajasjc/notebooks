{
 "cells": [
  {
   "cell_type": "markdown",
   "metadata": {},
   "source": [
    "#### **Regex**"
   ]
  },
  {
   "cell_type": "markdown",
   "metadata": {},
   "source": [
    "##### **dot (.)**"
   ]
  },
  {
   "cell_type": "code",
   "execution_count": 1,
   "metadata": {},
   "outputs": [
    {
     "name": "stdout",
     "output_type": "stream",
     "text": [
      "\u001b[01;31m\u001b[KL\u001b[m\u001b[K\u001b[01;31m\u001b[Ki\u001b[m\u001b[K\u001b[01;31m\u001b[Kn\u001b[m\u001b[K\u001b[01;31m\u001b[Ku\u001b[m\u001b[K\u001b[01;31m\u001b[Kx\u001b[m\u001b[K\u001b[01;31m\u001b[K \u001b[m\u001b[K\u001b[01;31m\u001b[Ki\u001b[m\u001b[K\u001b[01;31m\u001b[Ks\u001b[m\u001b[K\u001b[01;31m\u001b[K \u001b[m\u001b[K\u001b[01;31m\u001b[KG\u001b[m\u001b[K\u001b[01;31m\u001b[Ko\u001b[m\u001b[K\u001b[01;31m\u001b[Ko\u001b[m\u001b[K\u001b[01;31m\u001b[Ko\u001b[m\u001b[K\u001b[01;31m\u001b[Ko\u001b[m\u001b[K\u001b[01;31m\u001b[Ko\u001b[m\u001b[K\u001b[01;31m\u001b[Kd\u001b[m\u001b[K\u001b[01;31m\u001b[K \u001b[m\u001b[K\u001b[01;31m\u001b[KO\u001b[m\u001b[K\u001b[01;31m\u001b[Kp\u001b[m\u001b[K\u001b[01;31m\u001b[Ke\u001b[m\u001b[K\u001b[01;31m\u001b[Kr\u001b[m\u001b[K\u001b[01;31m\u001b[Ka\u001b[m\u001b[K\u001b[01;31m\u001b[Kt\u001b[m\u001b[K\u001b[01;31m\u001b[Ki\u001b[m\u001b[K\u001b[01;31m\u001b[Kn\u001b[m\u001b[K\u001b[01;31m\u001b[Kg\u001b[m\u001b[K\u001b[01;31m\u001b[K \u001b[m\u001b[K\u001b[01;31m\u001b[KS\u001b[m\u001b[K\u001b[01;31m\u001b[Ky\u001b[m\u001b[K\u001b[01;31m\u001b[Ks\u001b[m\u001b[K\u001b[01;31m\u001b[Kt\u001b[m\u001b[K\u001b[01;31m\u001b[Ke\u001b[m\u001b[K\u001b[01;31m\u001b[Km\u001b[m\u001b[K\n"
     ]
    }
   ],
   "source": [
    "echo \"Linux is Goooood Operating System\" | grep \".\""
   ]
  },
  {
   "cell_type": "code",
   "execution_count": 4,
   "metadata": {},
   "outputs": [
    {
     "name": "stdout",
     "output_type": "stream",
     "text": [
      "\u001b[01;31m\u001b[KLi\u001b[m\u001b[K\u001b[01;31m\u001b[Knu\u001b[m\u001b[K\u001b[01;31m\u001b[Kx \u001b[m\u001b[K\u001b[01;31m\u001b[Kis\u001b[m\u001b[K\u001b[01;31m\u001b[K G\u001b[m\u001b[K\u001b[01;31m\u001b[Koo\u001b[m\u001b[K\u001b[01;31m\u001b[Koo\u001b[m\u001b[K\u001b[01;31m\u001b[Kod\u001b[m\u001b[K\u001b[01;31m\u001b[K O\u001b[m\u001b[K\u001b[01;31m\u001b[Kpe\u001b[m\u001b[K\u001b[01;31m\u001b[Kra\u001b[m\u001b[K\u001b[01;31m\u001b[Kti\u001b[m\u001b[K\u001b[01;31m\u001b[Kng\u001b[m\u001b[K\u001b[01;31m\u001b[K S\u001b[m\u001b[K\u001b[01;31m\u001b[Kys\u001b[m\u001b[K\u001b[01;31m\u001b[Kte\u001b[m\u001b[Km\n"
     ]
    }
   ],
   "source": [
    "echo \"Linux is Goooood Operating System\" | grep \"..\""
   ]
  },
  {
   "cell_type": "markdown",
   "metadata": {},
   "source": [
    "##### **^ - (caret) - represents the beginning of the line**"
   ]
  },
  {
   "cell_type": "code",
   "execution_count": 5,
   "metadata": {},
   "outputs": [
    {
     "name": "stdout",
     "output_type": "stream",
     "text": [
      "Linux is Goooood Operating System\n"
     ]
    }
   ],
   "source": [
    "echo \"Linux is Goooood Operating System\" | grep \"^\""
   ]
  },
  {
   "cell_type": "code",
   "execution_count": 6,
   "metadata": {},
   "outputs": [
    {
     "name": "stdout",
     "output_type": "stream",
     "text": [
      "\u001b[01;31m\u001b[KL\u001b[m\u001b[Kinux is Goooood Operating System\n"
     ]
    }
   ],
   "source": [
    "echo \"Linux is Goooood Operating System\" | grep \"^.\""
   ]
  },
  {
   "cell_type": "code",
   "execution_count": 7,
   "metadata": {},
   "outputs": [
    {
     "name": "stdout",
     "output_type": "stream",
     "text": [
      "\u001b[01;31m\u001b[KLi\u001b[m\u001b[Knux is Goooood Operating System\n"
     ]
    }
   ],
   "source": [
    "echo \"Linux is Goooood Operating System\" | grep \"^..\""
   ]
  },
  {
   "cell_type": "markdown",
   "metadata": {},
   "source": [
    "##### **\\\\$ - (dollar) - represents the end of the line**"
   ]
  },
  {
   "cell_type": "code",
   "execution_count": 13,
   "metadata": {},
   "outputs": [
    {
     "name": "stdout",
     "output_type": "stream",
     "text": [
      "Linux is Goooood Operating System\n"
     ]
    }
   ],
   "source": [
    "echo \"Linux is Goooood Operating System\" | grep \"$\""
   ]
  },
  {
   "cell_type": "code",
   "execution_count": 14,
   "metadata": {},
   "outputs": [
    {
     "name": "stdout",
     "output_type": "stream",
     "text": [
      "Linux is Goooood Operating Syste\u001b[01;31m\u001b[Km\u001b[m\u001b[K\n"
     ]
    }
   ],
   "source": [
    "echo \"Linux is Goooood Operating System\" | grep \".$\""
   ]
  },
  {
   "cell_type": "code",
   "execution_count": 15,
   "metadata": {},
   "outputs": [
    {
     "name": "stdout",
     "output_type": "stream",
     "text": [
      "Linux is Goooood Operating Syst\u001b[01;31m\u001b[Kem\u001b[m\u001b[K\n"
     ]
    }
   ],
   "source": [
    "echo \"Linux is Goooood Operating System\" | grep \"..$\""
   ]
  },
  {
   "cell_type": "markdown",
   "metadata": {},
   "source": [
    "##### **[ ] - Match a range of characters contained within the square bracket**"
   ]
  },
  {
   "cell_type": "code",
   "execution_count": 8,
   "metadata": {},
   "outputs": [
    {
     "name": "stdout",
     "output_type": "stream",
     "text": [
      "L\u001b[01;31m\u001b[Ki\u001b[m\u001b[K\u001b[01;31m\u001b[Kn\u001b[m\u001b[K\u001b[01;31m\u001b[Ku\u001b[m\u001b[K\u001b[01;31m\u001b[Kx\u001b[m\u001b[K \u001b[01;31m\u001b[Ki\u001b[m\u001b[K\u001b[01;31m\u001b[Ks\u001b[m\u001b[K G\u001b[01;31m\u001b[Ko\u001b[m\u001b[K\u001b[01;31m\u001b[Ko\u001b[m\u001b[K\u001b[01;31m\u001b[Ko\u001b[m\u001b[K\u001b[01;31m\u001b[Ko\u001b[m\u001b[K\u001b[01;31m\u001b[Ko\u001b[m\u001b[K\u001b[01;31m\u001b[Kd\u001b[m\u001b[K O\u001b[01;31m\u001b[Kp\u001b[m\u001b[K\u001b[01;31m\u001b[Ke\u001b[m\u001b[K\u001b[01;31m\u001b[Kr\u001b[m\u001b[K\u001b[01;31m\u001b[Ka\u001b[m\u001b[K\u001b[01;31m\u001b[Kt\u001b[m\u001b[K\u001b[01;31m\u001b[Ki\u001b[m\u001b[K\u001b[01;31m\u001b[Kn\u001b[m\u001b[K\u001b[01;31m\u001b[Kg\u001b[m\u001b[K S\u001b[01;31m\u001b[Ky\u001b[m\u001b[K\u001b[01;31m\u001b[Ks\u001b[m\u001b[K\u001b[01;31m\u001b[Kt\u001b[m\u001b[K\u001b[01;31m\u001b[Ke\u001b[m\u001b[K\u001b[01;31m\u001b[Km\u001b[m\u001b[K\n"
     ]
    }
   ],
   "source": [
    "echo \"Linux is Goooood Operating System\" | grep \"[a-z]\""
   ]
  },
  {
   "cell_type": "code",
   "execution_count": 9,
   "metadata": {},
   "outputs": [
    {
     "name": "stdout",
     "output_type": "stream",
     "text": [
      "\u001b[01;31m\u001b[KL\u001b[m\u001b[Kinux is \u001b[01;31m\u001b[KG\u001b[m\u001b[Koooood \u001b[01;31m\u001b[KO\u001b[m\u001b[Kperating \u001b[01;31m\u001b[KS\u001b[m\u001b[Kystem\n"
     ]
    }
   ],
   "source": [
    "echo \"Linux is Goooood Operating System\" | grep \"[A-Z]\""
   ]
  },
  {
   "cell_type": "code",
   "execution_count": 10,
   "metadata": {},
   "outputs": [
    {
     "name": "stdout",
     "output_type": "stream",
     "text": [
      "\u001b[01;31m\u001b[KL\u001b[m\u001b[K\u001b[01;31m\u001b[Ki\u001b[m\u001b[K\u001b[01;31m\u001b[Kn\u001b[m\u001b[K\u001b[01;31m\u001b[Ku\u001b[m\u001b[K\u001b[01;31m\u001b[Kx\u001b[m\u001b[K \u001b[01;31m\u001b[Ki\u001b[m\u001b[K\u001b[01;31m\u001b[Ks\u001b[m\u001b[K \u001b[01;31m\u001b[KG\u001b[m\u001b[K\u001b[01;31m\u001b[Ko\u001b[m\u001b[K\u001b[01;31m\u001b[Ko\u001b[m\u001b[K\u001b[01;31m\u001b[Ko\u001b[m\u001b[K\u001b[01;31m\u001b[Ko\u001b[m\u001b[K\u001b[01;31m\u001b[Ko\u001b[m\u001b[K\u001b[01;31m\u001b[Kd\u001b[m\u001b[K \u001b[01;31m\u001b[KO\u001b[m\u001b[K\u001b[01;31m\u001b[Kp\u001b[m\u001b[K\u001b[01;31m\u001b[Ke\u001b[m\u001b[K\u001b[01;31m\u001b[Kr\u001b[m\u001b[K\u001b[01;31m\u001b[Ka\u001b[m\u001b[K\u001b[01;31m\u001b[Kt\u001b[m\u001b[K\u001b[01;31m\u001b[Ki\u001b[m\u001b[K\u001b[01;31m\u001b[Kn\u001b[m\u001b[K\u001b[01;31m\u001b[Kg\u001b[m\u001b[K \u001b[01;31m\u001b[KS\u001b[m\u001b[K\u001b[01;31m\u001b[Ky\u001b[m\u001b[K\u001b[01;31m\u001b[Ks\u001b[m\u001b[K\u001b[01;31m\u001b[Kt\u001b[m\u001b[K\u001b[01;31m\u001b[Ke\u001b[m\u001b[K\u001b[01;31m\u001b[Km\u001b[m\u001b[K\n"
     ]
    }
   ],
   "source": [
    "echo \"Linux is Goooood Operating System\" | grep \"[a-zA-Z]\""
   ]
  },
  {
   "cell_type": "markdown",
   "metadata": {},
   "source": [
    "##### **[^ ] - Match a character which is not one of those contained within the square brackets**"
   ]
  },
  {
   "cell_type": "code",
   "execution_count": 11,
   "metadata": {},
   "outputs": [
    {
     "name": "stdout",
     "output_type": "stream",
     "text": [
      "L\u001b[01;31m\u001b[Ki\u001b[m\u001b[K\u001b[01;31m\u001b[Kn\u001b[m\u001b[K\u001b[01;31m\u001b[Ku\u001b[m\u001b[K\u001b[01;31m\u001b[Kx\u001b[m\u001b[K\u001b[01;31m\u001b[K \u001b[m\u001b[K\u001b[01;31m\u001b[Ki\u001b[m\u001b[K\u001b[01;31m\u001b[Ks\u001b[m\u001b[K\u001b[01;31m\u001b[K \u001b[m\u001b[KG\u001b[01;31m\u001b[Ko\u001b[m\u001b[K\u001b[01;31m\u001b[Ko\u001b[m\u001b[K\u001b[01;31m\u001b[Ko\u001b[m\u001b[K\u001b[01;31m\u001b[Ko\u001b[m\u001b[K\u001b[01;31m\u001b[Ko\u001b[m\u001b[K\u001b[01;31m\u001b[Kd\u001b[m\u001b[K\u001b[01;31m\u001b[K \u001b[m\u001b[KO\u001b[01;31m\u001b[Kp\u001b[m\u001b[K\u001b[01;31m\u001b[Ke\u001b[m\u001b[K\u001b[01;31m\u001b[Kr\u001b[m\u001b[K\u001b[01;31m\u001b[Ka\u001b[m\u001b[K\u001b[01;31m\u001b[Kt\u001b[m\u001b[K\u001b[01;31m\u001b[Ki\u001b[m\u001b[K\u001b[01;31m\u001b[Kn\u001b[m\u001b[K\u001b[01;31m\u001b[Kg\u001b[m\u001b[K\u001b[01;31m\u001b[K \u001b[m\u001b[KS\u001b[01;31m\u001b[Ky\u001b[m\u001b[K\u001b[01;31m\u001b[Ks\u001b[m\u001b[K\u001b[01;31m\u001b[Kt\u001b[m\u001b[K\u001b[01;31m\u001b[Ke\u001b[m\u001b[K\u001b[01;31m\u001b[Km\u001b[m\u001b[K\n"
     ]
    }
   ],
   "source": [
    "echo \"Linux is Goooood Operating System\" | grep \"[^A-Z]\""
   ]
  },
  {
   "cell_type": "code",
   "execution_count": 12,
   "metadata": {},
   "outputs": [
    {
     "name": "stdout",
     "output_type": "stream",
     "text": [
      "\u001b[01;31m\u001b[KL\u001b[m\u001b[K\u001b[01;31m\u001b[Ki\u001b[m\u001b[K\u001b[01;31m\u001b[Kn\u001b[m\u001b[K\u001b[01;31m\u001b[Ku\u001b[m\u001b[K\u001b[01;31m\u001b[Kx\u001b[m\u001b[K\u001b[01;31m\u001b[K \u001b[m\u001b[K\u001b[01;31m\u001b[Ki\u001b[m\u001b[K\u001b[01;31m\u001b[Ks\u001b[m\u001b[K\u001b[01;31m\u001b[K \u001b[m\u001b[KG\u001b[01;31m\u001b[Ko\u001b[m\u001b[K\u001b[01;31m\u001b[Ko\u001b[m\u001b[K\u001b[01;31m\u001b[Ko\u001b[m\u001b[K\u001b[01;31m\u001b[Ko\u001b[m\u001b[K\u001b[01;31m\u001b[Ko\u001b[m\u001b[K\u001b[01;31m\u001b[Kd\u001b[m\u001b[K\u001b[01;31m\u001b[K \u001b[m\u001b[K\u001b[01;31m\u001b[KO\u001b[m\u001b[K\u001b[01;31m\u001b[Kp\u001b[m\u001b[K\u001b[01;31m\u001b[Ke\u001b[m\u001b[K\u001b[01;31m\u001b[Kr\u001b[m\u001b[K\u001b[01;31m\u001b[Ka\u001b[m\u001b[K\u001b[01;31m\u001b[Kt\u001b[m\u001b[K\u001b[01;31m\u001b[Ki\u001b[m\u001b[K\u001b[01;31m\u001b[Kn\u001b[m\u001b[K\u001b[01;31m\u001b[Kg\u001b[m\u001b[K\u001b[01;31m\u001b[K \u001b[m\u001b[K\u001b[01;31m\u001b[KS\u001b[m\u001b[K\u001b[01;31m\u001b[Ky\u001b[m\u001b[K\u001b[01;31m\u001b[Ks\u001b[m\u001b[K\u001b[01;31m\u001b[Kt\u001b[m\u001b[K\u001b[01;31m\u001b[Ke\u001b[m\u001b[K\u001b[01;31m\u001b[Km\u001b[m\u001b[K\n"
     ]
    }
   ],
   "source": [
    "echo \"Linux is Goooood Operating System\" | grep \"[^A-G]\""
   ]
  },
  {
   "cell_type": "markdown",
   "metadata": {},
   "source": [
    "##### *** - Match zero or more of the preceeding item**"
   ]
  },
  {
   "cell_type": "code",
   "execution_count": 16,
   "metadata": {},
   "outputs": [
    {
     "ename": "",
     "evalue": "1",
     "output_type": "error",
     "traceback": []
    }
   ],
   "source": [
    "echo \"Linux is Goooood Operating System\" | grep \"*\""
   ]
  },
  {
   "cell_type": "code",
   "execution_count": 17,
   "metadata": {},
   "outputs": [
    {
     "name": "stdout",
     "output_type": "stream",
     "text": [
      "\u001b[01;31m\u001b[KLinux is Goooood Operating System\u001b[m\u001b[K\n"
     ]
    }
   ],
   "source": [
    "echo \"Linux is Goooood Operating System\" | grep \".*\""
   ]
  },
  {
   "cell_type": "code",
   "execution_count": 18,
   "metadata": {},
   "outputs": [
    {
     "name": "stdout",
     "output_type": "stream",
     "text": [
      "Linux is \u001b[01;31m\u001b[KGoooood Operating System\u001b[m\u001b[K\n"
     ]
    }
   ],
   "source": [
    "echo \"Linux is Goooood Operating System\" | grep \"G.*$\""
   ]
  },
  {
   "cell_type": "code",
   "execution_count": 19,
   "metadata": {},
   "outputs": [
    {
     "ename": "",
     "evalue": "1",
     "output_type": "error",
     "traceback": []
    }
   ],
   "source": [
    "echo \"Linux is Goooood Operating System\" | grep \"^$\""
   ]
  },
  {
   "cell_type": "code",
   "execution_count": 20,
   "metadata": {},
   "outputs": [
    {
     "name": "stdout",
     "output_type": "stream",
     "text": [
      "\u001b[01;31m\u001b[KLinux is Goooood\u001b[m\u001b[K Operating System\n"
     ]
    }
   ],
   "source": [
    "echo \"Linux is Goooood Operating System\" | grep \"^.*od\""
   ]
  },
  {
   "cell_type": "markdown",
   "metadata": {},
   "source": [
    "##### **+ - Match one or more of the preceeding item**"
   ]
  },
  {
   "cell_type": "code",
   "execution_count": 21,
   "metadata": {},
   "outputs": [
    {
     "name": "stdout",
     "output_type": "stream",
     "text": [
      "Linux is \u001b[01;31m\u001b[KG\u001b[m\u001b[Koooood Operating System\n"
     ]
    }
   ],
   "source": [
    "echo \"Linux is Goooood Operating System\" | grep -E \"G+\""
   ]
  },
  {
   "cell_type": "code",
   "execution_count": 22,
   "metadata": {},
   "outputs": [
    {
     "name": "stdout",
     "output_type": "stream",
     "text": [
      "Linux is \u001b[01;31m\u001b[KGooooo\u001b[m\u001b[Kd Operating System\n"
     ]
    }
   ],
   "source": [
    "echo \"Linux is Goooood Operating System\" | grep -E \"Go+\""
   ]
  },
  {
   "cell_type": "markdown",
   "metadata": {},
   "source": [
    "##### **? - Match zero or one of the preceeding item**"
   ]
  },
  {
   "cell_type": "code",
   "execution_count": 23,
   "metadata": {},
   "outputs": [
    {
     "name": "stdout",
     "output_type": "stream",
     "text": [
      "Linux is \u001b[01;31m\u001b[KG\u001b[m\u001b[Koooood Operating System\n"
     ]
    }
   ],
   "source": [
    "echo \"Linux is Goooood Operating System\" | grep -E \"G?\""
   ]
  },
  {
   "cell_type": "code",
   "execution_count": 24,
   "metadata": {},
   "outputs": [
    {
     "name": "stdout",
     "output_type": "stream",
     "text": [
      "Linux is \u001b[01;31m\u001b[KGo\u001b[m\u001b[Kooood Operating System\n"
     ]
    }
   ],
   "source": [
    "echo \"Linux is Goooood Operating System\" | grep -E \"Go?\""
   ]
  },
  {
   "cell_type": "code",
   "execution_count": null,
   "metadata": {},
   "outputs": [],
   "source": []
  }
 ],
 "metadata": {
  "kernelspec": {
   "display_name": "Bash",
   "language": "bash",
   "name": "bash"
  },
  "language_info": {
   "codemirror_mode": "shell",
   "file_extension": ".sh",
   "mimetype": "text/x-sh",
   "name": "bash"
  }
 },
 "nbformat": 4,
 "nbformat_minor": 4
}
