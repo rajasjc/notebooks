{
 "cells": [
  {
   "cell_type": "markdown",
   "metadata": {},
   "source": [
    "### **How To Check Whether Server Up Or Down?**"
   ]
  },
  {
   "cell_type": "markdown",
   "metadata": {},
   "source": [
    "#### **Using uptime**"
   ]
  },
  {
   "cell_type": "code",
   "execution_count": 4,
   "metadata": {},
   "outputs": [
    {
     "name": "stdout",
     "output_type": "stream",
     "text": [
      "Host UP.\n"
     ]
    }
   ],
   "source": [
    "from subprocess import Popen,PIPE\n",
    "\n",
    "args = dict(stdin=PIPE, stdout=PIPE, stderr=PIPE)\n",
    "command = 'ssh -t mana@joe \"uptime\"'\n",
    "\n",
    "try:\n",
    "    ssh = Popen(command.split(), **args)\n",
    "    stat = ssh.stdout.read().decode().split()[1]\n",
    "except:\n",
    "    print('Host Down.')\n",
    "else:\n",
    "    print(f'Host {stat.upper()}.')"
   ]
  },
  {
   "cell_type": "markdown",
   "metadata": {},
   "source": [
    "#### **Using ping**"
   ]
  },
  {
   "cell_type": "code",
   "execution_count": 4,
   "metadata": {},
   "outputs": [
    {
     "name": "stdout",
     "output_type": "stream",
     "text": [
      "Host UP.\n"
     ]
    }
   ],
   "source": [
    "from subprocess import PIPE, run\n",
    "\n",
    "args = dict(stdin=PIPE, stdout=PIPE, stderr=PIPE)\n",
    "command = 'ping -c3 joe'\n",
    "ssh = run(command.split(), **args)\n",
    "try:\n",
    "    stat = ssh.stdout.decode().splitlines()[6]\n",
    "except:\n",
    "    print('Host Down.')\n",
    "else:\n",
    "    print(f'Host UP.')"
   ]
  }
 ],
 "metadata": {
  "kernelspec": {
   "display_name": "Python 3",
   "language": "python",
   "name": "python3"
  },
  "language_info": {
   "codemirror_mode": {
    "name": "ipython",
    "version": 3
   },
   "file_extension": ".py",
   "mimetype": "text/x-python",
   "name": "python",
   "nbconvert_exporter": "python",
   "pygments_lexer": "ipython3",
   "version": "3.6.9"
  },
  "widgets": {
   "application/vnd.jupyter.widget-state+json": {
    "state": {},
    "version_major": 2,
    "version_minor": 0
   }
  }
 },
 "nbformat": 4,
 "nbformat_minor": 2
}
