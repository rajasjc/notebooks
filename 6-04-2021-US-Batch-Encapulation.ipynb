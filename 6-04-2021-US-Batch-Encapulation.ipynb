{
 "cells": [
  {
   "cell_type": "markdown",
   "metadata": {},
   "source": [
    "##### **Modified data outside of class**"
   ]
  },
  {
   "cell_type": "code",
   "execution_count": 4,
   "metadata": {},
   "outputs": [
    {
     "name": "stdout",
     "output_type": "stream",
     "text": [
      "Balck\n",
      "Red\n",
      "Red\n"
     ]
    }
   ],
   "source": [
    "class A:\n",
    "    color = 'Balck'\n",
    "    \n",
    "    def display(self):\n",
    "        print(self.color)\n",
    "\n",
    "obj = A()\n",
    "print(obj.color)\n",
    "obj.color = 'Red'\n",
    "print(obj.color)\n",
    "obj.display()"
   ]
  },
  {
   "cell_type": "markdown",
   "metadata": {},
   "source": [
    "<p style=\"padding-left:85px;color:blue;font-size:16px;font-weight:bolder;\">What is Encapsulation?</p>\n",
    "\n",
    "<p style=\"padding-left:85px;color:black;font-size:15px;font-weight:bolder;\">&#8658; In Python OOP, We can restrict access to Data and Methods called as Data hiding.</p> \n",
    "<p style=\"padding-left:85px;color:black;font-size:15px;font-weight:bolder;\">&#8658; We can prevent data from direct modification which is called encapsulation.</p> \n",
    "<p style=\"padding-left:85px;color:black;font-size:15px;font-weight:bolder;\">&#8658; In Python, Encapsulation denote underscore as prefix <br>&emsp;i.e single “ _ “ or double “ __“.</p>\n",
    "<p style=\"padding-left:85px;color:black;font-size:15px;font-weight:bolder;\">&#9830; _ means Protect</p>\n",
    "<p style=\"padding-left:85px;color:black;font-size:15px;font-weight:bolder;\">&#9830; __means Private</p>"
   ]
  },
  {
   "cell_type": "markdown",
   "metadata": {},
   "source": [
    "<p style=\"padding-left:85px;color:blue;font-size:16px;font-weight:bolder;\">Data & Method Encapsulation:</p>\n",
    "<p style=\"padding-left:85px;color:blue;font-size:15px;font-weight:bolder;\">Python has two type of Encapsulation:</p>\n",
    "<p style=\"padding-left:125px;color:black;font-size:15px;font-weight:bolder;\">1. Protect </p>\n",
    "<p style=\"padding-left:125px;color:black;font-size:15px;font-weight:bolder;\">2. Private \n",
    "</p>"
   ]
  },
  {
   "cell_type": "markdown",
   "metadata": {},
   "source": [
    "<p style=\"padding-left:85px;color:blue;font-size:15px;font-weight:bolder;\">Protect(non-public) </p>\n",
    "<p style=\"padding-left:85px;color:black;font-size:15px;font-weight:bolder;\">&#8658; The members(Data or Method) declared as Protected are accessible from<br>&emsp; outside the class. Derived or Subclass can access parent class of protected data.</p>\n",
    "<p style=\"padding-left:85px;color:black;font-size:15px;font-weight:bolder;\">&#8658; Protect denote _(single underscore) to members makes it protected.</p>\n",
    "<p style=\"padding-left:85px;color:black;font-size:15px;font-weight:bolder;\">&#8658; Protect members can access or modify from outside of class.</p>"
   ]
  },
  {
   "cell_type": "code",
   "execution_count": 5,
   "metadata": {},
   "outputs": [
    {
     "name": "stdout",
     "output_type": "stream",
     "text": [
      "Micheal\n",
      "Manavalan\n"
     ]
    }
   ],
   "source": [
    "class Employee:\n",
    "    def __init__(self):\n",
    "        self._name = 'Micheal'\n",
    "\n",
    "emp = Employee()\n",
    "print(emp._name)\n",
    "emp._name = 'Manavalan'\n",
    "print(emp._name)"
   ]
  },
  {
   "cell_type": "markdown",
   "metadata": {},
   "source": [
    "<p style=\"padding-left:85px;color:blue;font-size:15px;font-weight:bolder;\"> Access Protect data from Subclass.</p>"
   ]
  },
  {
   "cell_type": "code",
   "execution_count": 6,
   "metadata": {},
   "outputs": [
    {
     "data": {
      "text/plain": [
       "'Micheal'"
      ]
     },
     "execution_count": 6,
     "metadata": {},
     "output_type": "execute_result"
    }
   ],
   "source": [
    "class Employee:\n",
    "    def __init__(self):\n",
    "        self._name = 'Micheal'\n",
    "\n",
    "class HR(Employee):\n",
    "    def task(self):\n",
    "        print (\"We manage Employees.\")\n",
    "hremp = HR()\n",
    "hremp._name"
   ]
  },
  {
   "cell_type": "markdown",
   "metadata": {},
   "source": []
  },
  {
   "cell_type": "markdown",
   "metadata": {},
   "source": [
    "<p style=\"padding-left:85px;color:blue;font-size:15px;font-weight:bolder;\">Private </p>\n",
    "<p style=\"padding-left:85px;color:black;font-size:15px;font-weight:bolder;\">&#8658; These members(Data or Method) are only accessible from within the class. <br>&emsp; No outside Access is allowed.</p>\n",
    "<p style=\"padding-left:85px;color:black;font-size:15px;font-weight:bolder;\">&#8658; Private denote __(double underscore) to members makes it private.</p>"
   ]
  },
  {
   "cell_type": "markdown",
   "metadata": {},
   "source": [
    "<h4 style=\"padding-left:45px;font-size:14px;font-weight:bolder\">If we want to access the private data, we will get an error.</h4>"
   ]
  },
  {
   "cell_type": "code",
   "execution_count": 7,
   "metadata": {},
   "outputs": [
    {
     "ename": "AttributeError",
     "evalue": "'Employee' object has no attribute '__name'",
     "output_type": "error",
     "traceback": [
      "\u001b[0;31m---------------------------------------------------------------------------\u001b[0m",
      "\u001b[0;31mAttributeError\u001b[0m                            Traceback (most recent call last)",
      "\u001b[0;32m<ipython-input-7-9ad95b9c001b>\u001b[0m in \u001b[0;36m<module>\u001b[0;34m\u001b[0m\n\u001b[1;32m      4\u001b[0m \u001b[0;34m\u001b[0m\u001b[0m\n\u001b[1;32m      5\u001b[0m \u001b[0memp\u001b[0m \u001b[0;34m=\u001b[0m \u001b[0mEmployee\u001b[0m\u001b[0;34m(\u001b[0m\u001b[0;34m)\u001b[0m\u001b[0;34m\u001b[0m\u001b[0;34m\u001b[0m\u001b[0m\n\u001b[0;32m----> 6\u001b[0;31m \u001b[0memp\u001b[0m\u001b[0;34m.\u001b[0m\u001b[0m__name\u001b[0m\u001b[0;34m\u001b[0m\u001b[0;34m\u001b[0m\u001b[0m\n\u001b[0m",
      "\u001b[0;31mAttributeError\u001b[0m: 'Employee' object has no attribute '__name'"
     ]
    }
   ],
   "source": [
    "class Employee:\n",
    "    def __init__(self):\n",
    "        self.__name = 'Micheal'\n",
    "        \n",
    "emp = Employee()\n",
    "emp.__name"
   ]
  },
  {
   "cell_type": "code",
   "execution_count": 8,
   "metadata": {},
   "outputs": [
    {
     "data": {
      "text/plain": [
       "'Micheal'"
      ]
     },
     "execution_count": 8,
     "metadata": {},
     "output_type": "execute_result"
    }
   ],
   "source": [
    "class Employee:\n",
    "    def __init__(self):\n",
    "        self._name = 'Micheal'\n",
    "        \n",
    "emp = Employee()\n",
    "emp._name"
   ]
  },
  {
   "cell_type": "code",
   "execution_count": 9,
   "metadata": {},
   "outputs": [
    {
     "data": {
      "text/plain": [
       "'Micheal'"
      ]
     },
     "execution_count": 9,
     "metadata": {},
     "output_type": "execute_result"
    }
   ],
   "source": [
    "class Employee:\n",
    "    def __init__(self):\n",
    "        self.name = 'Micheal'\n",
    "        \n",
    "emp = Employee()\n",
    "emp.name"
   ]
  },
  {
   "cell_type": "markdown",
   "metadata": {},
   "source": [
    "<p style=\"padding-left:85px;color:blue;font-size:15px;font-weight:bolder;\"> Try To Modify Private Data.</p>"
   ]
  },
  {
   "cell_type": "code",
   "execution_count": 10,
   "metadata": {},
   "outputs": [
    {
     "name": "stdout",
     "output_type": "stream",
     "text": [
      "Micheal\n"
     ]
    }
   ],
   "source": [
    "class Employee:\n",
    "    def __init__(self):\n",
    "        self.__name = 'Micheal'\n",
    "        \n",
    "    def show(self):\n",
    "        print(f'{self.__name}')\n",
    "        \n",
    "emp = Employee() \n",
    "emp.show()"
   ]
  },
  {
   "cell_type": "code",
   "execution_count": 12,
   "metadata": {},
   "outputs": [
    {
     "name": "stdout",
     "output_type": "stream",
     "text": [
      "Micheal\n"
     ]
    }
   ],
   "source": [
    "#Now Change to Age\n",
    "emp.__name = 'Manavalan'\n",
    "emp.show()"
   ]
  },
  {
   "cell_type": "markdown",
   "metadata": {},
   "source": [
    "In the above program,\n",
    "\n",
    "We defined a class Employee. We use __init__() method to store the name.\n",
    "We tried to modify the name.\n",
    "\n",
    "However, we can’t change it because Python treats the __name as private attributes."
   ]
  },
  {
   "cell_type": "markdown",
   "metadata": {},
   "source": [
    "<p style=\"padding-left:85px;color:blue;font-size:15px;font-weight:bolder;\">Public, Protect, Private</p>"
   ]
  },
  {
   "cell_type": "code",
   "execution_count": 13,
   "metadata": {},
   "outputs": [
    {
     "name": "stdout",
     "output_type": "stream",
     "text": [
      "Micheal\n",
      "Micheal\n"
     ]
    },
    {
     "ename": "AttributeError",
     "evalue": "'Employee' object has no attribute '__name'",
     "output_type": "error",
     "traceback": [
      "\u001b[0;31m---------------------------------------------------------------------------\u001b[0m",
      "\u001b[0;31mAttributeError\u001b[0m                            Traceback (most recent call last)",
      "\u001b[0;32m<ipython-input-13-8bbd675ae3a9>\u001b[0m in \u001b[0;36m<module>\u001b[0;34m\u001b[0m\n\u001b[1;32m      8\u001b[0m \u001b[0mprint\u001b[0m\u001b[0;34m(\u001b[0m\u001b[0memp\u001b[0m\u001b[0;34m.\u001b[0m\u001b[0mname\u001b[0m\u001b[0;34m)\u001b[0m\u001b[0;34m\u001b[0m\u001b[0;34m\u001b[0m\u001b[0m\n\u001b[1;32m      9\u001b[0m \u001b[0mprint\u001b[0m\u001b[0;34m(\u001b[0m\u001b[0memp\u001b[0m\u001b[0;34m.\u001b[0m\u001b[0m_name\u001b[0m\u001b[0;34m)\u001b[0m\u001b[0;34m\u001b[0m\u001b[0;34m\u001b[0m\u001b[0m\n\u001b[0;32m---> 10\u001b[0;31m \u001b[0mprint\u001b[0m\u001b[0;34m(\u001b[0m\u001b[0memp\u001b[0m\u001b[0;34m.\u001b[0m\u001b[0m__name\u001b[0m\u001b[0;34m)\u001b[0m\u001b[0;34m\u001b[0m\u001b[0;34m\u001b[0m\u001b[0m\n\u001b[0m",
      "\u001b[0;31mAttributeError\u001b[0m: 'Employee' object has no attribute '__name'"
     ]
    }
   ],
   "source": [
    "class Employee:\n",
    "    def __init__(self, name):\n",
    "        self.name = name     # public data\n",
    "        self._name = name    # protected data\n",
    "        self.__name = name   # private data\n",
    "\n",
    "emp = Employee('Micheal')\n",
    "print(emp.name)\n",
    "print(emp._name)\n",
    "print(emp.__name)"
   ]
  },
  {
   "cell_type": "markdown",
   "metadata": {},
   "source": [
    "<p style=\"padding-left:85px;color:blue;font-size:15px;font-weight:bolder;\"> Access Private Data Using Getter Function.</p>"
   ]
  },
  {
   "cell_type": "code",
   "execution_count": 14,
   "metadata": {},
   "outputs": [
    {
     "name": "stdout",
     "output_type": "stream",
     "text": [
      "Micheal\n"
     ]
    }
   ],
   "source": [
    "class Employee:\n",
    "    def __init__(self):\n",
    "        self.__name = 'Micheal'\n",
    "        \n",
    "    # Getter Function\n",
    "    def show(self):\n",
    "        print(f'{self.__name}')\n",
    "        \n",
    "emp = Employee() \n",
    "emp.show()"
   ]
  },
  {
   "cell_type": "code",
   "execution_count": 17,
   "metadata": {},
   "outputs": [
    {
     "name": "stdout",
     "output_type": "stream",
     "text": [
      "Micheal\n"
     ]
    }
   ],
   "source": [
    "class Employee:\n",
    "\n",
    "    def __init__(self, name):\n",
    "        self.__name = name\n",
    "\n",
    "    @property\n",
    "    def show(self):\n",
    "        print(self.__name)\n",
    "    \n",
    "emp = Employee('Micheal')\n",
    "emp.show"
   ]
  },
  {
   "cell_type": "markdown",
   "metadata": {},
   "source": [
    "<p style=\"padding-left:85px;color:blue;font-size:15px;font-weight:bolder;\">Modify Private Data</p>\n",
    "<p style=\"padding-left:85px;color:blue;font-size:15px;font-weight:bolder;\">Modify Private Data Using Setter Function(Set Method)</p>\n",
    "<p style=\"padding-left:85px;color:black;font-size:15px;font-weight:bolder;\"> To change the Private data, We can use a setter function <br>i.e setName() which takes newname as parameter.</p>"
   ]
  },
  {
   "cell_type": "code",
   "execution_count": 22,
   "metadata": {},
   "outputs": [
    {
     "name": "stdout",
     "output_type": "stream",
     "text": [
      "Micheal\n",
      "Manavalan\n"
     ]
    }
   ],
   "source": [
    "class Employee:\n",
    "\n",
    "    def __init__(self):\n",
    "        self.__name = 'Micheal'\n",
    "        \n",
    "    # setter function to change name. \n",
    "    def setName(self, newname):\n",
    "        self.__name = newname\n",
    "        \n",
    "    def show(self):\n",
    "        print(f'{self.__name}')\n",
    "\n",
    "\n",
    "emp = Employee()\n",
    "emp.show()\n",
    "\n",
    "## using setter function to change name.\n",
    "emp.setName('Manavalan')\n",
    "emp.show()"
   ]
  },
  {
   "cell_type": "markdown",
   "metadata": {},
   "source": [
    "<p style=\"padding-left:85px;color:blue;font-size:15px;font-weight:bolder;\"> Access Private Method</p>"
   ]
  },
  {
   "cell_type": "code",
   "execution_count": 23,
   "metadata": {},
   "outputs": [
    {
     "ename": "AttributeError",
     "evalue": "'Employee' object has no attribute '__show'",
     "output_type": "error",
     "traceback": [
      "\u001b[0;31m---------------------------------------------------------------------------\u001b[0m",
      "\u001b[0;31mAttributeError\u001b[0m                            Traceback (most recent call last)",
      "\u001b[0;32m<ipython-input-23-8b15a12168d5>\u001b[0m in \u001b[0;36m<module>\u001b[0;34m\u001b[0m\n\u001b[1;32m      5\u001b[0m \u001b[0;34m\u001b[0m\u001b[0m\n\u001b[1;32m      6\u001b[0m \u001b[0memp\u001b[0m \u001b[0;34m=\u001b[0m \u001b[0mEmployee\u001b[0m\u001b[0;34m(\u001b[0m\u001b[0;34m)\u001b[0m\u001b[0;34m\u001b[0m\u001b[0;34m\u001b[0m\u001b[0m\n\u001b[0;32m----> 7\u001b[0;31m \u001b[0memp\u001b[0m\u001b[0;34m.\u001b[0m\u001b[0m__show\u001b[0m\u001b[0;34m(\u001b[0m\u001b[0;34m)\u001b[0m\u001b[0;34m\u001b[0m\u001b[0;34m\u001b[0m\u001b[0m\n\u001b[0m",
      "\u001b[0;31mAttributeError\u001b[0m: 'Employee' object has no attribute '__show'"
     ]
    }
   ],
   "source": [
    "class Employee:\n",
    "\n",
    "    def __show(self):\n",
    "        print('This is Private Method.')\n",
    "    \n",
    "emp = Employee()\n",
    "emp.__show()"
   ]
  },
  {
   "cell_type": "markdown",
   "metadata": {},
   "source": [
    "<p style=\"padding-left:85px;color:blue;font-size:15px;font-weight:bolder;\"> Access Private Method Using Setter Function</p>\n",
    "<p style=\"padding-left:85px;color:black;font-size:15px;font-weight:normal;\">Calling private method via another method.</p>"
   ]
  },
  {
   "cell_type": "code",
   "execution_count": 24,
   "metadata": {},
   "outputs": [
    {
     "name": "stdout",
     "output_type": "stream",
     "text": [
      "This is Private Method.\n"
     ]
    }
   ],
   "source": [
    "class Employee:\n",
    "\n",
    "    def __show(self):\n",
    "        print('This is Private Method.')\n",
    "        \n",
    "    # Calling private method via another method \n",
    "    def help(self):\n",
    "        return self.__show()\n",
    "    \n",
    "emp = Employee()\n",
    "emp.help()"
   ]
  },
  {
   "cell_type": "code",
   "execution_count": null,
   "metadata": {},
   "outputs": [],
   "source": []
  }
 ],
 "metadata": {
  "kernelspec": {
   "display_name": "Python 3",
   "language": "python",
   "name": "python3"
  },
  "language_info": {
   "codemirror_mode": {
    "name": "ipython",
    "version": 3
   },
   "file_extension": ".py",
   "mimetype": "text/x-python",
   "name": "python",
   "nbconvert_exporter": "python",
   "pygments_lexer": "ipython3",
   "version": "3.6.8"
  }
 },
 "nbformat": 4,
 "nbformat_minor": 4
}
