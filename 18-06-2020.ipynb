{
 "cells": [
  {
   "cell_type": "code",
   "execution_count": 1,
   "metadata": {},
   "outputs": [
    {
     "name": "stdout",
     "output_type": "stream",
     "text": [
      "98:29:a6:6c:12:9b\n"
     ]
    }
   ],
   "source": [
    "from re import findall\n",
    "import uuid\n",
    "haddr = f'{uuid.getnode():x}'\n",
    "print(':'.join(findall('..',haddr)))"
   ]
  },
  {
   "cell_type": "code",
   "execution_count": 2,
   "metadata": {},
   "outputs": [
    {
     "name": "stdout",
     "output_type": "stream",
     "text": [
      "Server Looks normal\n"
     ]
    }
   ],
   "source": [
    "import os\n",
    "\n",
    "if os.getloadavg()[0] > os.cpu_count():\n",
    "    print(\"CPU is going critical stage\")\n",
    "else:\n",
    "    print(\"Server Looks normal\")"
   ]
  },
  {
   "cell_type": "code",
   "execution_count": null,
   "metadata": {},
   "outputs": [],
   "source": [
    "import paramiko\n",
    "ssh = paramiko.SSHClient()\n",
    "ssh.set_missing_host_key_policy(paramiko.AutoAddPolicy())\n",
    "ssh.connect('192.168.56.10', username = 'root', password = 'root123')\n",
    "stdin, stdout, stderr = ssh.exec_command('uptime')\n",
    "print(' '.join(stdout.readlines()))\n",
    "ssh.close()"
   ]
  },
  {
   "cell_type": "code",
   "execution_count": 4,
   "metadata": {},
   "outputs": [
    {
     "name": "stdout",
     "output_type": "stream",
     "text": [
      "0:26:42\n"
     ]
    }
   ],
   "source": [
    "from datetime import timedelta\n",
    "from pathlib import Path\n",
    "p = Path('/proc/uptime').read_text().split()[0]\n",
    "t = timedelta(seconds = float(p))\n",
    "print(str(t).split('.')[0])"
   ]
  },
  {
   "cell_type": "code",
   "execution_count": 1,
   "metadata": {},
   "outputs": [
    {
     "name": "stdout",
     "output_type": "stream",
     "text": [
      "chown                    collections              copy                     copy2                    \n",
      "copyfile                 copyfileobj              copymode                 copystat                 \n",
      "copytree                 disk_usage               errno                    fnmatch                  \n",
      "get_archive_formats      get_terminal_size        get_unpack_formats       getgrnam                 \n",
      "getpwnam                 ignore_patterns          make_archive             move                     \n",
      "os                       register_archive_format  register_unpack_format   rmtree                   \n",
      "stat                     sys                      unpack_archive           unregister_archive_format\n"
     ]
    }
   ],
   "source": [
    "import shutil\n",
    "\n",
    "methods = [i for i  in dir(shutil) if i[0].islower()]\n",
    "fmt = '{:25s}'*4\n",
    "\n",
    "for fn in zip(*[iter(methods)] *4):\n",
    "    print(fmt.format(*fn))\n"
   ]
  },
  {
   "cell_type": "code",
   "execution_count": 3,
   "metadata": {},
   "outputs": [
    {
     "name": "stdout",
     "output_type": "stream",
     "text": [
      "Initd System\n"
     ]
    }
   ],
   "source": [
    "from pathlib import Path\n",
    "\n",
    "pro = Path('/proc/1/status').read_text().splitlines()[0]\n",
    "\n",
    "if pro.split()[1] == 'systemd':\n",
    "    print(\"Systemd System\")\n",
    "else:\n",
    "    print(\"Initd System\")"
   ]
  },
  {
   "cell_type": "code",
   "execution_count": 3,
   "metadata": {},
   "outputs": [
    {
     "data": {
      "text/plain": [
       "os.terminal_size(columns=120, lines=30)"
      ]
     },
     "execution_count": 3,
     "metadata": {},
     "output_type": "execute_result"
    }
   ],
   "source": [
    "import shutil \n",
    "shutil.get_terminal_size()"
   ]
  },
  {
   "cell_type": "code",
   "execution_count": 8,
   "metadata": {},
   "outputs": [
    {
     "name": "stdout",
     "output_type": "stream",
     "text": [
      "Number of Repeated Words: 6\n",
      "Number of Repeated Words: 6\n"
     ]
    }
   ],
   "source": [
    "# Logic 1 \n",
    "\n",
    "from pathlib import Path\n",
    "from re import findall\n",
    "\n",
    "file = Path('/root/work/pattern.txt').read_text()\n",
    "noofccurence = len(findall(r'Linux',file))\n",
    "print(f'Number of Repeated Words: {noofccurence}')\n",
    "\n",
    "\n",
    "\n",
    "#Logic 2 \n",
    "from re import findall\n",
    "print(f\"Number of Repeated Words: {len(findall(r'Linux',open('/root/work/pattern.txt').read()))}\")"
   ]
  },
  {
   "cell_type": "code",
   "execution_count": 1,
   "metadata": {},
   "outputs": [
    {
     "name": "stdout",
     "output_type": "stream",
     "text": [
      "I am in Class\n"
     ]
    },
    {
     "data": {
      "text/plain": [
       "False"
      ]
     },
     "execution_count": 1,
     "metadata": {},
     "output_type": "execute_result"
    }
   ],
   "source": [
    "class A():\n",
    "    print(\"I am in Class\")\n",
    "    \n",
    "    \n",
    "A() == A()"
   ]
  },
  {
   "cell_type": "markdown",
   "metadata": {},
   "source": [
    "## Find Biggest and Second Biggest number without any function"
   ]
  },
  {
   "cell_type": "code",
   "execution_count": 4,
   "metadata": {},
   "outputs": [
    {
     "name": "stdout",
     "output_type": "stream",
     "text": [
      "Biggest number:95\n",
      "Second Biggest Number:92\n"
     ]
    }
   ],
   "source": [
    "numbers = [ 65,87,20,10,56,92,43,95 ]\n",
    "big=0\n",
    "for number in numbers:\n",
    "    if number >= big:\n",
    "        big=number\n",
    "\n",
    "secbig=0 \n",
    "for i in numbers:\n",
    "    if i != big:\n",
    "        if i >= secbig:\n",
    "         secbig = i \n",
    "\n",
    "print(f\"Biggest number:{big}\\nSecond Biggest Number:{secbig}\")\n",
    "        "
   ]
  },
  {
   "cell_type": "code",
   "execution_count": 1,
   "metadata": {},
   "outputs": [
    {
     "data": {
      "text/plain": [
       "[1, 2, 3, 4, 'a']"
      ]
     },
     "execution_count": 1,
     "metadata": {},
     "output_type": "execute_result"
    }
   ],
   "source": [
    "a=[1,2,3,4,2,'a']\n",
    "con=set(a)\n",
    "list(con)"
   ]
  },
  {
   "cell_type": "code",
   "execution_count": 7,
   "metadata": {},
   "outputs": [
    {
     "data": {
      "text/plain": [
       "str"
      ]
     },
     "execution_count": 7,
     "metadata": {},
     "output_type": "execute_result"
    }
   ],
   "source": [
    "e = 'print(3+4)'\n",
    "type(e)"
   ]
  },
  {
   "cell_type": "code",
   "execution_count": 8,
   "metadata": {},
   "outputs": [
    {
     "name": "stdout",
     "output_type": "stream",
     "text": [
      "7\n"
     ]
    }
   ],
   "source": [
    "exec(e)"
   ]
  },
  {
   "cell_type": "code",
   "execution_count": 9,
   "metadata": {},
   "outputs": [
    {
     "name": "stdout",
     "output_type": "stream",
     "text": [
      "SUM = 15\n"
     ]
    }
   ],
   "source": [
    "program='a = 5\\nb=10\\nprint(\"SUM =\", a+b)'\n",
    "exec(program)"
   ]
  },
  {
   "cell_type": "code",
   "execution_count": 12,
   "metadata": {},
   "outputs": [
    {
     "name": "stdout",
     "output_type": "stream",
     "text": [
      "25 36 49 64 81\n"
     ]
    }
   ],
   "source": [
    "kanna = map(lambda x:x**2,range(5,10))\n",
    "print(*kanna)"
   ]
  },
  {
   "cell_type": "code",
   "execution_count": 5,
   "metadata": {},
   "outputs": [
    {
     "name": "stdout",
     "output_type": "stream",
     "text": [
      "6 9 12\n"
     ]
    }
   ],
   "source": [
    "kanna3 = filter(lambda x:x%3 ==0, range(5,15))\n",
    "\n",
    "print(*kanna3)"
   ]
  },
  {
   "cell_type": "code",
   "execution_count": 15,
   "metadata": {
    "scrolled": true
   },
   "outputs": [
    {
     "name": "stdout",
     "output_type": "stream",
     "text": [
      "f405ecb058c15aecc84e33e72adcc671\n"
     ]
    }
   ],
   "source": [
    "from pathlib import Path\n",
    "from hashlib import md5 \n",
    "\n",
    "\n",
    "P = Path('/root/work/pattern.txt').read_bytes()\n",
    "print(md5(P).hexdigest())"
   ]
  },
  {
   "cell_type": "code",
   "execution_count": 19,
   "metadata": {},
   "outputs": [
    {
     "name": "stdout",
     "output_type": "stream",
     "text": [
      "f405ecb058c15aecc84e33e72adcc671 /root/work/pattern.txt\n"
     ]
    }
   ],
   "source": [
    "from pathlib import Path\n",
    "from hashlib import md5 \n",
    "\n",
    "P = Path('/root/work/pattern.txt')\n",
    "\n",
    "print(md5(P.read_bytes()).hexdigest(),P)\n"
   ]
  },
  {
   "cell_type": "code",
   "execution_count": 2,
   "metadata": {},
   "outputs": [
    {
     "name": "stdout",
     "output_type": "stream",
     "text": [
      "LAPTOP-SKCAFKFQ\n"
     ]
    }
   ],
   "source": [
    "from socket import gethostname \n",
    "\n",
    "name= gethostname()\n",
    "print(name)"
   ]
  },
  {
   "cell_type": "code",
   "execution_count": 3,
   "metadata": {},
   "outputs": [
    {
     "ename": "ModuleNotFoundError",
     "evalue": "No module named 'boto3'",
     "output_type": "error",
     "traceback": [
      "\u001b[0;31m---------------------------------------------------------------------------\u001b[0m",
      "\u001b[0;31mModuleNotFoundError\u001b[0m                       Traceback (most recent call last)",
      "\u001b[0;32m<ipython-input-3-5c43c86c018e>\u001b[0m in \u001b[0;36m<module>\u001b[0;34m()\u001b[0m\n\u001b[0;32m----> 1\u001b[0;31m \u001b[0;32mimport\u001b[0m \u001b[0mboto3\u001b[0m\u001b[0;34m\u001b[0m\u001b[0;34m\u001b[0m\u001b[0m\n\u001b[0m",
      "\u001b[0;31mModuleNotFoundError\u001b[0m: No module named 'boto3'"
     ]
    }
   ],
   "source": [
    "import boto3"
   ]
  },
  {
   "cell_type": "code",
   "execution_count": null,
   "metadata": {},
   "outputs": [],
   "source": []
  }
 ],
 "metadata": {
  "kernelspec": {
   "display_name": "Python 3",
   "language": "python",
   "name": "python3"
  },
  "language_info": {
   "codemirror_mode": {
    "name": "ipython",
    "version": 3
   },
   "file_extension": ".py",
   "mimetype": "text/x-python",
   "name": "python",
   "nbconvert_exporter": "python",
   "pygments_lexer": "ipython3",
   "version": "3.6.9"
  }
 },
 "nbformat": 4,
 "nbformat_minor": 2
}
