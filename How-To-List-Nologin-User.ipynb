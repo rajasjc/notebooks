{
 "cells": [
  {
   "cell_type": "markdown",
   "metadata": {},
   "source": [
    "### **How To List Nologin User?**"
   ]
  },
  {
   "cell_type": "code",
   "execution_count": 1,
   "metadata": {},
   "outputs": [
    {
     "name": "stdout",
     "output_type": "stream",
     "text": [
      "daemon\n",
      "bin\n",
      "sys\n",
      "games\n",
      "man\n",
      "lp\n",
      "mail\n",
      "news\n",
      "uucp\n",
      "proxy\n",
      "www-data\n",
      "backup\n",
      "list\n",
      "irc\n",
      "gnats\n",
      "nobody\n",
      "systemd-network\n",
      "systemd-resolve\n",
      "syslog\n",
      "messagebus\n",
      "_apt\n",
      "uuidd\n",
      "avahi-autoipd\n",
      "usbmux\n",
      "dnsmasq\n",
      "rtkit\n",
      "cups-pk-helper\n",
      "kernoops\n",
      "saned\n",
      "pulse\n",
      "nm-openvpn\n",
      "avahi\n",
      "colord\n",
      "geoclue\n",
      "sshd\n"
     ]
    }
   ],
   "source": [
    "%%bash\n",
    "\n",
    "awk -F \":\" '/nologin$/{print $1}' <<< $(getent passwd)"
   ]
  },
  {
   "cell_type": "code",
   "execution_count": 2,
   "metadata": {},
   "outputs": [
    {
     "name": "stdout",
     "output_type": "stream",
     "text": [
      "daemon           bin              sys              games            man              \n",
      "lp               mail             news             uucp             proxy            \n",
      "www-data         backup           list             irc              gnats            \n",
      "nobody           systemd-network  systemd-resolve  syslog           messagebus       \n",
      "_apt             uuidd            avahi-autoipd    usbmux           dnsmasq          \n",
      "rtkit            cups-pk-helper   kernoops         saned            pulse            \n",
      "nm-openvpn       avahi            colord           geoclue          sshd             \n"
     ]
    }
   ],
   "source": [
    "%%python3\n",
    "\n",
    "import pwd\n",
    "\n",
    "nologin_user = [i.pw_name for i in pwd.getpwall() \n",
    "                if i.pw_shell.endswith('nologin')]\n",
    "fmt = '{:17s}'*5\n",
    "\n",
    "for user in zip(*[iter(nologin_user)] *5):\n",
    "    print(fmt.format(*user))"
   ]
  }
 ],
 "metadata": {
  "kernelspec": {
   "display_name": "Python 3",
   "language": "python",
   "name": "python3"
  },
  "language_info": {
   "codemirror_mode": {
    "name": "ipython",
    "version": 3
   },
   "file_extension": ".py",
   "mimetype": "text/x-python",
   "name": "python",
   "nbconvert_exporter": "python",
   "pygments_lexer": "ipython3",
   "version": "3.6.9"
  },
  "widgets": {
   "application/vnd.jupyter.widget-state+json": {
    "state": {},
    "version_major": 2,
    "version_minor": 0
   }
  }
 },
 "nbformat": 4,
 "nbformat_minor": 2
}
