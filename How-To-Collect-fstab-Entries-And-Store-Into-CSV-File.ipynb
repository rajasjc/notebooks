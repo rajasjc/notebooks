{
 "cells": [
  {
   "cell_type": "markdown",
   "metadata": {},
   "source": [
    "### **How To Collect fstab Entries And Store Into CSV File?**"
   ]
  },
  {
   "cell_type": "code",
   "execution_count": 6,
   "metadata": {},
   "outputs": [],
   "source": [
    "%%bash\n",
    "\n",
    "echo \"Device,Mount-Point,FS-Type,Options,Dump,Pass-Num\"\\\n",
    "> fstab.csv\n",
    "grep \"^UUID.*\" /etc/fstab | sed -r 's/\\s+/,/g'>> fstab.csv"
   ]
  },
  {
   "cell_type": "code",
   "execution_count": 7,
   "metadata": {},
   "outputs": [],
   "source": [
    "%%python3\n",
    "\n",
    "from pathlib import Path\n",
    "import csv\n",
    "\n",
    "dpath = Path('/etc/')\n",
    "fstab = (dpath/'fstab').read_text().splitlines()\n",
    "fs = [x.split() for x in fstab if x.startswith('UUID')]\n",
    "fields = ['Device','Mount-Point','FS-Type','Options',\n",
    "          'Dump','Pass-Num']\n",
    "\n",
    "with open('fstab.csv', 'w', newline ='') as csvfile:\n",
    "    wrih = csv.DictWriter(csvfile, fields)\n",
    "    wrir = csv.writer(csvfile)\n",
    "    wrih.writeheader()\n",
    "    wrir.writerows(fs)"
   ]
  },
  {
   "cell_type": "code",
   "execution_count": 8,
   "metadata": {},
   "outputs": [
    {
     "name": "stdout",
     "output_type": "stream",
     "text": [
      "Device,Mount-Point,FS-Type,Options,Dump,Pass-Num\r",
      "\r\n",
      "UUID=6b06e74c-21ef-45b0-bf84-9e7aca824481,/,xfs,defaults,0,0\r",
      "\r\n",
      "UUID=6b06e74c-21ef-45b0-bf84-9e7aca824481,/media/mana/DATA,xfs,defaults,0,0\r",
      "\r\n"
     ]
    }
   ],
   "source": [
    "!cat fstab.csv"
   ]
  }
 ],
 "metadata": {
  "kernelspec": {
   "display_name": "Python 3",
   "language": "python",
   "name": "python3"
  },
  "language_info": {
   "codemirror_mode": {
    "name": "ipython",
    "version": 3
   },
   "file_extension": ".py",
   "mimetype": "text/x-python",
   "name": "python",
   "nbconvert_exporter": "python",
   "pygments_lexer": "ipython3",
   "version": "3.6.8"
  },
  "widgets": {
   "application/vnd.jupyter.widget-state+json": {
    "state": {},
    "version_major": 2,
    "version_minor": 0
   }
  }
 },
 "nbformat": 4,
 "nbformat_minor": 2
}
