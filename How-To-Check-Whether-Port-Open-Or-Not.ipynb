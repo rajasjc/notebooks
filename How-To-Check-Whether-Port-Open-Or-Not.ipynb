{
 "cells": [
  {
   "cell_type": "markdown",
   "metadata": {},
   "source": [
    "### **How To Check Whether Port Open Or Not?**"
   ]
  },
  {
   "cell_type": "code",
   "execution_count": 4,
   "metadata": {},
   "outputs": [
    {
     "name": "stdout",
     "output_type": "stream",
     "text": [
      "Port is open.\n"
     ]
    }
   ],
   "source": [
    "%%python3\n",
    "\n",
    "import socket\n",
    "sock = socket.socket(socket.AF_INET, socket.SOCK_STREAM)\n",
    "result = sock.connect_ex(('example.com', 80))\n",
    "if not result:\n",
    "    print(\"Port is open.\")\n",
    "else:\n",
    "    print(\"Port is not open.\")"
   ]
  },
  {
   "cell_type": "markdown",
   "metadata": {},
   "source": [
    "***"
   ]
  },
  {
   "cell_type": "code",
   "execution_count": 5,
   "metadata": {},
   "outputs": [
    {
     "name": "stdout",
     "output_type": "stream",
     "text": [
      "State       Address:Port\n",
      "CLOSE-WAIT  93.184.216.34:http\n",
      "CLOSE-WAIT  93.184.216.34:http\n"
     ]
    }
   ],
   "source": [
    "%%bash\n",
    "\n",
    "ss -t dst example.com:80 | awk '{print $1, $NF}'| \\\n",
    "column -t"
   ]
  }
 ],
 "metadata": {
  "kernelspec": {
   "display_name": "Python 3",
   "language": "python",
   "name": "python3"
  },
  "language_info": {
   "codemirror_mode": {
    "name": "ipython",
    "version": 3
   },
   "file_extension": ".py",
   "mimetype": "text/x-python",
   "name": "python",
   "nbconvert_exporter": "python",
   "pygments_lexer": "ipython3",
   "version": "3.6.8"
  },
  "widgets": {
   "application/vnd.jupyter.widget-state+json": {
    "state": {},
    "version_major": 2,
    "version_minor": 0
   }
  }
 },
 "nbformat": 4,
 "nbformat_minor": 2
}
