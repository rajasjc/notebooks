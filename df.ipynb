{
 "cells": [
  {
   "cell_type": "markdown",
   "metadata": {},
   "source": [
    "<h3 align=\"center\"><b>df</h3>"
   ]
  },
  {
   "cell_type": "markdown",
   "metadata": {},
   "source": [
    "***"
   ]
  },
  {
   "cell_type": "markdown",
   "metadata": {},
   "source": [
    "#### **Bash:**"
   ]
  },
  {
   "cell_type": "code",
   "execution_count": 1,
   "metadata": {},
   "outputs": [
    {
     "name": "stdout",
     "output_type": "stream",
     "text": [
      "/dev/sda5        29G   20G  9.7G  67% /\n",
      "/dev/sda2        83G  9.9G   74G  12% /media/mana/DATA\n"
     ]
    }
   ],
   "source": [
    "%%bash\n",
    "\n",
    "df -h | grep -Po \"^/dev/(?!.*snap).*\""
   ]
  },
  {
   "cell_type": "markdown",
   "metadata": {},
   "source": [
    "***"
   ]
  },
  {
   "cell_type": "markdown",
   "metadata": {},
   "source": [
    "#### **Python**"
   ]
  },
  {
   "cell_type": "code",
   "execution_count": 2,
   "metadata": {},
   "outputs": [
    {
     "name": "stdout",
     "output_type": "stream",
     "text": [
      "Filesystem \tSize Used Avail Use% Mounted on\n",
      "===============================================\n",
      "/dev/mapper/centos-root \t45G  14G  31G   31%  /\n",
      "/dev/mapper/vdo1 \t1024G 32M  1023G 0%   /vdofs\n"
     ]
    }
   ],
   "source": [
    "%%python3\n",
    "\n",
    "from os import statvfs as svfs\n",
    "from re import compile, search\n",
    "from bisect import bisect\n",
    "from pathlib import Path\n",
    "\n",
    "\n",
    "class DiskUsage:\n",
    "    def __init__(self, file):\n",
    "        self.IO_Block = svfs(file).f_bsize\n",
    "        self.f_blocks = svfs(file).f_blocks\n",
    "        self.f_bfree = svfs(file).f_bfree\n",
    "            \n",
    "    def convert(self, bytes):\n",
    "#        size = [1, 1e+3, 1e+6, 1e+9, 1e+12]      ## GB\n",
    "        size = [1, 2**10, 2**20, 2**30, 2**40]  ## GiB\n",
    "        unit = ['B', 'K', 'M', 'G', 'T']\n",
    "        index = bisect(size, bytes) - 1\n",
    "        return f\"{bytes/size[index]:.0f}{unit[index]}\"\n",
    "        \n",
    "    def size(self):\n",
    "        return self.convert(self.f_blocks*self.IO_Block)\n",
    "        \n",
    "    def free(self):\n",
    "        return self.convert(self.f_bfree*self.IO_Block)\n",
    "    \n",
    "    def used(self):\n",
    "        used = self.f_blocks - self.f_bfree\n",
    "        return self.convert(used*self.IO_Block)\n",
    "    def usep(self):\n",
    "        return f\"{(self.f_blocks - self.f_bfree)/self.f_blocks:.0%}\"\n",
    "\n",
    "comp = compile(r'^/dev/(?!.*(snap|boot|var))')\n",
    "mline = Path('/proc/mounts').read_text().splitlines()\n",
    "fs = [i.split()[:2] for i in mline if comp.search(i)]\n",
    "\n",
    "print(f'{\"Filesystem\":>} \\t{\"Size\":>} {\"Used\":>}', end = ' ')\n",
    "print(f'{\"Avail\":>} {\"Use%\":>} {\"Mounted on\"}')\n",
    "print('='*47)\n",
    "      \n",
    "for x in fs:\n",
    "      disk = DiskUsage(x[1])\n",
    "      print(f'{x[0]} \\t{disk.size():4} {disk.used():4}', end = ' ')\n",
    "      print(f'{disk.free():5} {disk.usep():4} {x[1]}')"
   ]
  },
  {
   "cell_type": "code",
   "execution_count": null,
   "metadata": {},
   "outputs": [],
   "source": []
  }
 ],
 "metadata": {
  "kernelspec": {
   "display_name": "Python 3",
   "language": "python",
   "name": "python3"
  },
  "language_info": {
   "codemirror_mode": {
    "name": "ipython",
    "version": 3
   },
   "file_extension": ".py",
   "mimetype": "text/x-python",
   "name": "python",
   "nbconvert_exporter": "python",
   "pygments_lexer": "ipython3",
   "version": "3.6.8"
  },
  "widgets": {
   "application/vnd.jupyter.widget-state+json": {
    "state": {},
    "version_major": 2,
    "version_minor": 0
   }
  }
 },
 "nbformat": 4,
 "nbformat_minor": 2
}
