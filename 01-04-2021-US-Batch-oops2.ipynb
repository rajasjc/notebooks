{
 "cells": [
  {
   "cell_type": "markdown",
   "metadata": {},
   "source": [
    "##### **How To Access Class Data(Variable) by BMW Object?**"
   ]
  },
  {
   "cell_type": "code",
   "execution_count": null,
   "metadata": {},
   "outputs": [],
   "source": [
    "class Car:\n",
    "    color = 'Black'\n",
    "    def speed(self):\n",
    "        print('BMW car Speed is 300 km/hr.')\n",
    "\n",
    "BMW = Car()\n",
    "BMW.color"
   ]
  },
  {
   "cell_type": "markdown",
   "metadata": {},
   "source": [
    "##### **How To Modify Class Data(Variable) by BMW Object?**"
   ]
  },
  {
   "cell_type": "code",
   "execution_count": 1,
   "metadata": {},
   "outputs": [
    {
     "data": {
      "text/plain": [
       "'Black'"
      ]
     },
     "execution_count": 1,
     "metadata": {},
     "output_type": "execute_result"
    }
   ],
   "source": [
    "class Car:\n",
    "    color = 'Black'\n",
    "    def speed(self):\n",
    "        print('BMW car Speed is 300 km/hr.')\n",
    "\n",
    "BMW = Car()\n",
    "BMW.color"
   ]
  },
  {
   "cell_type": "code",
   "execution_count": 2,
   "metadata": {},
   "outputs": [
    {
     "data": {
      "text/plain": [
       "'Red'"
      ]
     },
     "execution_count": 2,
     "metadata": {},
     "output_type": "execute_result"
    }
   ],
   "source": [
    "BMW.color = 'Red'\n",
    "BMW.color"
   ]
  },
  {
   "cell_type": "code",
   "execution_count": 3,
   "metadata": {},
   "outputs": [],
   "source": [
    "Audi = Car()"
   ]
  },
  {
   "cell_type": "code",
   "execution_count": 4,
   "metadata": {},
   "outputs": [
    {
     "data": {
      "text/plain": [
       "'Black'"
      ]
     },
     "execution_count": 4,
     "metadata": {},
     "output_type": "execute_result"
    }
   ],
   "source": [
    "Audi.color"
   ]
  },
  {
   "cell_type": "markdown",
   "metadata": {},
   "source": [
    "##### **How To Access Class Method by Created Object?**"
   ]
  },
  {
   "cell_type": "code",
   "execution_count": 8,
   "metadata": {},
   "outputs": [
    {
     "name": "stdout",
     "output_type": "stream",
     "text": [
      "BMW car Speed is 300 km/hr.\n"
     ]
    }
   ],
   "source": [
    "class Car:\n",
    "    def speed(self):\n",
    "        print('BMW car Speed is 300 km/hr.')\n",
    "\n",
    "BMW = Car()\n",
    "BMW.speed()"
   ]
  },
  {
   "cell_type": "markdown",
   "metadata": {},
   "source": [
    "##### **How To Access Class Variable and Method by Created Object?**"
   ]
  },
  {
   "cell_type": "code",
   "execution_count": 11,
   "metadata": {},
   "outputs": [
    {
     "name": "stdout",
     "output_type": "stream",
     "text": [
      "Black\n",
      "BMW car color is Black & Speed is 300 km/hr.\n"
     ]
    }
   ],
   "source": [
    "class Car:\n",
    "    color = 'Black'\n",
    "    def speed(self):\n",
    "        print(f'BMW car color is {self.color} & Speed is 300 km/hr.')\n",
    "\n",
    "BMW = Car()\n",
    "print(BMW.color)\n",
    "BMW.speed()"
   ]
  },
  {
   "cell_type": "markdown",
   "metadata": {},
   "source": [
    "##### **How To Pass Argument Value Into Class Method by Created Object?**"
   ]
  },
  {
   "cell_type": "code",
   "execution_count": 12,
   "metadata": {},
   "outputs": [
    {
     "name": "stdout",
     "output_type": "stream",
     "text": [
      "BMW car color is Black & Speed is 300 km/hr.\n"
     ]
    }
   ],
   "source": [
    "class Car:\n",
    "    color = 'Black'\n",
    "    def speed(self, val):\n",
    "        print(f'BMW car color is {self.color} & Speed is {val} km/hr.')\n",
    "\n",
    "BMW = Car()\n",
    "BMW.speed(300)"
   ]
  },
  {
   "cell_type": "markdown",
   "metadata": {},
   "source": [
    "##### **How To Call A Method By Another Method?**"
   ]
  },
  {
   "cell_type": "code",
   "execution_count": 14,
   "metadata": {},
   "outputs": [
    {
     "data": {
      "text/plain": [
       "'Welcome Manavalan'"
      ]
     },
     "execution_count": 14,
     "metadata": {},
     "output_type": "execute_result"
    }
   ],
   "source": [
    "class A:\n",
    "    def method1(self):\n",
    "        return \"Welcome \"\n",
    "    def method2(self, name):\n",
    "        return self.method1() + name\n",
    "    \n",
    "obj = A()\n",
    "obj.method2('Manavalan') "
   ]
  },
  {
   "cell_type": "code",
   "execution_count": 16,
   "metadata": {},
   "outputs": [
    {
     "data": {
      "text/plain": [
       "'Welcome Junaid'"
      ]
     },
     "execution_count": 16,
     "metadata": {},
     "output_type": "execute_result"
    }
   ],
   "source": [
    "class A:\n",
    "    def method1(obj):\n",
    "        return \"Welcome \"\n",
    "    def method2(obj, name):\n",
    "        return obj.method1() + name\n",
    "    \n",
    "obj = A()\n",
    "obj.method2('Junaid')"
   ]
  },
  {
   "cell_type": "markdown",
   "metadata": {},
   "source": [
    "<p style=\"padding-left:75px;color:blue;font-size:15px;font-weight:bolder;\">How To Create multiple different objects on same class?</p>\n",
    "<p style=\"padding-left:85px;color:black;font-size:14px;font-weight:bolder;\">1. You can create multiple different objects that are of the same class.<br><br> 2. However, each object contains independent reference of the variables defined in the class. <br><br>For instance:<br> if we were to define another object with the \"Car\" class and <br>then change color name.</p>\n"
   ]
  },
  {
   "cell_type": "code",
   "execution_count": 18,
   "metadata": {},
   "outputs": [
    {
     "name": "stdout",
     "output_type": "stream",
     "text": [
      "Black\n",
      "Black\n"
     ]
    }
   ],
   "source": [
    "class Car:\n",
    "    color = 'Black'\n",
    "    def speed(self):\n",
    "        print('BMW car Speed is 300 km/hr.')\n",
    "\n",
    "BMW = Car()\n",
    "Audi = Car()\n",
    "print(BMW.color)\n",
    "print(Audi.color)"
   ]
  },
  {
   "cell_type": "markdown",
   "metadata": {},
   "source": [
    "<p style=\"padding-left:75px;color:blue;font-size:18px;font-weight:bolder;\">Initialization or Constructors</p>\n",
    "<p style=\"padding-left:85px;color:blue;font-size:15px;font-weight:bolder;\">What is Initialization?</p>\n",
    "<p style=\"padding-left:95px;color:block;font-size:14px;font-weight:bolder;\">&#8658; \n",
    " Class functions that begins with double underscore (__) are called Initialization</p>\n",
    "<p style=\"padding-left:95px;color:block;font-size:14px;font-weight:bolder;\">&#8658;  \n",
    "Initialization (or initialisation) is the assignment of an initial value for a object.</p>\n",
    "<p style=\"padding-left:95px;color:block;font-size:14px;font-weight:bolder;\">&#8658; This Initialization function called whenever a new object creation.</p>\n",
    "<p style=\"padding-left:95px;color:block;font-size:14px;font-weight:bolder;\">&#8658; This type of function is also called constructors in Object Oriented Programming (OOP).</p>\n",
    "<p style=\"padding-left:95px;color:block;font-size:14px;font-weight:bolder;\">&#8658; The __init__() method is called the constructor and is always called when creating an object. </p>"
   ]
  },
  {
   "cell_type": "markdown",
   "metadata": {},
   "source": [
    "##### **Without initialization**"
   ]
  },
  {
   "cell_type": "code",
   "execution_count": 20,
   "metadata": {},
   "outputs": [
    {
     "name": "stdout",
     "output_type": "stream",
     "text": [
      "BMW car color is Black.\n"
     ]
    }
   ],
   "source": [
    "class Car:        \n",
    "    def car_color(self, color):\n",
    "        return f'car color is {color}.'\n",
    "        \n",
    "BMW = Car()\n",
    "print('BMW',BMW.car_color('Black'))"
   ]
  },
  {
   "cell_type": "code",
   "execution_count": 23,
   "metadata": {},
   "outputs": [
    {
     "name": "stdout",
     "output_type": "stream",
     "text": [
      "car color is Black.\n"
     ]
    }
   ],
   "source": [
    "class Car:        \n",
    "    def car_color(self, color):\n",
    "        print(f'car color is {color}.')\n",
    "        \n",
    "BMW = Car()\n",
    "BMW.car_color('Black')"
   ]
  },
  {
   "cell_type": "markdown",
   "metadata": {},
   "source": [
    "##### **With initialization**"
   ]
  },
  {
   "cell_type": "code",
   "execution_count": 25,
   "metadata": {},
   "outputs": [
    {
     "data": {
      "text/plain": [
       "'White'"
      ]
     },
     "execution_count": 25,
     "metadata": {},
     "output_type": "execute_result"
    }
   ],
   "source": [
    "class Car:\n",
    "    def __init__(self, color):\n",
    "        self.color = color\n",
    "        \n",
    "    def car_color(self):\n",
    "        print(f'car color is {self.color}.')\n",
    "        \n",
    "BMW = Car('Black')\n",
    "BMW.color\n",
    "Audi = Car('White')\n",
    "Audi.color"
   ]
  },
  {
   "cell_type": "code",
   "execution_count": 26,
   "metadata": {},
   "outputs": [
    {
     "data": {
      "text/plain": [
       "'car color is Black.'"
      ]
     },
     "execution_count": 26,
     "metadata": {},
     "output_type": "execute_result"
    }
   ],
   "source": [
    "BMW.car_color()"
   ]
  },
  {
   "cell_type": "code",
   "execution_count": 28,
   "metadata": {},
   "outputs": [
    {
     "data": {
      "text/plain": [
       "'car color is White.'"
      ]
     },
     "execution_count": 28,
     "metadata": {},
     "output_type": "execute_result"
    }
   ],
   "source": [
    "Audi.car_color()"
   ]
  },
  {
   "cell_type": "markdown",
   "metadata": {},
   "source": [
    "<p style=\"padding-left:75px;color:blue;font-size:15px;font-weight:bolder;\">Python In-built class functions</p><br>\n",
    "<table style=\"width:75%;color:black;font-size:14px;font-weight:bolder;\">\n",
    "  <tr>\n",
    "    <th >Function</th>\n",
    "    <th>Description</th>\n",
    "  </tr>\n",
    "  <tr>\n",
    "    <td><b>getattr(obj,name,default)</td>\n",
    "    <td>It is used to access the attribute of the object.</td>\n",
    "  </tr>\n",
    "  <tr>\n",
    "    <td><b>setattr(obj, name,value)</td>\n",
    "    <td>It is used to set a attribute of an object.</td>\n",
    "  </tr>\n",
    "    <tr>\n",
    "    <td><b>hasattr(obj, name)</td>\n",
    "    <td>It returns true if the object contains specific attribute.</td>\n",
    "  </tr>\n",
    "    <tr>\n",
    "    <td><b>delattr(obj, name)</td>\n",
    "    <td>It is used to delete a attribute.</td>\n",
    "  </tr>\n",
    "</table>"
   ]
  },
  {
   "cell_type": "code",
   "execution_count": 31,
   "metadata": {},
   "outputs": [],
   "source": [
    "class Car:\n",
    "    color = 'Black'\n",
    "    def speed(self):\n",
    "        print('BMW car Speed is 300 km/hr.')\n",
    "\n",
    "BMW = Car()\n",
    "Audi = Car()"
   ]
  },
  {
   "cell_type": "code",
   "execution_count": 33,
   "metadata": {},
   "outputs": [
    {
     "data": {
      "text/plain": [
       "'White'"
      ]
     },
     "execution_count": 33,
     "metadata": {},
     "output_type": "execute_result"
    }
   ],
   "source": [
    "class Car:\n",
    "    def __init__(self, color):\n",
    "        self.color = color\n",
    "        \n",
    "    def car_color(self):\n",
    "        print(f'car color is {self.color}.')\n",
    "        \n",
    "BMW = Car('Black')\n",
    "BMW.color\n",
    "Audi = Car('White')\n",
    "Audi.color"
   ]
  },
  {
   "cell_type": "markdown",
   "metadata": {},
   "source": [
    "##### **getattr**"
   ]
  },
  {
   "cell_type": "code",
   "execution_count": 34,
   "metadata": {},
   "outputs": [
    {
     "data": {
      "text/plain": [
       "'Black'"
      ]
     },
     "execution_count": 34,
     "metadata": {},
     "output_type": "execute_result"
    }
   ],
   "source": [
    "getattr(BMW, 'color')"
   ]
  },
  {
   "cell_type": "code",
   "execution_count": 35,
   "metadata": {},
   "outputs": [
    {
     "data": {
      "text/plain": [
       "'White'"
      ]
     },
     "execution_count": 35,
     "metadata": {},
     "output_type": "execute_result"
    }
   ],
   "source": [
    "getattr(Audi, 'color')"
   ]
  },
  {
   "cell_type": "markdown",
   "metadata": {},
   "source": [
    "##### **setattr**"
   ]
  },
  {
   "cell_type": "code",
   "execution_count": 36,
   "metadata": {},
   "outputs": [],
   "source": [
    "setattr(BMW, 'color', 'Yellow')"
   ]
  },
  {
   "cell_type": "code",
   "execution_count": 38,
   "metadata": {},
   "outputs": [
    {
     "data": {
      "text/plain": [
       "'Yellow'"
      ]
     },
     "execution_count": 38,
     "metadata": {},
     "output_type": "execute_result"
    }
   ],
   "source": [
    "getattr(BMW, 'color')"
   ]
  },
  {
   "cell_type": "markdown",
   "metadata": {},
   "source": [
    "##### **hasattr**"
   ]
  },
  {
   "cell_type": "code",
   "execution_count": 39,
   "metadata": {},
   "outputs": [
    {
     "data": {
      "text/plain": [
       "True"
      ]
     },
     "execution_count": 39,
     "metadata": {},
     "output_type": "execute_result"
    }
   ],
   "source": [
    "hasattr(BMW, 'color')"
   ]
  },
  {
   "cell_type": "code",
   "execution_count": 40,
   "metadata": {},
   "outputs": [
    {
     "data": {
      "text/plain": [
       "True"
      ]
     },
     "execution_count": 40,
     "metadata": {},
     "output_type": "execute_result"
    }
   ],
   "source": [
    "hasattr(BMW, 'car_color')"
   ]
  },
  {
   "cell_type": "code",
   "execution_count": 41,
   "metadata": {},
   "outputs": [
    {
     "data": {
      "text/plain": [
       "False"
      ]
     },
     "execution_count": 41,
     "metadata": {},
     "output_type": "execute_result"
    }
   ],
   "source": [
    "hasattr(BMW, 'Junaid')"
   ]
  },
  {
   "cell_type": "markdown",
   "metadata": {},
   "source": [
    "##### **delattr**"
   ]
  },
  {
   "cell_type": "code",
   "execution_count": 42,
   "metadata": {},
   "outputs": [],
   "source": [
    "delattr(BMW, 'color')"
   ]
  },
  {
   "cell_type": "code",
   "execution_count": null,
   "metadata": {},
   "outputs": [],
   "source": [
    "BMW.color"
   ]
  }
 ],
 "metadata": {
  "kernelspec": {
   "display_name": "Python 3",
   "language": "python",
   "name": "python3"
  },
  "language_info": {
   "codemirror_mode": {
    "name": "ipython",
    "version": 3
   },
   "file_extension": ".py",
   "mimetype": "text/x-python",
   "name": "python",
   "nbconvert_exporter": "python",
   "pygments_lexer": "ipython3",
   "version": "3.6.8"
  }
 },
 "nbformat": 4,
 "nbformat_minor": 4
}
