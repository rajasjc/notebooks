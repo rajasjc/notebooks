{
 "cells": [
  {
   "cell_type": "markdown",
   "metadata": {},
   "source": [
    "<h3 align=\"center\"><b>How To Validate Mount Points?</h3>"
   ]
  },
  {
   "cell_type": "code",
   "execution_count": 2,
   "metadata": {},
   "outputs": [
    {
     "name": "stdout",
     "output_type": "stream",
     "text": [
      "All Disks Are Mounted Correctly.\n"
     ]
    }
   ],
   "source": [
    "%%bash\n",
    "\n",
    "\n",
    "fstab_mount=($(awk '/^UUID/{print $2}' /etc/fstab))\n",
    "current_mount=($(grep -P '^/dev/(?!.*snap)' /proc/mounts |\\\n",
    "awk '{print $2}'))\n",
    "\n",
    "\n",
    "for i in ${fstab_mount[@]}\n",
    "do\n",
    "if [[ ${current_mount[@]}  != *\"$i\"* ]]\n",
    "then\n",
    "echo \"These Mount Point Not Mounted:\"\n",
    "grep \"$i\" /etc/fstab | awk '{print $2}'\n",
    "out='fail'\n",
    "fi\n",
    "done\n",
    "if [ -z $out ] \n",
    "then\n",
    "echo \"All Disks Are Mounted Correctly.\"\n",
    "fi"
   ]
  },
  {
   "cell_type": "markdown",
   "metadata": {},
   "source": [
    "***"
   ]
  },
  {
   "cell_type": "code",
   "execution_count": 3,
   "metadata": {},
   "outputs": [
    {
     "name": "stdout",
     "output_type": "stream",
     "text": [
      "All Disks Are Mounted Correctly.\n"
     ]
    }
   ],
   "source": [
    "%%python3\n",
    "\n",
    "from pathlib import Path\n",
    "from re import search\n",
    "\n",
    "\n",
    "fstab_read = Path('/etc/fstab').read_text().splitlines()\n",
    "fstab = {x.split()[1] for x in fstab_read \n",
    "              if x.startswith('UUID')}\n",
    "mounts_read = Path('/proc/mounts').read_text().splitlines()\n",
    "mounts = {y.split()[1] for y in mounts_read \n",
    "          if search(r'^/dev/(?!.*snap)', y)}\n",
    "out = fstab - mounts\n",
    "\n",
    "if not out:\n",
    "    print(\"All Disks Are Mounted Correctly.\")\n",
    "else:\n",
    "    print('These Mount Point Not Mounted:', *out, sep = '\\n')"
   ]
  }
 ],
 "metadata": {
  "kernelspec": {
   "display_name": "Python 3",
   "language": "python",
   "name": "python3"
  },
  "language_info": {
   "codemirror_mode": {
    "name": "ipython",
    "version": 3
   },
   "file_extension": ".py",
   "mimetype": "text/x-python",
   "name": "python",
   "nbconvert_exporter": "python",
   "pygments_lexer": "ipython3",
   "version": "3.6.9"
  },
  "widgets": {
   "application/vnd.jupyter.widget-state+json": {
    "state": {},
    "version_major": 2,
    "version_minor": 0
   }
  }
 },
 "nbformat": 4,
 "nbformat_minor": 2
}
