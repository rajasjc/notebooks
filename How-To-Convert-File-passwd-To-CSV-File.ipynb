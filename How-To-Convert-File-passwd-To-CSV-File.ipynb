{
 "cells": [
  {
   "cell_type": "markdown",
   "metadata": {},
   "source": [
    "### **How To Convert File /etc/passwd To CSV File?**"
   ]
  },
  {
   "cell_type": "code",
   "execution_count": 1,
   "metadata": {},
   "outputs": [],
   "source": [
    "%%python3\n",
    "\n",
    "import csv\n",
    "\n",
    "with open('/etc/passwd', newline = '') as prfile, open('pass.csv', 'w') as pwfile:\n",
    "    csvreader = csv.reader(prfile, delimiter = ':')\n",
    "    writer = csv.writer(pwfile, delimiter = ',',quoting = csv.QUOTE_MINIMAL)\n",
    "    writer.writerows(csvreader)    "
   ]
  },
  {
   "cell_type": "code",
   "execution_count": 3,
   "metadata": {},
   "outputs": [
    {
     "name": "stdout",
     "output_type": "stream",
     "text": [
      "root,x,0,0,root,/root,/bin/bash\r",
      "\r\n",
      "daemon,x,1,1,daemon,/usr/sbin,/usr/sbin/nologin\r",
      "\r\n",
      "bin,x,2,2,bin,/bin,/usr/sbin/nologin\r",
      "\r\n",
      "sys,x,3,3,sys,/dev,/usr/sbin/nologin\r",
      "\r\n",
      "sync,x,4,65534,sync,/bin,/bin/sync\r",
      "\r\n",
      "games,x,5,60,games,/usr/games,/usr/sbin/nologin\r",
      "\r\n",
      "man,x,6,12,man,/var/cache/man,/usr/sbin/nologin\r",
      "\r\n",
      "lp,x,7,7,lp,/var/spool/lpd,/usr/sbin/nologin\r",
      "\r\n",
      "mail,x,8,8,mail,/var/mail,/usr/sbin/nologin\r",
      "\r\n",
      "news,x,9,9,news,/var/spool/news,/usr/sbin/nologin\r",
      "\r\n",
      "uucp,x,10,10,uucp,/var/spool/uucp,/usr/sbin/nologin\r",
      "\r\n",
      "proxy,x,13,13,proxy,/bin,/usr/sbin/nologin\r",
      "\r\n",
      "www-data,x,33,33,www-data,/var/www,/usr/sbin/nologin\r",
      "\r\n",
      "backup,x,34,34,backup,/var/backups,/usr/sbin/nologin\r",
      "\r\n",
      "list,x,38,38,Mailing List Manager,/var/list,/usr/sbin/nologin\r",
      "\r\n",
      "irc,x,39,39,ircd,/var/run/ircd,/usr/sbin/nologin\r",
      "\r\n",
      "gnats,x,41,41,Gnats Bug-Reporting System (admin),/var/lib/gnats,/usr/sbin/nologin\r",
      "\r\n",
      "nobody,x,65534,65534,nobody,/nonexistent,/usr/sbin/nologin\r",
      "\r\n",
      "systemd-network,x,100,102,\"systemd Network Management,,,\",/run/systemd/netif,/usr/sbin/nologin\r",
      "\r\n",
      "systemd-resolve,x,101,103,\"systemd Resolver,,,\",/run/systemd/resolve,/usr/sbin/nologin\r",
      "\r\n"
     ]
    }
   ],
   "source": [
    "!head -20 pass.csv"
   ]
  }
 ],
 "metadata": {
  "kernelspec": {
   "display_name": "Python 3",
   "language": "python",
   "name": "python3"
  },
  "language_info": {
   "codemirror_mode": {
    "name": "ipython",
    "version": 3
   },
   "file_extension": ".py",
   "mimetype": "text/x-python",
   "name": "python",
   "nbconvert_exporter": "python",
   "pygments_lexer": "ipython3",
   "version": "3.6.9"
  },
  "widgets": {
   "application/vnd.jupyter.widget-state+json": {
    "state": {},
    "version_major": 2,
    "version_minor": 0
   }
  }
 },
 "nbformat": 4,
 "nbformat_minor": 2
}
