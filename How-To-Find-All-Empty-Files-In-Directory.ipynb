{
 "cells": [
  {
   "cell_type": "markdown",
   "metadata": {},
   "source": [
    "### **How To Find All Empty Files In Directory?**"
   ]
  },
  {
   "cell_type": "code",
   "execution_count": 1,
   "metadata": {},
   "outputs": [
    {
     "name": "stdout",
     "output_type": "stream",
     "text": [
      "/home/mana/Work/fruit2.txt empty.\n",
      "/home/mana/Work/port.py empty.\n",
      "/home/mana/Work/port.py-bkp empty.\n",
      "/home/mana/Work/log_report.csv empty.\n"
     ]
    }
   ],
   "source": [
    "%%bash\n",
    "\n",
    "find ~/Work/ -type f -empty -exec echo {} empty. \\;"
   ]
  },
  {
   "cell_type": "code",
   "execution_count": 2,
   "metadata": {},
   "outputs": [
    {
     "name": "stdout",
     "output_type": "stream",
     "text": [
      "/home/mana/Work/fruit2.txt\n",
      "/home/mana/Work/port.py\n",
      "/home/mana/Work/port.py-bkp\n",
      "/home/mana/Work/log_report.csv\n"
     ]
    }
   ],
   "source": [
    "%%python3\n",
    "\n",
    "from pathlib import Path\n",
    "\n",
    "dpath = Path('/home/mana/Work')\n",
    "files = [i for i in dpath.iterdir() if i.is_file()]\n",
    "\n",
    "for x in files:\n",
    "    if not x.read_text():\n",
    "        print(x)"
   ]
  }
 ],
 "metadata": {
  "kernelspec": {
   "display_name": "Python 3",
   "language": "python",
   "name": "python3"
  },
  "language_info": {
   "codemirror_mode": {
    "name": "ipython",
    "version": 3
   },
   "file_extension": ".py",
   "mimetype": "text/x-python",
   "name": "python",
   "nbconvert_exporter": "python",
   "pygments_lexer": "ipython3",
   "version": "3.6.9"
  },
  "widgets": {
   "application/vnd.jupyter.widget-state+json": {
    "state": {},
    "version_major": 2,
    "version_minor": 0
   }
  }
 },
 "nbformat": 4,
 "nbformat_minor": 2
}
