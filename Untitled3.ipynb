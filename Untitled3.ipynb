{
 "cells": [
  {
   "cell_type": "code",
   "execution_count": 4,
   "metadata": {},
   "outputs": [
    {
     "name": "stdout",
     "output_type": "stream",
     "text": [
      "A is correct\n",
      "Name is correct\n"
     ]
    }
   ],
   "source": [
    "a=10 \n",
    "b=20\n",
    "\n",
    "\n",
    "if a == 10:  \n",
    "   print(\"A is correct\")\n",
    "    \n",
    "name='Raja'\n",
    "\n",
    "if name == 'Raja':\n",
    "    print(\"Name is correct\")"
   ]
  },
  {
   "cell_type": "code",
   "execution_count": 5,
   "metadata": {},
   "outputs": [
    {
     "name": "stdout",
     "output_type": "stream",
     "text": [
      "B is big\n"
     ]
    }
   ],
   "source": [
    "a=10\n",
    "b=20 \n",
    "\n",
    "\n",
    "if a>b: \n",
    "    print(\"A is big\")\n",
    "else:\n",
    "    print(\"B is big\")"
   ]
  },
  {
   "cell_type": "code",
   "execution_count": 9,
   "metadata": {},
   "outputs": [
    {
     "name": "stdout",
     "output_type": "stream",
     "text": [
      "89 is big\n"
     ]
    }
   ],
   "source": [
    "a=20 \n",
    "b=56\n",
    "c=89\n",
    "\n",
    "if a>b:\n",
    "    if a>c:\n",
    "        print(\"{} is big\".format(a))\n",
    "    else:\n",
    "        print(\"{} is big\".format(c))\n",
    "else:\n",
    "    if b>c:\n",
    "       print(\"{} is big\".format(b))\n",
    "    else:\n",
    "       print(\"{} is big\".format(c))"
   ]
  },
  {
   "cell_type": "code",
   "execution_count": null,
   "metadata": {},
   "outputs": [],
   "source": [
    "print(f\"{.}\")"
   ]
  }
 ],
 "metadata": {
  "kernelspec": {
   "display_name": "Python 3",
   "language": "python",
   "name": "python3"
  },
  "language_info": {
   "codemirror_mode": {
    "name": "ipython",
    "version": 3
   },
   "file_extension": ".py",
   "mimetype": "text/x-python",
   "name": "python",
   "nbconvert_exporter": "python",
   "pygments_lexer": "ipython3",
   "version": "3.6.8"
  }
 },
 "nbformat": 4,
 "nbformat_minor": 4
}
