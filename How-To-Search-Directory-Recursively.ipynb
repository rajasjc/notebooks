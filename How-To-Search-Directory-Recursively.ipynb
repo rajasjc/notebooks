{
 "cells": [
  {
   "cell_type": "markdown",
   "metadata": {},
   "source": [
    "### **How To Search Directory Recursively?**"
   ]
  },
  {
   "cell_type": "code",
   "execution_count": 5,
   "metadata": {},
   "outputs": [
    {
     "name": "stdout",
     "output_type": "stream",
     "text": [
      "Enter Search Directory:Test\n",
      "\"test\" Directory exists.\n"
     ]
    }
   ],
   "source": [
    "%%python3\n",
    "\n",
    "from pathlib import Path\n",
    "\n",
    "mydir = input('Enter Search Directory:').casefold()\n",
    "dir_list = Path('/home/mana/').rglob('Work/*')\n",
    "only_dir = [i.name for i in dir_list if i.is_dir()]\n",
    "if mydir in only_dir:\n",
    "    print(f'\"{mydir}\" Directory exists.')\n",
    "else:\n",
    "    print(f'\"{mydir}\" does not Directory exists.')"
   ]
  },
  {
   "cell_type": "markdown",
   "metadata": {},
   "source": [
    "***"
   ]
  },
  {
   "cell_type": "code",
   "execution_count": 14,
   "metadata": {},
   "outputs": [
    {
     "name": "stdout",
     "output_type": "stream",
     "text": [
      "'test' Directory exists."
     ]
    }
   ],
   "source": [
    "%%bash\n",
    "\n",
    "find /home/mana/Work -type d -iname \"Test\" -printf \"'%f' Directory exists.\""
   ]
  },
  {
   "cell_type": "markdown",
   "metadata": {},
   "source": [
    "***"
   ]
  },
  {
   "cell_type": "code",
   "execution_count": 6,
   "metadata": {},
   "outputs": [
    {
     "name": "stdout",
     "output_type": "stream",
     "text": [
      "'test' Directory exists.\n"
     ]
    }
   ],
   "source": [
    "%%bash\n",
    "\n",
    "mydir=test\n",
    "for i in /home/mana/Work/*\n",
    "do\n",
    "if [[ -d $i ]]\n",
    "then\n",
    "if [[ $(basename $i) == $mydir ]]\n",
    "then\n",
    "echo \"'$mydir' Directory exists.\"\n",
    "fi\n",
    "fi\n",
    "done"
   ]
  }
 ],
 "metadata": {
  "kernelspec": {
   "display_name": "Python 3",
   "language": "python",
   "name": "python3"
  },
  "language_info": {
   "codemirror_mode": {
    "name": "ipython",
    "version": 3
   },
   "file_extension": ".py",
   "mimetype": "text/x-python",
   "name": "python",
   "nbconvert_exporter": "python",
   "pygments_lexer": "ipython3",
   "version": "3.6.9"
  },
  "widgets": {
   "application/vnd.jupyter.widget-state+json": {
    "state": {},
    "version_major": 2,
    "version_minor": 0
   }
  }
 },
 "nbformat": 4,
 "nbformat_minor": 2
}
