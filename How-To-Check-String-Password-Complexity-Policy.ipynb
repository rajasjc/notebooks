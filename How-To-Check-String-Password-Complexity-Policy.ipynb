{
 "cells": [
  {
   "cell_type": "markdown",
   "metadata": {},
   "source": [
    "### **How To Check String Password Complexity Policy?**"
   ]
  },
  {
   "cell_type": "code",
   "execution_count": 3,
   "metadata": {},
   "outputs": [
    {
     "name": "stdout",
     "output_type": "stream",
     "text": [
      "Enter More Than 4 Charcters: 4@pcGJ6\n",
      "Yes.\"4@pcGJ6\" string satisfied complexity policy.\n"
     ]
    }
   ],
   "source": [
    "from re import search\n",
    "\n",
    "usr_inp = input('Enter More Than 4 Charcters: ')\n",
    "passwd =  usr_inp if len(usr_inp) >= 4 else \"\"\n",
    "rgx = ['\\W', '[a-z]', '[A-Z]', '\\d']\n",
    "match = [x for x in rgx if search(x, passwd)]\n",
    "\n",
    "if len(match) == 4:\n",
    "    print(f'Yes.\"{passwd}\" string satisfied complexity policy.')\n",
    "else:\n",
    "    print(f'No.\"{passwd}\"\" string not satisfied complexity policy.')"
   ]
  },
  {
   "cell_type": "markdown",
   "metadata": {},
   "source": [
    "***"
   ]
  },
  {
   "cell_type": "code",
   "execution_count": 2,
   "metadata": {},
   "outputs": [
    {
     "name": "stdout",
     "output_type": "stream",
     "text": [
      "Enter More Than 4 Charcters: weTjk$anjkoRko\n",
      "No.\"weTjk$anjkoRko\"\" string not satisfied complexity policy.\n"
     ]
    }
   ],
   "source": [
    "from re import search\n",
    "\n",
    "usr_inp = input('Enter More Than 4 Charcters: ')\n",
    "passwd =  usr_inp if len(usr_inp) >= 4 else \"\"\n",
    "rgx = ['\\W', '[a-z]', '[A-Z]', '\\d']\n",
    "match = [x for x in rgx if search(x, passwd)]\n",
    "\n",
    "if len(match) == 4:\n",
    "    print(f'Yes.\"{passwd}\" string satisfied complexity policy.')\n",
    "else:\n",
    "    print(f'No.\"{passwd}\"\" string not satisfied complexity policy.')"
   ]
  },
  {
   "cell_type": "markdown",
   "metadata": {},
   "source": [
    "***"
   ]
  },
  {
   "cell_type": "code",
   "execution_count": 4,
   "metadata": {},
   "outputs": [
    {
     "name": "stdout",
     "output_type": "stream",
     "text": [
      "Enter More Than 4 Charcters: Welcome123\n",
      "No.\"Welcome123\"\" string not satisfied complexity policy.\n"
     ]
    }
   ],
   "source": [
    "from re import search\n",
    "\n",
    "usr_inp = input('Enter More Than 4 Charcters: ')\n",
    "passwd =  usr_inp if len(usr_inp) >= 4 else \"\"\n",
    "rgx = ['\\W', '[a-z]', '[A-Z]', '\\d']\n",
    "match = [x for x in rgx if search(x, passwd)]\n",
    "\n",
    "if len(match) == 4:\n",
    "    print(f'Yes.\"{passwd}\" string satisfied complexity policy.')\n",
    "else:\n",
    "    print(f'No.\"{passwd}\"\" string not satisfied complexity policy.')"
   ]
  }
 ],
 "metadata": {
  "kernelspec": {
   "display_name": "Python 3",
   "language": "python",
   "name": "python3"
  },
  "language_info": {
   "codemirror_mode": {
    "name": "ipython",
    "version": 3
   },
   "file_extension": ".py",
   "mimetype": "text/x-python",
   "name": "python",
   "nbconvert_exporter": "python",
   "pygments_lexer": "ipython3",
   "version": "3.6.9"
  },
  "widgets": {
   "application/vnd.jupyter.widget-state+json": {
    "state": {},
    "version_major": 2,
    "version_minor": 0
   }
  }
 },
 "nbformat": 4,
 "nbformat_minor": 2
}
