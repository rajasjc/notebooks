{
 "cells": [
  {
   "cell_type": "markdown",
   "metadata": {},
   "source": [
    "## Check File Hash value for Malware Analysis  "
   ]
  },
  {
   "cell_type": "code",
   "execution_count": 1,
   "metadata": {},
   "outputs": [
    {
     "name": "stdout",
     "output_type": "stream",
     "text": [
      "8edff1e0e45b44d1cef776768312521c Hash Value Matches\n"
     ]
    }
   ],
   "source": [
    "from hashlib import md5\n",
    "from pathlib import Path\n",
    "\n",
    "hash_value ='8edff1e0e45b44d1cef776768312521c'\n",
    "\n",
    "P = Path('/root/work/pattern.txt')\n",
    "\n",
    "msgsum = md5(P.read_bytes()).hexdigest()\n",
    "\n",
    "\n",
    "if hash_value == msgsum:\n",
    "    print(f'{msgsum} Hash Value Matches')\n",
    "else:\n",
    "    print(f'{msgsum} Hash Value does not matches')"
   ]
  },
  {
   "cell_type": "code",
   "execution_count": null,
   "metadata": {},
   "outputs": [],
   "source": [
    "data1 =['Name','Age','City']\n",
    "data2 =['Felix', 15, 'Change']\n",
    "\n",
    "print(dict(zip(data1,data2)))\n",
    "\n",
    "print(list(zip(data1,data2)))"
   ]
  },
  {
   "cell_type": "code",
   "execution_count": 25,
   "metadata": {},
   "outputs": [
    {
     "data": {
      "text/plain": [
       "{15: 'Age', 'Chennai': 'City', 'Felix': 'Name', 'Madurai': None}"
      ]
     },
     "execution_count": 25,
     "metadata": {},
     "output_type": "execute_result"
    }
   ],
   "source": [
    "from itertools import zip_longest\n",
    "\n",
    "data1 =['Name','Age','City']\n",
    "data2 =['Felix', 15, 'Chennai','Madurai']\n",
    "\n",
    "dict(zip_longest(data1,data2,fillvalue=None))\n",
    "\n",
    "dict(zip_longest(data2,data1,fillvalue=None))\n"
   ]
  },
  {
   "cell_type": "code",
   "execution_count": 4,
   "metadata": {},
   "outputs": [
    {
     "data": {
      "text/plain": [
       "0.01941190002253279"
      ]
     },
     "execution_count": 4,
     "metadata": {},
     "output_type": "execute_result"
    }
   ],
   "source": [
    "from timeit import timeit\n",
    "\n",
    "\n",
    "timeit('\"-\".join(str(n) for n in range(100))', number=1000)"
   ]
  },
  {
   "cell_type": "code",
   "execution_count": 7,
   "metadata": {},
   "outputs": [
    {
     "name": "stdout",
     "output_type": "stream",
     "text": [
      "2.6617169000091963\n"
     ]
    }
   ],
   "source": [
    "def test():\n",
    "    ''' Testing function'''\n",
    "    L = [ i for i in range(100)]\n",
    "    \n",
    "\n",
    "if __name__ == '__main__':\n",
    "     from timeit import timeit\n",
    "     print(timeit(\"test()\", setup=\"from __main__ import test\"))"
   ]
  },
  {
   "cell_type": "code",
   "execution_count": 10,
   "metadata": {},
   "outputs": [
    {
     "name": "stdout",
     "output_type": "stream",
     "text": [
      "0.8863352999906056\n"
     ]
    }
   ],
   "source": [
    "from timeit import timeit\n",
    "def f(x):\n",
    "    return x**2\n",
    "def g(x):\n",
    "    return x**4\n",
    "def h(x):\n",
    "    return x**8\n",
    "\n",
    "\n",
    "print(timeit('[func(42) for func in (f,g,h)]', globals=globals()))"
   ]
  },
  {
   "cell_type": "markdown",
   "metadata": {},
   "source": [
    "## Find Execution timing for the function "
   ]
  },
  {
   "cell_type": "code",
   "execution_count": 4,
   "metadata": {},
   "outputs": [
    {
     "name": "stdout",
     "output_type": "stream",
     "text": [
      "0.9160009999977774\n"
     ]
    }
   ],
   "source": [
    "from timeit import timeit\n",
    "\n",
    "def big(a,b):\n",
    "    if a > b:\n",
    "        return a\n",
    "    else:\n",
    "        return b\n",
    "    \n",
    "def small(a,b):\n",
    "    if a < b:\n",
    "        return a\n",
    "    else:\n",
    "        return b\n",
    "\n",
    "print(timeit('[fn(16,4) for fn in (big,small)]', globals=globals()))"
   ]
  },
  {
   "cell_type": "code",
   "execution_count": 14,
   "metadata": {},
   "outputs": [
    {
     "name": "stdout",
     "output_type": "stream",
     "text": [
      "Sat Feb 14 07:31:30 2009\n"
     ]
    }
   ],
   "source": [
    "import time\n",
    "print(time.ctime(1234567890))"
   ]
  },
  {
   "cell_type": "code",
   "execution_count": 2,
   "metadata": {},
   "outputs": [
    {
     "name": "stdout",
     "output_type": "stream",
     "text": [
      "1.296875\n"
     ]
    }
   ],
   "source": [
    "from time import process_time\n",
    "def fn():\n",
    "    print(\"Hi\")\n",
    "    \n",
    "print(process_time())"
   ]
  },
  {
   "cell_type": "code",
   "execution_count": 3,
   "metadata": {},
   "outputs": [
    {
     "name": "stdout",
     "output_type": "stream",
     "text": [
      "0.625\n"
     ]
    }
   ],
   "source": [
    "from time import process_time\n",
    "def fn():\n",
    "    print(\"Hi\")\n",
    "    \n",
    "print(process_time())"
   ]
  },
  {
   "cell_type": "code",
   "execution_count": null,
   "metadata": {},
   "outputs": [],
   "source": []
  }
 ],
 "metadata": {
  "kernelspec": {
   "display_name": "Python 3",
   "language": "python",
   "name": "python3"
  },
  "language_info": {
   "codemirror_mode": {
    "name": "ipython",
    "version": 3
   },
   "file_extension": ".py",
   "mimetype": "text/x-python",
   "name": "python",
   "nbconvert_exporter": "python",
   "pygments_lexer": "ipython3",
   "version": "3.6.8"
  }
 },
 "nbformat": 4,
 "nbformat_minor": 2
}
