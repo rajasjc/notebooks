{
 "cells": [
  {
   "cell_type": "markdown",
   "metadata": {},
   "source": [
    "### **How to view Logs Specific Range Of Time?**"
   ]
  },
  {
   "cell_type": "code",
   "execution_count": 5,
   "metadata": {},
   "outputs": [
    {
     "name": "stdout",
     "output_type": "stream",
     "text": [
      "Apr 19 02:02:19 joe systemd[1]: Started Run anacron jobs.\n",
      "Apr 19 02:02:19 joe anacron[26134]: Anacron 2.3 started on 2020-04-19\n",
      "Apr 19 02:02:19 joe anacron[26134]: Normal exit (0 jobs run)\n",
      "Apr 19 02:03:00 joe org.gnome.Nautilus[1317]: ('Handling file: ', 'file:///home/mana/Code')\n",
      "Apr 19 02:03:00 joe org.gnome.Nautilus[1317]: ('file scheme: ', 'file')\n",
      "Apr 19 02:03:00 joe org.gnome.Nautilus[1317]: RuntimeError: object at 0x7f2b9dca9b40 of type FolderColorMenu is not initialized\n",
      "Apr 19 02:04:41 joe org.gnome.Nautilus[1317]: ('Handling file: ', 'file:///home/mana/Code')\n",
      "Apr 19 02:04:41 joe org.gnome.Nautilus[1317]: ('file scheme: ', 'file')\n",
      "Apr 19 02:04:41 joe org.gnome.Nautilus[1317]: RuntimeError: object at 0x7f2b9dca9b40 of type FolderColorMenu is not initialized\n",
      "Apr 19 02:05:01 joe CRON[26900]: (root) CMD (command -v debian-sa1 > /dev/null && debian-sa1 1 1)\n",
      "Apr 19 02:05:37 joe plank.desktop[1703]: [23287:23287:0419/020537.005074:ERROR:CONSOLE(1)] \"WebSocket connection to 'wss://bifrost.vivaldi.com:15674/ws' failed: Error in connection establishment: net::ERR_CONNECTION_TIMED_OUT\", source: chrome-extension://mpognobbkildjkofajifpdfhcoklimli/background-bundle.js (1)\n",
      "Apr 19 02:06:35 joe plank.desktop[1703]: [23287:23287:0419/020635.409574:ERROR:CONSOLE(0)] \"Unchecked runtime.lastError: Could not find guest\", source: chrome-extension://mpognobbkildjkofajifpdfhcoklimli/browser.html (0)\n",
      "Apr 19 02:06:35 joe plank.desktop[1703]: [23287:23287:0419/020635.409674:ERROR:CONSOLE(0)] \"Unchecked runtime.lastError: Could not find guest\", source: chrome-extension://mpognobbkildjkofajifpdfhcoklimli/browser.html (0)\n",
      "Apr 19 02:06:39 joe gsd-housekeepin[1500]: Failed to enumerate children of /tmp/systemd-private-b2e2b106c56541d2be236f40a38e860c-colord.service-0hbkeO: Error opening directory '/tmp/systemd-private-b2e2b106c56541d2be236f40a38e860c-colord.service-0hbkeO': Permission denied\n",
      "Apr 19 02:06:39 joe gsd-housekeepin[1500]: Failed to enumerate children of /tmp/systemd-private-b2e2b106c56541d2be236f40a38e860c-ModemManager.service-vGukYv: Error opening directory '/tmp/systemd-private-b2e2b106c56541d2be236f40a38e860c-ModemManager.service-vGukYv': Permission denied\n",
      "Apr 19 02:06:39 joe gsd-housekeepin[1500]: Failed to enumerate children of /tmp/systemd-private-b2e2b106c56541d2be236f40a38e860c-systemd-timesyncd.service-9ZXAw3: Error opening directory '/tmp/systemd-private-b2e2b106c56541d2be236f40a38e860c-systemd-timesyncd.service-9ZXAw3': Permission denied\n",
      "Apr 19 02:06:39 joe gsd-housekeepin[1500]: Failed to enumerate children of /tmp/systemd-private-b2e2b106c56541d2be236f40a38e860c-systemd-resolved.service-SWUpYK: Error opening directory '/tmp/systemd-private-b2e2b106c56541d2be236f40a38e860c-systemd-resolved.service-SWUpYK': Permission denied\n",
      "Apr 19 02:06:39 joe gsd-housekeepin[1500]: Failed to enumerate children of /var/tmp/systemd-private-b2e2b106c56541d2be236f40a38e860c-rtkit-daemon.service-Tqhgdv: Error opening directory '/var/tmp/systemd-private-b2e2b106c56541d2be236f40a38e860c-rtkit-daemon.service-Tqhgdv': Permission denied\n",
      "Apr 19 02:06:39 joe gsd-housekeepin[1500]: Failed to enumerate children of /var/tmp/systemd-private-b2e2b106c56541d2be236f40a38e860c-systemd-timesyncd.service-hIwcfU: Error opening directory '/var/tmp/systemd-private-b2e2b106c56541d2be236f40a38e860c-systemd-timesyncd.service-hIwcfU': Permission denied\n",
      "Apr 19 02:06:39 joe gsd-housekeepin[1500]: Failed to enumerate children of /var/tmp/systemd-private-b2e2b106c56541d2be236f40a38e860c-colord.service-2xutMU: Error opening directory '/var/tmp/systemd-private-b2e2b106c56541d2be236f40a38e860c-colord.service-2xutMU': Permission denied\n",
      "Apr 19 02:06:39 joe gsd-housekeepin[1500]: Failed to enumerate children of /var/tmp/systemd-private-b2e2b106c56541d2be236f40a38e860c-systemd-resolved.service-mV8DHB: Error opening directory '/var/tmp/systemd-private-b2e2b106c56541d2be236f40a38e860c-systemd-resolved.service-mV8DHB': Permission denied\n",
      "Apr 19 02:06:39 joe gsd-housekeepin[1500]: Failed to enumerate children of /var/tmp/systemd-private-b2e2b106c56541d2be236f40a38e860c-ModemManager.service-8WOygq: Error opening directory '/var/tmp/systemd-private-b2e2b106c56541d2be236f40a38e860c-ModemManager.service-8WOygq': Permission denied\n",
      "Apr 19 02:06:39 joe gsd-housekeepin[1500]: Failed to enumerate children of /tmp/systemd-private-b2e2b106c56541d2be236f40a38e860c-rtkit-daemon.service-YppFjp: Error opening directory '/tmp/systemd-private-b2e2b106c56541d2be236f40a38e860c-rtkit-daemon.service-YppFjp': Permission denied\n",
      "Apr 19 02:09:53 joe plank.desktop[1703]: [27347:1:0419/020953.625889:ERROR:child_process_sandbox_support_impl_linux.cc(79)] FontService unique font name matching request did not receive a response.\n",
      "Apr 19 02:11:15 joe org.gnome.Nautilus[1317]: ('Handling file: ', 'file:///home/mana/Code')\n",
      "Apr 19 02:11:15 joe org.gnome.Nautilus[1317]: ('file scheme: ', 'file')\n",
      "Apr 19 02:11:15 joe org.gnome.Nautilus[1317]: RuntimeError: object at 0x7f2b9dca9b40 of type FolderColorMenu is not initialized\n",
      "Apr 19 02:11:44 joe org.gnome.Nautilus[1317]: ('Handling file: ', 'file:///home/mana/Code')\n",
      "Apr 19 02:11:44 joe org.gnome.Nautilus[1317]: ('file scheme: ', 'file')\n",
      "Apr 19 02:11:44 joe org.gnome.Nautilus[1317]: RuntimeError: object at 0x7f2b9dca9b40 of type FolderColorMenu is not initialized\n",
      "Apr 19 02:12:53 joe plank.desktop[1703]: [23287:23287:0419/021253.229413:ERROR:CONSOLE(1)] \"WebSocket connection to 'wss://bifrost.vivaldi.com:15674/ws' failed: Error in connection establishment: net::ERR_CONNECTION_TIMED_OUT\", source: chrome-extension://mpognobbkildjkofajifpdfhcoklimli/background-bundle.js (1)\n",
      "Apr 19 02:12:56 joe org.gnome.Nautilus[1317]: ('Handling file: ', 'file:///home/mana/Code')\n",
      "Apr 19 02:12:56 joe org.gnome.Nautilus[1317]: ('file scheme: ', 'file')\n",
      "Apr 19 02:12:56 joe org.gnome.Nautilus[1317]: RuntimeError: object at 0x7f2b9dca9b40 of type FolderColorMenu is not initialized\n",
      "Apr 19 02:15:01 joe CRON[29679]: (root) CMD (command -v debian-sa1 > /dev/null && debian-sa1 1 1)\n",
      "Apr 19 02:15:40 joe org.gnome.Nautilus[1317]: ('Handling file: ', 'file:///home/mana/Code')\n",
      "Apr 19 02:15:40 joe org.gnome.Nautilus[1317]: ('file scheme: ', 'file')\n",
      "Apr 19 02:15:40 joe org.gnome.Nautilus[1317]: RuntimeError: object at 0x7f2b9dca9b40 of type FolderColorMenu is not initialized\n"
     ]
    }
   ],
   "source": [
    "from datetime import datetime, timedelta\n",
    "from pathlib import Path\n",
    "from re import search\n",
    "\n",
    "start_time = 'Apr 19 02:00'\n",
    "end_time = 'Apr 19 02:15'\n",
    "log_lines = Path('/var/log/syslog').read_text().splitlines()\n",
    "\n",
    "for x in log_lines:\n",
    "    log_time = search(r'^\\w{3}\\s+\\d+\\s\\d{2}:\\d{2}',x).group()\n",
    "    if start_time <=  log_time <= end_time:\n",
    "        print(x)"
   ]
  }
 ],
 "metadata": {
  "kernelspec": {
   "display_name": "Python 3",
   "language": "python",
   "name": "python3"
  },
  "language_info": {
   "codemirror_mode": {
    "name": "ipython",
    "version": 3
   },
   "file_extension": ".py",
   "mimetype": "text/x-python",
   "name": "python",
   "nbconvert_exporter": "python",
   "pygments_lexer": "ipython3",
   "version": "3.6.9"
  },
  "widgets": {
   "application/vnd.jupyter.widget-state+json": {
    "state": {},
    "version_major": 2,
    "version_minor": 0
   }
  }
 },
 "nbformat": 4,
 "nbformat_minor": 2
}
