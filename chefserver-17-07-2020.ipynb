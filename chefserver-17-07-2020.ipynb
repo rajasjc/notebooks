{
 "cells": [
  {
   "cell_type": "code",
   "execution_count": 4,
   "metadata": {},
   "outputs": [],
   "source": [
    "arr =[ 10,20,30,40, 'name',20.0]"
   ]
  },
  {
   "cell_type": "code",
   "execution_count": 5,
   "metadata": {},
   "outputs": [
    {
     "name": "stdout",
     "output_type": "stream",
     "text": [
      "[10, 20, 30, 40, 'name', 20.0]\n"
     ]
    }
   ],
   "source": [
    "print(arr)"
   ]
  },
  {
   "cell_type": "code",
   "execution_count": 7,
   "metadata": {},
   "outputs": [
    {
     "name": "stdout",
     "output_type": "stream",
     "text": [
      "======================\n",
      "-6| -5| -4| -3| -2| -1\n",
      "======================\n",
      "P | y | t | h | o | n\n",
      "======================\n",
      "0 | 1 | 2 | 3 | 4 | 5\n"
     ]
    }
   ],
   "source": [
    "name='Python'\n",
    "print('='*22)\n",
    "print(*range(-len(name),0,1),sep='| ')\n",
    "print('='*22)\n",
    "print(*name,sep=' | ')\n",
    "print('='*22)\n",
    "print(*range(len(name)),sep=' | ')"
   ]
  },
  {
   "cell_type": "code",
   "execution_count": 38,
   "metadata": {},
   "outputs": [
    {
     "data": {
      "text/plain": [
       "[10, 40, 'Raja']"
      ]
     },
     "execution_count": 38,
     "metadata": {},
     "output_type": "execute_result"
    }
   ],
   "source": [
    "arr =[ 10,20,30,40, 'name',20.0,\"Raja\"]\n",
    "arr[::3]"
   ]
  },
  {
   "cell_type": "code",
   "execution_count": 40,
   "metadata": {},
   "outputs": [
    {
     "name": "stdout",
     "output_type": "stream",
     "text": [
      "10\n",
      "20\n",
      "30\n",
      "40\n"
     ]
    }
   ],
   "source": [
    "for i in arr:\n",
    "    if type(i) == int:\n",
    "        print(i)"
   ]
  },
  {
   "cell_type": "code",
   "execution_count": 41,
   "metadata": {},
   "outputs": [
    {
     "data": {
      "text/plain": [
       "[10, 20, 30, 40]"
      ]
     },
     "execution_count": 41,
     "metadata": {},
     "output_type": "execute_result"
    }
   ],
   "source": [
    "[i for i in arr if type(i) == int]"
   ]
  },
  {
   "cell_type": "code",
   "execution_count": 47,
   "metadata": {},
   "outputs": [
    {
     "name": "stdout",
     "output_type": "stream",
     "text": [
      "Vinod\n",
      "27\n",
      "Chennai\n"
     ]
    }
   ],
   "source": [
    "details = { 'Name': 'Vinod', 'Age': 27 , 'City': 'Chennai'}\n",
    "\n",
    "for key,value in details.items():\n",
    "      print(value)\n",
    "        \n"
   ]
  },
  {
   "cell_type": "code",
   "execution_count": 59,
   "metadata": {},
   "outputs": [
    {
     "name": "stdout",
     "output_type": "stream",
     "text": [
      "bin\n",
      "daemon\n",
      "adm\n",
      "lp\n",
      "mail\n",
      "operator\n",
      "games\n",
      "ftp\n",
      "nobody\n",
      "systemd-bus-proxy\n",
      "systemd-network\n",
      "dbus\n",
      "polkitd\n",
      "tss\n",
      "sshd\n",
      "postfix\n",
      "chrony\n",
      "apache\n",
      "dockerroot\n",
      "saslauth\n",
      "mailnull\n",
      "smmsp\n"
     ]
    }
   ],
   "source": [
    "from subprocess import getoutput \n",
    "\n",
    "\n",
    "passwd_output = getoutput(\"cat /etc/passwd\")\n",
    "\n",
    "for fields in passwd_output.split('\\n'):\n",
    "        if fields.split(':')[6] == '/sbin/nologin':\n",
    "             print(fields.split(':')[0])\n"
   ]
  },
  {
   "cell_type": "code",
   "execution_count": 61,
   "metadata": {},
   "outputs": [
    {
     "name": "stdout",
     "output_type": "stream",
     "text": [
      "89\n"
     ]
    }
   ],
   "source": [
    "lst = [10,89,67]\n",
    "\n",
    "big=0 \n",
    "\n",
    "for i in lst:\n",
    "    if i >= big:\n",
    "        big=i \n",
    "\n",
    "        \n",
    "print(big)"
   ]
  },
  {
   "cell_type": "markdown",
   "metadata": {},
   "source": [
    "<h2 align='center'> Logic Behind Creating Unique Instance ID in Cloud </h2>"
   ]
  },
  {
   "cell_type": "code",
   "execution_count": 1,
   "metadata": {},
   "outputs": [
    {
     "data": {
      "text/plain": [
       "'jig60dx5tllbdxsg'"
      ]
     },
     "execution_count": 1,
     "metadata": {},
     "output_type": "execute_result"
    }
   ],
   "source": [
    "from random import choice\n",
    "import string\n",
    "\n",
    "def randomstr(length):\n",
    "    return ''.join(choice( \"i\" +string.ascii_lowercase + string.digits) for i in range(length))\n",
    "\n",
    "\n",
    "randomstr(16)"
   ]
  },
  {
   "cell_type": "code",
   "execution_count": null,
   "metadata": {},
   "outputs": [],
   "source": []
  }
 ],
 "metadata": {
  "kernelspec": {
   "display_name": "Python 3",
   "language": "python",
   "name": "python3"
  },
  "language_info": {
   "codemirror_mode": {
    "name": "ipython",
    "version": 3
   },
   "file_extension": ".py",
   "mimetype": "text/x-python",
   "name": "python",
   "nbconvert_exporter": "python",
   "pygments_lexer": "ipython3",
   "version": "3.6.8"
  }
 },
 "nbformat": 4,
 "nbformat_minor": 4
}
