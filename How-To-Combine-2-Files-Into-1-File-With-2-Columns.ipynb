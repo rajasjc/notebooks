{
 "cells": [
  {
   "cell_type": "markdown",
   "metadata": {},
   "source": [
    "### **How To Combine 2 Files Into 1 File With 2 Columns?**"
   ]
  },
  {
   "cell_type": "code",
   "execution_count": 1,
   "metadata": {},
   "outputs": [
    {
     "name": "stdout",
     "output_type": "stream",
     "text": [
      "Manavalan \r\n",
      "Ram\r\n",
      "Xavier\r\n",
      "Gopal\r\n",
      "\r\n"
     ]
    }
   ],
   "source": [
    "!cat /home/mana/Work/name.txt"
   ]
  },
  {
   "cell_type": "code",
   "execution_count": 2,
   "metadata": {},
   "outputs": [
    {
     "name": "stdout",
     "output_type": "stream",
     "text": [
      "32\r\n",
      "18\r\n",
      "21\r\n",
      "43\r\n"
     ]
    }
   ],
   "source": [
    "!cat /home/mana/Work/age.txt"
   ]
  },
  {
   "cell_type": "code",
   "execution_count": 3,
   "metadata": {},
   "outputs": [
    {
     "name": "stdout",
     "output_type": "stream",
     "text": [
      "Manavalan  32\n",
      "Ram        18\n",
      "Xavier     21\n",
      "Gopal      43\n"
     ]
    }
   ],
   "source": [
    "%%bash\n",
    "\n",
    "cd /home/mana/Work\n",
    "paste name.txt age.txt | column -t"
   ]
  },
  {
   "cell_type": "code",
   "execution_count": 4,
   "metadata": {},
   "outputs": [
    {
     "name": "stdout",
     "output_type": "stream",
     "text": [
      "Manavalan   32\n",
      "Ram         18\n",
      "Xavier      21\n",
      "Gopal       43\n"
     ]
    }
   ],
   "source": [
    "%%python3\n",
    "\n",
    "from pathlib import Path\n",
    "\n",
    "dir_path = Path('/home/mana/Work')\n",
    "name = (dir_path/'name.txt').read_text().splitlines()\n",
    "age = (dir_path/'age.txt').read_text().splitlines()\n",
    "for i,j in zip(name,age):\n",
    "    print(f'{i:12}{j}')"
   ]
  }
 ],
 "metadata": {
  "kernelspec": {
   "display_name": "Python 3",
   "language": "python",
   "name": "python3"
  },
  "language_info": {
   "codemirror_mode": {
    "name": "ipython",
    "version": 3
   },
   "file_extension": ".py",
   "mimetype": "text/x-python",
   "name": "python",
   "nbconvert_exporter": "python",
   "pygments_lexer": "ipython3",
   "version": "3.6.9"
  },
  "widgets": {
   "application/vnd.jupyter.widget-state+json": {
    "state": {},
    "version_major": 2,
    "version_minor": 0
   }
  }
 },
 "nbformat": 4,
 "nbformat_minor": 2
}
