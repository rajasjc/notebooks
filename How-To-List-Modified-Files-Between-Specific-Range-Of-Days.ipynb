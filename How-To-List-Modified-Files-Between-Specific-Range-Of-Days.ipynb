{
 "cells": [
  {
   "cell_type": "markdown",
   "metadata": {},
   "source": [
    "### **How To List Modified Files Between Specific Range Of Days?**\n",
    "**Here, I list modified files Apr 08 to Apr 10.**"
   ]
  },
  {
   "cell_type": "code",
   "execution_count": 2,
   "metadata": {},
   "outputs": [
    {
     "name": "stdout",
     "output_type": "stream",
     "text": [
      "/home/mana/Work/map.txt\n",
      "/home/mana/Work/log_report.csv\n"
     ]
    }
   ],
   "source": [
    "%%bash\n",
    "\n",
    "find /home/mana/Work/ -type f -newermt 20200408 \\! \\\n",
    "-newermt 20200410"
   ]
  },
  {
   "cell_type": "code",
   "execution_count": 3,
   "metadata": {},
   "outputs": [
    {
     "name": "stdout",
     "output_type": "stream",
     "text": [
      "08-04-2020 => /home/mana/Work/map.txt\n",
      "08-04-2020 => /home/mana/Work/log_report.csv\n"
     ]
    }
   ],
   "source": [
    "%%python3\n",
    "\n",
    "from datetime import datetime\n",
    "from pathlib import Path\n",
    "\n",
    "start_day = datetime.strptime('08/4/2020 00',\"%d/%m/%Y %H\")\n",
    "end_day = datetime.strptime('10/4/2020 00',\"%d/%m/%Y %H\")\n",
    "files = Path('/home/mana/Work/')\n",
    "ftime = [(datetime.fromtimestamp(i.stat()[-2]),i) \n",
    "         for i in files.iterdir() if i.is_file()]\n",
    "\n",
    "for x,y in ftime:\n",
    "    if start_day < x < end_day:\n",
    "        print(f'{x:%d-%m-%Y} => {y}')"
   ]
  }
 ],
 "metadata": {
  "kernelspec": {
   "display_name": "Python 3",
   "language": "python",
   "name": "python3"
  },
  "language_info": {
   "codemirror_mode": {
    "name": "ipython",
    "version": 3
   },
   "file_extension": ".py",
   "mimetype": "text/x-python",
   "name": "python",
   "nbconvert_exporter": "python",
   "pygments_lexer": "ipython3",
   "version": "3.6.9"
  },
  "widgets": {
   "application/vnd.jupyter.widget-state+json": {
    "state": {},
    "version_major": 2,
    "version_minor": 0
   }
  }
 },
 "nbformat": 4,
 "nbformat_minor": 2
}
