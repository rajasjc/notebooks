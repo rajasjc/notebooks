{
 "cells": [
  {
   "cell_type": "markdown",
   "metadata": {},
   "source": [
    "### **How To Insert Text After A Specific String In An File?**"
   ]
  },
  {
   "cell_type": "code",
   "execution_count": 4,
   "metadata": {},
   "outputs": [
    {
     "name": "stdout",
     "output_type": "stream",
     "text": [
      "Apple.\n",
      "Watermelon.\n",
      "Orange.\n",
      "Mango\n",
      "Strawberry.\n",
      "Grape.\n",
      "Watermelon.\n",
      "Apple.\n",
      "Lemon.\n"
     ]
    }
   ],
   "source": [
    "%%bash\n",
    "\n",
    "sed  '/Orange/a Mango' /home/mana/Work/fruit1.txt"
   ]
  },
  {
   "cell_type": "code",
   "execution_count": 6,
   "metadata": {},
   "outputs": [
    {
     "name": "stdout",
     "output_type": "stream",
     "text": [
      "Apple.\n",
      "Watermelon.\n",
      "Orange.\n",
      "Strawberry.\n",
      "Grape.\n",
      "Pineapple\n",
      "Watermelon.\n",
      "Apple.\n",
      "Lemon.\n"
     ]
    }
   ],
   "source": [
    "%%python3\n",
    "\n",
    "from pathlib import Path\n",
    "\n",
    "fr = Path('/home/mana/Work/fruit1.txt').read_text().splitlines()\n",
    "for i,j in enumerate(fr):\n",
    "    if 'Grape' in j:\n",
    "        fr.insert(i+1, 'Pineapple') \n",
    "        \n",
    "print(*fr, sep = '\\n')"
   ]
  }
 ],
 "metadata": {
  "kernelspec": {
   "display_name": "Python 3",
   "language": "python",
   "name": "python3"
  },
  "language_info": {
   "codemirror_mode": {
    "name": "ipython",
    "version": 3
   },
   "file_extension": ".py",
   "mimetype": "text/x-python",
   "name": "python",
   "nbconvert_exporter": "python",
   "pygments_lexer": "ipython3",
   "version": "3.6.9"
  },
  "widgets": {
   "application/vnd.jupyter.widget-state+json": {
    "state": {},
    "version_major": 2,
    "version_minor": 0
   }
  }
 },
 "nbformat": 4,
 "nbformat_minor": 2
}
