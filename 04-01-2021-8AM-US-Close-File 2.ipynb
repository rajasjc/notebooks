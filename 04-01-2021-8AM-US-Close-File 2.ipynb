{
 "cells": [
  {
   "cell_type": "markdown",
   "metadata": {},
   "source": [
    "#### **How To The Close File?**"
   ]
  },
  {
   "cell_type": "code",
   "execution_count": 1,
   "metadata": {},
   "outputs": [
    {
     "data": {
      "text/plain": [
       "'Watermelon.\\nApple.\\nOrange.\\nBanana.\\nGrape.\\nDragon fruit.\\nApple.\\n'"
      ]
     },
     "execution_count": 1,
     "metadata": {},
     "output_type": "execute_result"
    }
   ],
   "source": [
    "file = open('/home/mana/Work/fruit.txt')\n",
    "file.read()"
   ]
  },
  {
   "cell_type": "code",
   "execution_count": 2,
   "metadata": {},
   "outputs": [
    {
     "data": {
      "text/plain": [
       "['Watermelon.\\n',\n",
       " 'Apple.\\n',\n",
       " 'Orange.\\n',\n",
       " 'Banana.\\n',\n",
       " 'Grape.\\n',\n",
       " 'Dragon fruit.\\n',\n",
       " 'Apple.\\n']"
      ]
     },
     "execution_count": 2,
     "metadata": {},
     "output_type": "execute_result"
    }
   ],
   "source": [
    "file = open('/home/mana/Work/fruit.txt')\n",
    "file.readlines()"
   ]
  },
  {
   "cell_type": "code",
   "execution_count": 4,
   "metadata": {},
   "outputs": [
    {
     "name": "stdout",
     "output_type": "stream",
     "text": [
      "Help on built-in function close:\n",
      "\n",
      "close() method of _io.TextIOWrapper instance\n",
      "    Flush and close the IO object.\n",
      "    \n",
      "    This method has no effect if the file is already closed.\n",
      "\n"
     ]
    }
   ],
   "source": [
    "help(file.close)"
   ]
  },
  {
   "cell_type": "code",
   "execution_count": 5,
   "metadata": {},
   "outputs": [],
   "source": [
    "file.close()"
   ]
  },
  {
   "cell_type": "markdown",
   "metadata": {},
   "source": [
    "#### **How to close the file safely?**"
   ]
  },
  {
   "cell_type": "markdown",
   "metadata": {},
   "source": [
    "##### **Method: 1 - with keyword**"
   ]
  },
  {
   "cell_type": "code",
   "execution_count": 6,
   "metadata": {},
   "outputs": [
    {
     "name": "stdout",
     "output_type": "stream",
     "text": [
      "Watermelon.\n",
      "Apple.\n",
      "Orange.\n",
      "Banana.\n",
      "Grape.\n",
      "Dragon fruit.\n",
      "Apple.\n",
      "\n"
     ]
    }
   ],
   "source": [
    "with open('/home/mana/Work/fruit.txt') as file:\n",
    "    rd = file.read()\n",
    "    print(rd)"
   ]
  },
  {
   "cell_type": "markdown",
   "metadata": {},
   "source": [
    "#### **Method: 2 - Try..Finally**"
   ]
  },
  {
   "cell_type": "code",
   "execution_count": 7,
   "metadata": {},
   "outputs": [
    {
     "name": "stdout",
     "output_type": "stream",
     "text": [
      "Watermelon.\n",
      "Apple.\n",
      "Orange.\n",
      "Banana.\n",
      "Grape.\n",
      "Dragon fruit.\n",
      "Apple.\n",
      "\n"
     ]
    }
   ],
   "source": [
    "try:\n",
    "    file = open('/home/mana/Work/fruit.txt')\n",
    "    print(file.read())\n",
    "finally:\n",
    "    file.close()"
   ]
  },
  {
   "cell_type": "markdown",
   "metadata": {},
   "source": [
    "#### **How to open and safely close the file using pathlib?**"
   ]
  },
  {
   "cell_type": "code",
   "execution_count": 12,
   "metadata": {},
   "outputs": [
    {
     "data": {
      "text/plain": [
       "['Apple.', 'Apple.']"
      ]
     },
     "execution_count": 12,
     "metadata": {},
     "output_type": "execute_result"
    }
   ],
   "source": [
    "from pathlib import Path\n",
    "\n",
    "file = Path('/home/mana/Work/fruit.txt').read_text().splitlines()\n",
    "[i for i in file if str(i).startswith('Ap')]"
   ]
  },
  {
   "cell_type": "code",
   "execution_count": null,
   "metadata": {},
   "outputs": [],
   "source": []
  }
 ],
 "metadata": {
  "kernelspec": {
   "display_name": "Python 3",
   "language": "python",
   "name": "python3"
  },
  "language_info": {
   "codemirror_mode": {
    "name": "ipython",
    "version": 3
   },
   "file_extension": ".py",
   "mimetype": "text/x-python",
   "name": "python",
   "nbconvert_exporter": "python",
   "pygments_lexer": "ipython3",
   "version": "3.8.5"
  }
 },
 "nbformat": 4,
 "nbformat_minor": 4
}
