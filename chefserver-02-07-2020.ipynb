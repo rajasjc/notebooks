{
 "cells": [
  {
   "cell_type": "code",
   "execution_count": 4,
   "metadata": {},
   "outputs": [
    {
     "name": "stdout",
     "output_type": "stream",
     "text": [
      "1593684000.0\n"
     ]
    }
   ],
   "source": [
    "import time\n",
    "\n",
    "time_string = \"2020-07-02 06:00:00\"\n",
    "result = time.strptime(time_string, \"%Y-%m-%d %H:%M:%S\")\n",
    "print(time.mktime(result))"
   ]
  },
  {
   "cell_type": "markdown",
   "metadata": {},
   "source": [
    "<h2 align=\"center\"> Yield Function </h2>"
   ]
  },
  {
   "cell_type": "code",
   "execution_count": 7,
   "metadata": {},
   "outputs": [
    {
     "data": {
      "text/plain": [
       "<generator object fn at 0x7f3bfc489888>"
      ]
     },
     "execution_count": 7,
     "metadata": {},
     "output_type": "execute_result"
    }
   ],
   "source": [
    "def fn(*args):\n",
    "    yield(args)\n",
    "    \n",
    "fn([10,20,30])"
   ]
  },
  {
   "cell_type": "markdown",
   "metadata": {},
   "source": [
    " <h2 align=\"center\"> Formatting </h2>"
   ]
  },
  {
   "cell_type": "code",
   "execution_count": 8,
   "metadata": {},
   "outputs": [
    {
     "name": "stdout",
     "output_type": "stream",
     "text": [
      "=========================\n",
      "Name       | Robert\n",
      "Age        | 15\n",
      "City       | America\n",
      "=========================\n"
     ]
    }
   ],
   "source": [
    "data1 = ['Name','Age','City']\n",
    "data2 = ['Robert',15,'America']\n",
    "\n",
    "print(\"=\"*25)\n",
    "for x,y in zip(data1,data2):\n",
    "    print(f'{x:10} | {y}')\n",
    "print(\"=\"*25)\n"
   ]
  },
  {
   "cell_type": "code",
   "execution_count": 59,
   "metadata": {},
   "outputs": [
    {
     "name": "stdout",
     "output_type": "stream",
     "text": [
      "====================\n",
      "Name       | Raja\n",
      "Age        | 15\n",
      "City       | Chennai\n",
      "====================\n"
     ]
    }
   ],
   "source": [
    "data1 = ['Name','Age','City']\n",
    "data2 = ['Raja',15,'Chennai']\n",
    "\n",
    "data = dict(zip(data1,data2))\n",
    "\n",
    "print(\"=\"*20)\n",
    "for x,y in data.items():\n",
    "    print(f'{x:10} | {y}')\n",
    "print(\"=\"*20)"
   ]
  },
  {
   "cell_type": "code",
   "execution_count": 2,
   "metadata": {},
   "outputs": [
    {
     "name": "stdout",
     "output_type": "stream",
     "text": [
      "====================\n",
      "Name\tAge\tCity\n",
      "====================\n",
      "Raja\t15\tChennai\n"
     ]
    }
   ],
   "source": [
    "data1 = ['Name','Age','City']\n",
    "data2 = ['Raja',15,'Chennai']\n",
    "\n",
    "data = dict(zip(data1,data2))\n",
    "print(\"=\"*20)\n",
    "print(*data.keys(), sep=\"\\t\")\n",
    "print(\"=\"*20)\n",
    "print(*data.values(),sep=\"\\t\")\n"
   ]
  },
  {
   "cell_type": "code",
   "execution_count": 64,
   "metadata": {},
   "outputs": [],
   "source": [
    "data = {'name':'Raja Selvaraj', 'Age': 37, 'City': 'Singapore'}\n",
    "\n",
    "data.setdefault('native')"
   ]
  },
  {
   "cell_type": "code",
   "execution_count": 67,
   "metadata": {},
   "outputs": [
    {
     "name": "stdout",
     "output_type": "stream",
     "text": [
      "capitalize    casefold      center        count         \n",
      "encode        endswith      expandtabs    find          \n",
      "format        format_map    index         isalnum       \n",
      "isalpha       isdecimal     isdigit       isidentifier  \n",
      "islower       isnumeric     isprintable   isspace       \n",
      "istitle       isupper       join          ljust         \n",
      "lower         lstrip        maketrans     partition     \n",
      "replace       rfind         rindex        rjust         \n",
      "rpartition    rsplit        rstrip        split         \n",
      "splitlines    startswith    strip         swapcase      \n",
      "title         translate     upper         zfill         \n",
      "14\n"
     ]
    }
   ],
   "source": [
    "methods = [ i for i in dir(str) if i[0].islower()]\n",
    "w = str(len(max(methods,key=len)) +2 ) \n",
    "\n",
    "fmt = ('{:'+w+'s}')*4 \n",
    "\n",
    "for fn in zip(*[iter(methods)] *4):\n",
    "    print(fmt.format(*fn))\n",
    "    \n"
   ]
  },
  {
   "cell_type": "code",
   "execution_count": 10,
   "metadata": {},
   "outputs": [
    {
     "data": {
      "text/plain": [
       "{'root': [0, 0, 'root', '/root', '/bin/bash'],\n",
       " 'bin': [1, 1, 'bin', '/bin', '/sbin/nologin'],\n",
       " 'daemon': [2, 2, 'daemon', '/sbin', '/sbin/nologin'],\n",
       " 'adm': [3, 4, 'adm', '/var/adm', '/sbin/nologin'],\n",
       " 'lp': [4, 7, 'lp', '/var/spool/lpd', '/sbin/nologin'],\n",
       " 'sync': [5, 0, 'sync', '/sbin', '/bin/sync'],\n",
       " 'shutdown': [6, 0, 'shutdown', '/sbin', '/sbin/shutdown'],\n",
       " 'halt': [7, 0, 'halt', '/sbin', '/sbin/halt'],\n",
       " 'mail': [8, 12, 'mail', '/var/spool/mail', '/sbin/nologin'],\n",
       " 'operator': [11, 0, 'operator', '/root', '/sbin/nologin'],\n",
       " 'games': [12, 100, 'games', '/usr/games', '/sbin/nologin'],\n",
       " 'ftp': [14, 50, 'FTP User', '/var/ftp', '/sbin/nologin'],\n",
       " 'nobody': [99, 99, 'Nobody', '/', '/sbin/nologin'],\n",
       " 'systemd-bus-proxy': [999, 998, 'systemd Bus Proxy', '/', '/sbin/nologin'],\n",
       " 'systemd-network': [192,\n",
       "  192,\n",
       "  'systemd Network Management',\n",
       "  '/',\n",
       "  '/sbin/nologin'],\n",
       " 'dbus': [81, 81, 'System message bus', '/', '/sbin/nologin'],\n",
       " 'polkitd': [998, 997, 'User for polkitd', '/', '/sbin/nologin'],\n",
       " 'tss': [59,\n",
       "  59,\n",
       "  'Account used by the trousers package to sandbox the tcsd daemon',\n",
       "  '/dev/null',\n",
       "  '/sbin/nologin'],\n",
       " 'sshd': [74,\n",
       "  74,\n",
       "  'Privilege-separated SSH',\n",
       "  '/var/empty/sshd',\n",
       "  '/sbin/nologin'],\n",
       " 'postfix': [89, 89, '', '/var/spool/postfix', '/sbin/nologin'],\n",
       " 'chrony': [997, 995, '', '/var/lib/chrony', '/sbin/nologin'],\n",
       " 'ansible': [1000, 1000, 'ansible', '/home/ansible', '/bin/bash'],\n",
       " 'apache': [48, 48, 'Apache', '/usr/share/httpd', '/sbin/nologin'],\n",
       " 'dockerroot': [996, 993, 'Docker User', '/var/lib/docker', '/sbin/nologin'],\n",
       " 'rajasjc': [1001, 1001, '', '/home/rajasjc', '/bin/bash'],\n",
       " 'saslauth': [995, 76, 'Saslauthd user', '/run/saslauthd', '/sbin/nologin'],\n",
       " 'mailnull': [47, 47, '', '/var/spool/mqueue', '/sbin/nologin'],\n",
       " 'smmsp': [51, 51, '', '/var/spool/mqueue', '/sbin/nologin']}"
      ]
     },
     "execution_count": 10,
     "metadata": {},
     "output_type": "execute_result"
    }
   ],
   "source": [
    "import pwd \n",
    "\n",
    "pass_dict={}\n",
    "\n",
    "for i in pwd.getpwall():\n",
    "    pass_dict.setdefault(i[0],[]).extend(i[2:])\n",
    "    \n",
    "pass_dict"
   ]
  },
  {
   "cell_type": "code",
   "execution_count": 8,
   "metadata": {},
   "outputs": [
    {
     "name": "stdout",
     "output_type": "stream",
     "text": [
      "Help on built-in function extend:\n",
      "\n",
      "extend(...) method of builtins.list instance\n",
      "    L.extend(iterable) -> None -- extend list by appending elements from the iterable\n",
      "\n"
     ]
    }
   ],
   "source": [
    "help([].extend)"
   ]
  },
  {
   "cell_type": "code",
   "execution_count": 17,
   "metadata": {},
   "outputs": [
    {
     "name": "stdout",
     "output_type": "stream",
     "text": [
      "accumulate     chain          combinations   combinations_with_replacement\n",
      "compress       count          cycle          dropwhile      \n",
      "filterfalse    groupby        islice         permutations   \n",
      "product        repeat         starmap        takewhile      \n"
     ]
    }
   ],
   "source": [
    "import itertools\n",
    "\n",
    "methods = [i for i  in dir(itertools) if not i.startswith('_')]\n",
    "fmt = '{:15s}'*4\n",
    "\n",
    "for fn in zip(*[iter(methods)] *4):\n",
    "    print(fmt.format(*fn))"
   ]
  },
  {
   "cell_type": "code",
   "execution_count": 18,
   "metadata": {},
   "outputs": [
    {
     "name": "stdout",
     "output_type": "stream",
     "text": [
      "Dialect             DictReader          DictWriter          \n",
      "Error               OrderedDict         QUOTE_ALL           \n",
      "QUOTE_MINIMAL       QUOTE_NONE          QUOTE_NONNUMERIC    \n",
      "Sniffer             StringIO            excel               \n",
      "excel_tab           field_size_limit    get_dialect         \n",
      "list_dialects       reader              register_dialect    \n",
      "unix_dialect        unregister_dialect  writer              \n"
     ]
    }
   ],
   "source": [
    "import csv\n",
    "\n",
    "methods = [i for i  in dir(csv) if not i.startswith('_') and not i == 're']\n",
    "fmt = '{:20s}'*3\n",
    "\n",
    "for fn in zip(*[iter(methods)] *3):\n",
    "    print(fmt.format(*fn))"
   ]
  },
  {
   "cell_type": "code",
   "execution_count": 5,
   "metadata": {},
   "outputs": [
    {
     "name": "stdout",
     "output_type": "stream",
     "text": [
      "True\n"
     ]
    }
   ],
   "source": [
    "comp = [1,10,100] < [2,20,100]\n",
    "print(comp)"
   ]
  },
  {
   "cell_type": "code",
   "execution_count": 11,
   "metadata": {},
   "outputs": [
    {
     "name": "stdout",
     "output_type": "stream",
     "text": [
      "True\n"
     ]
    }
   ],
   "source": [
    "comp = [2,20,100] > [1,10]\n",
    "print(comp)"
   ]
  },
  {
   "cell_type": "code",
   "execution_count": 1,
   "metadata": {},
   "outputs": [
    {
     "data": {
      "text/plain": [
       "\"'Linux'\""
      ]
     },
     "execution_count": 1,
     "metadata": {},
     "output_type": "execute_result"
    }
   ],
   "source": [
    "\"{!r}\".format(\"Linux\")"
   ]
  },
  {
   "cell_type": "code",
   "execution_count": 2,
   "metadata": {},
   "outputs": [
    {
     "data": {
      "text/plain": [
       "'Linux'"
      ]
     },
     "execution_count": 2,
     "metadata": {},
     "output_type": "execute_result"
    }
   ],
   "source": [
    "\"{!s}\".format(\"Linux\")"
   ]
  },
  {
   "cell_type": "code",
   "execution_count": 3,
   "metadata": {},
   "outputs": [
    {
     "data": {
      "text/plain": [
       "\"Bring out the holy 'day'\""
      ]
     },
     "execution_count": 3,
     "metadata": {},
     "output_type": "execute_result"
    }
   ],
   "source": [
    "\"Bring out the holy {name!r}\".format(name = 'day')"
   ]
  },
  {
   "cell_type": "code",
   "execution_count": 7,
   "metadata": {},
   "outputs": [
    {
     "name": "stdout",
     "output_type": "stream",
     "text": [
      "User 'rajasel' not exists\n"
     ]
    }
   ],
   "source": [
    "import pwd\n",
    "\n",
    "def user_chk(user):\n",
    "    try:\n",
    "        pwd.getpwnam(user)[0] == user\n",
    "        print('User {!r} exists.'.format(user))\n",
    "    except KeyError:\n",
    "        print('User {!r} not exists'.format(user))\n",
    "            \n",
    "user_chk('rajasel')"
   ]
  },
  {
   "cell_type": "code",
   "execution_count": 10,
   "metadata": {},
   "outputs": [
    {
     "name": "stdout",
     "output_type": "stream",
     "text": [
      "L.append(object) -> None -- append object to end\n",
      "**************************************************\n",
      "L.clear() -> None -- remove all items from L\n",
      "**************************************************\n",
      "L.copy() -> list -- a shallow copy of L\n",
      "**************************************************\n",
      "L.count(value) -> integer -- return number of occurrences of value\n",
      "**************************************************\n",
      "L.extend(iterable) -> None -- extend list by appending elements from the iterable\n",
      "**************************************************\n",
      "L.index(value, [start, [stop]]) -> integer -- return first index of value.\n",
      "Raises ValueError if the value is not present.\n",
      "**************************************************\n",
      "L.insert(index, object) -- insert object before index\n",
      "**************************************************\n",
      "L.pop([index]) -> item -- remove and return item at index (default last).\n",
      "Raises IndexError if list is empty or index is out of range.\n",
      "**************************************************\n",
      "L.remove(value) -> None -- remove first occurrence of value.\n",
      "Raises ValueError if the value is not present.\n",
      "**************************************************\n",
      "L.reverse() -- reverse *IN PLACE*\n",
      "**************************************************\n",
      "L.sort(key=None, reverse=False) -> None -- stable sort *IN PLACE*\n",
      "**************************************************\n"
     ]
    }
   ],
   "source": [
    "for i in dir(list)[-11:]:\n",
    "    print((eval('list.'+i)).__doc__)\n",
    "    print('*'*50)"
   ]
  },
  {
   "cell_type": "code",
   "execution_count": 19,
   "metadata": {},
   "outputs": [
    {
     "name": "stdout",
     "output_type": "stream",
     "text": [
      "SCSI-ID         Device-Name\n",
      "***************************\n",
      "2:0:0:0           sda          \n",
      "3:0:0:0           sdb          \n"
     ]
    }
   ],
   "source": [
    "# Collect SCSI ID for the device in linux \n",
    "\n",
    "import os\n",
    "sd={}\n",
    "dr = '/sys/bus/scsi/drivers/sd'\n",
    "\n",
    "for i in os.listdir(dr):\n",
    "    if \":\" in i:\n",
    "        sd[i] = os.listdir(dr+ '/' + i + '/block')[0] \n",
    "print('{:<15} {}'.format(\"SCSI-ID\",\"Device-Name\"))\n",
    "print(\"*\".ljust(27,'*'))\n",
    "\n",
    "for j in sd:\n",
    "    print('{:^8} {:^22}'.format(j,sd[j]))"
   ]
  },
  {
   "cell_type": "code",
   "execution_count": 20,
   "metadata": {},
   "outputs": [
    {
     "name": "stdout",
     "output_type": "stream",
     "text": [
      "These characters {'c', 'm', 'v'} has been changed in city2.\n"
     ]
    }
   ],
   "source": [
    "city1 = \"Chennai\"\n",
    "city2 = \"chennvami\"\n",
    "v = set(list(city2)) - set(list(city1))\n",
    "print('These characters',v, 'has been changed in city2.')"
   ]
  },
  {
   "cell_type": "code",
   "execution_count": 4,
   "metadata": {},
   "outputs": [
    {
     "name": "stdout",
     "output_type": "stream",
     "text": [
      "Number of Files: 68\n"
     ]
    }
   ],
   "source": [
    "from pathlib import Path\n",
    "p = Path('/root/Myrepo')\n",
    "\n",
    "fl = [ ++i[0] for i in enumerate(p.iterdir())]\n",
    "\n",
    "print(f'Number of Files: {len(fl)}')"
   ]
  },
  {
   "cell_type": "code",
   "execution_count": 13,
   "metadata": {},
   "outputs": [],
   "source": [
    "import csv\n",
    "\n",
    "peoples = [ ['Name', 'Age', 'Profession'],\n",
    "            ['Raja',40, 'Architect'], \n",
    "            ['Christy', 40 ,'Developer'],\n",
    "            ['Kapil', 42, 'Business Analyst']]\n",
    "\n",
    "with open('/root/Myrepo/peoples.csv','w') as csvfile:\n",
    "     writer = csv.writer(csvfile)\n",
    "     writer.writerows(peoples)\n",
    "     "
   ]
  },
  {
   "cell_type": "code",
   "execution_count": 18,
   "metadata": {},
   "outputs": [
    {
     "data": {
      "text/plain": [
       "['Name', 'Age', 'Profession']"
      ]
     },
     "execution_count": 18,
     "metadata": {},
     "output_type": "execute_result"
    }
   ],
   "source": [
    "import csv \n",
    "\n",
    "with open('/root/Myrepo/peoples.csv') as csvfile:\n",
    "    reader = csv.reader(csvfile)\n",
    "    header = next(reader)\n",
    "    \n",
    "\n",
    "header"
   ]
  },
  {
   "cell_type": "code",
   "execution_count": 26,
   "metadata": {},
   "outputs": [],
   "source": [
    "import csv\n",
    "\n",
    "with open('/root/Myrepo/peoples.csv') as csvfile:\n",
    "    header = csv.DictReader(csvfile).fieldnames\n",
    "    "
   ]
  },
  {
   "cell_type": "code",
   "execution_count": 30,
   "metadata": {},
   "outputs": [
    {
     "name": "stdout",
     "output_type": "stream",
     "text": [
      "{'Name': 'Raja', 'Age': '40', 'Profession': 'Architect'}\n",
      "{'Name': 'Christy', 'Age': '40', 'Profession': 'Developer'}\n",
      "{'Name': 'Kapil', 'Age': '42', 'Profession': 'Business Analyst'}\n"
     ]
    }
   ],
   "source": [
    "import csv\n",
    "\n",
    "with open('/root/Myrepo/peoples.csv') as csvfile:\n",
    "    header = csv.DictReader(csvfile)\n",
    "    for row in header:\n",
    "        print(dict(row))"
   ]
  },
  {
   "cell_type": "code",
   "execution_count": 37,
   "metadata": {},
   "outputs": [
    {
     "name": "stdout",
     "output_type": "stream",
     "text": [
      "Raja Christy Kapil "
     ]
    }
   ],
   "source": [
    "import csv\n",
    "\n",
    "with open('/root/Myrepo/peoples.csv') as csvfile:\n",
    "    reader = csv.DictReader(csvfile)\n",
    "    for row in reader:\n",
    "        print(row['Name'], end=' ')"
   ]
  },
  {
   "cell_type": "code",
   "execution_count": null,
   "metadata": {},
   "outputs": [],
   "source": []
  }
 ],
 "metadata": {
  "kernelspec": {
   "display_name": "Python 3",
   "language": "python",
   "name": "python3"
  },
  "language_info": {
   "codemirror_mode": {
    "name": "ipython",
    "version": 3
   },
   "file_extension": ".py",
   "mimetype": "text/x-python",
   "name": "python",
   "nbconvert_exporter": "python",
   "pygments_lexer": "ipython3",
   "version": "3.6.8"
  }
 },
 "nbformat": 4,
 "nbformat_minor": 4
}
