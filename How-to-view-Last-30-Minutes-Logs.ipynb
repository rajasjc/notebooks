{
 "cells": [
  {
   "cell_type": "markdown",
   "metadata": {},
   "source": [
    "### **How to view Last 30 Minutes Logs?**"
   ]
  },
  {
   "cell_type": "code",
   "execution_count": null,
   "metadata": {},
   "outputs": [],
   "source": [
    "%%bash\n",
    "\n",
    "for i in {30..1}\n",
    "do\n",
    "min=$(date +\"%b %d %H:%M\" -d \"-$i minute\")\n",
    "sed -n \"/$min/p\" /var/log/syslog\n",
    "done"
   ]
  },
  {
   "cell_type": "code",
   "execution_count": 3,
   "metadata": {},
   "outputs": [
    {
     "name": "stdout",
     "output_type": "stream",
     "text": [
      "Apr 19 02:25:01 joe CRON[32455]: (root) CMD (command -v debian-sa1 > /dev/null && debian-sa1 1 1)\n",
      "Apr 19 02:27:25 joe plank.desktop[1703]: [23287:23287:0419/022725.677334:ERROR:CONSOLE(1)] \"WebSocket connection to 'wss://bifrost.vivaldi.com:15674/ws' failed: Error in connection establishment: net::ERR_CONNECTION_TIMED_OUT\", source: chrome-extension://mpognobbkildjkofajifpdfhcoklimli/background-bundle.js (1)\n",
      "Apr 19 02:28:54 joe plank.desktop[1703]: [23287:23287:0419/022854.634024:ERROR:CONSOLE(0)] \"Unchecked runtime.lastError: Could not find guest\", source: chrome-extension://mpognobbkildjkofajifpdfhcoklimli/browser.html (0)\n",
      "Apr 19 02:28:54 joe plank.desktop[1703]: [23287:23287:0419/022854.638920:ERROR:CONSOLE(0)] \"Unchecked runtime.lastError: Could not find guest\", source: chrome-extension://mpognobbkildjkofajifpdfhcoklimli/browser.html (0)\n",
      "Apr 19 02:28:54 joe plank.desktop[1703]: [23287:23287:0419/022854.639301:ERROR:CONSOLE(0)] \"Unchecked runtime.lastError: Could not find guest\", source: chrome-extension://mpognobbkildjkofajifpdfhcoklimli/browser.html (0)\n",
      "Apr 19 02:28:57 joe plank.desktop[1703]: [23287:23287:0419/022857.315676:ERROR:CONSOLE(0)] \"Unchecked runtime.lastError: Could not find guest\", source: chrome-extension://mpognobbkildjkofajifpdfhcoklimli/browser.html (0)\n",
      "Apr 19 02:28:57 joe plank.desktop[1703]: [23287:23287:0419/022857.342773:ERROR:CONSOLE(0)] \"Unchecked runtime.lastError: Could not find guest\", source: chrome-extension://mpognobbkildjkofajifpdfhcoklimli/browser.html (0)\n",
      "Apr 19 02:28:57 joe plank.desktop[1703]: [23287:23287:0419/022857.342843:ERROR:CONSOLE(0)] \"Unchecked runtime.lastError: Could not find guest\", source: chrome-extension://mpognobbkildjkofajifpdfhcoklimli/browser.html (0)\n",
      "Apr 19 02:30:11 joe plank.desktop[1703]: [23287:23287:0419/023011.615021:ERROR:CONSOLE(0)] \"Unchecked runtime.lastError: Could not find guest\", source: chrome-extension://mpognobbkildjkofajifpdfhcoklimli/browser.html (0)\n",
      "Apr 19 02:30:11 joe plank.desktop[1703]: [23287:23287:0419/023011.616568:ERROR:CONSOLE(0)] \"Unchecked runtime.lastError: Could not find guest\", source: chrome-extension://mpognobbkildjkofajifpdfhcoklimli/browser.html (0)\n",
      "Apr 19 02:30:48 joe plank.desktop[1703]: [1378:1:0419/023048.616022:ERROR:child_process_sandbox_support_impl_linux.cc(79)] FontService unique font name matching request did not receive a response.\n",
      "Apr 19 02:30:48 joe plank.desktop[1703]: [1378:1:0419/023048.617263:ERROR:child_process_sandbox_support_impl_linux.cc(79)] FontService unique font name matching request did not receive a response.\n",
      "Apr 19 02:31:20 joe plank.desktop[1703]: [23287:23287:0419/023120.269461:ERROR:CONSOLE(0)] \"Unchecked runtime.lastError: Could not find guest\", source: chrome-extension://mpognobbkildjkofajifpdfhcoklimli/browser.html (0)\n",
      "Apr 19 02:31:20 joe plank.desktop[1703]: [23287:23287:0419/023120.270680:ERROR:CONSOLE(0)] \"Unchecked runtime.lastError: Could not find guest\", source: chrome-extension://mpognobbkildjkofajifpdfhcoklimli/browser.html (0)\n",
      "Apr 19 02:32:01 joe plank.desktop[1703]: [23287:23287:0419/023201.536524:ERROR:CONSOLE(0)] \"Unchecked runtime.lastError: Could not find guest\", source: chrome-extension://mpognobbkildjkofajifpdfhcoklimli/browser.html (0)\n",
      "Apr 19 02:32:01 joe plank.desktop[1703]: [23287:23287:0419/023201.557356:ERROR:CONSOLE(0)] \"Unchecked runtime.lastError: Could not find guest\", source: chrome-extension://mpognobbkildjkofajifpdfhcoklimli/browser.html (0)\n",
      "Apr 19 02:32:01 joe plank.desktop[1703]: [23287:23287:0419/023201.558333:ERROR:CONSOLE(0)] \"Unchecked runtime.lastError: Could not find guest\", source: chrome-extension://mpognobbkildjkofajifpdfhcoklimli/browser.html (0)\n",
      "Apr 19 02:33:04 joe budgie-panel[1670]: wnck_window_is_skip_pager: assertion 'WNCK_IS_WINDOW (window)' failed\n",
      "Apr 19 02:33:04 joe budgie-panel[1670]: wnck_window_is_skip_tasklist: assertion 'WNCK_IS_WINDOW (window)' failed\n",
      "Apr 19 02:33:04 joe budgie-panel[1670]: wnck_window_get_geometry: assertion 'WNCK_IS_WINDOW (window)' failed\n",
      "Apr 19 02:33:53 joe plank.desktop[1703]: [23287:23287:0419/023353.919292:ERROR:CONSOLE(0)] \"Unchecked runtime.lastError: Could not find guest\", source: chrome-extension://mpognobbkildjkofajifpdfhcoklimli/browser.html (0)\n",
      "Apr 19 02:33:53 joe plank.desktop[1703]: [23287:23287:0419/023353.961537:ERROR:CONSOLE(0)] \"Unchecked runtime.lastError: Could not find guest\", source: chrome-extension://mpognobbkildjkofajifpdfhcoklimli/browser.html (0)\n",
      "Apr 19 02:33:53 joe plank.desktop[1703]: [23287:23287:0419/023353.962041:ERROR:CONSOLE(0)] \"Unchecked runtime.lastError: Could not find guest\", source: chrome-extension://mpognobbkildjkofajifpdfhcoklimli/browser.html (0)\n",
      "Apr 19 02:34:52 joe plank.desktop[1703]: [23287:23287:0419/023452.141280:ERROR:CONSOLE(1)] \"WebSocket connection to 'wss://bifrost.vivaldi.com:15674/ws' failed: Error in connection establishment: net::ERR_CONNECTION_TIMED_OUT\", source: chrome-extension://mpognobbkildjkofajifpdfhcoklimli/background-bundle.js (1)\n",
      "Apr 19 02:35:01 joe CRON[3158]: (root) CMD (command -v debian-sa1 > /dev/null && debian-sa1 1 1)\n",
      "Apr 19 02:35:15 joe plank.desktop[1703]: [23287:23287:0419/023515.495801:ERROR:CONSOLE(1)] \"Uncaught (in promise) Capture cancelled\", source: chrome-extension://mpognobbkildjkofajifpdfhcoklimli/bundle.js (1)\n",
      "Apr 19 02:35:37 joe org.gnome.Nautilus[1317]: ('Handling file: ', 'file:///home/mana/Code')\n",
      "Apr 19 02:35:37 joe org.gnome.Nautilus[1317]: ('file scheme: ', 'file')\n",
      "Apr 19 02:35:37 joe org.gnome.Nautilus[1317]: RuntimeError: object at 0x7f2b9dca9b40 of type FolderColorMenu is not initialized\n",
      "Apr 19 02:36:54 joe org.gnome.Nautilus[1317]: ('Handling file: ', 'file:///home/mana/Code')\n",
      "Apr 19 02:36:54 joe org.gnome.Nautilus[1317]: ('file scheme: ', 'file')\n",
      "Apr 19 02:36:54 joe org.gnome.Nautilus[1317]: RuntimeError: object at 0x7f2b9dca9b40 of type FolderColorMenu is not initialized\n",
      "Apr 19 02:38:16 joe plank.desktop[1703]: [23287:23287:0419/023816.616565:ERROR:CONSOLE(0)] \"Unchecked runtime.lastError: Could not find guest\", source: chrome-extension://mpognobbkildjkofajifpdfhcoklimli/browser.html (0)\n",
      "Apr 19 02:38:16 joe plank.desktop[1703]: [23287:23287:0419/023816.621439:ERROR:CONSOLE(0)] \"Unchecked runtime.lastError: Could not find guest\", source: chrome-extension://mpognobbkildjkofajifpdfhcoklimli/browser.html (0)\n",
      "Apr 19 02:40:21 joe plank.desktop[1703]: [23287:23287:0419/024021.929120:ERROR:CONSOLE(1)] \"WebSocket connection to 'wss://bifrost.vivaldi.com:15674/ws' failed: Error in connection establishment: net::ERR_ADDRESS_UNREACHABLE\", source: chrome-extension://mpognobbkildjkofajifpdfhcoklimli/background-bundle.js (1)\n",
      "Apr 19 02:43:24 joe gnome-screensav[1421]: Source ID 5163 was not found when attempting to remove it\n",
      "Apr 19 02:44:24 joe org.gnome.Nautilus[1317]: ('Handling file: ', 'file:///home/mana/Code')\n",
      "Apr 19 02:44:24 joe org.gnome.Nautilus[1317]: ('file scheme: ', 'file')\n",
      "Apr 19 02:44:24 joe org.gnome.Nautilus[1317]: RuntimeError: object at 0x7f2b9dca9b40 of type FolderColorMenu is not initialized\n",
      "Apr 19 02:44:29 joe org.gnome.Nautilus[1317]: ('Handling file: ', 'file:///home/mana/Code')\n",
      "Apr 19 02:44:29 joe org.gnome.Nautilus[1317]: ('file scheme: ', 'file')\n",
      "Apr 19 02:44:29 joe org.gnome.Nautilus[1317]: RuntimeError: object at 0x7f2b9dca9b40 of type FolderColorMenu is not initialized\n",
      "Apr 19 02:45:01 joe CRON[5857]: (root) CMD (command -v debian-sa1 > /dev/null && debian-sa1 1 1)\n",
      "Apr 19 02:46:04 joe org.gnome.Nautilus[1317]: ('Handling file: ', 'file:///home/mana/Code')\n",
      "Apr 19 02:46:04 joe org.gnome.Nautilus[1317]: ('file scheme: ', 'file')\n",
      "Apr 19 02:46:04 joe org.gnome.Nautilus[1317]: RuntimeError: object at 0x7f2b9dca9b40 of type FolderColorMenu is not initialized\n",
      "Apr 19 02:47:43 joe budgie-panel[1670]: wnck_window_is_skip_pager: assertion 'WNCK_IS_WINDOW (window)' failed\n",
      "Apr 19 02:47:43 joe budgie-panel[1670]: wnck_window_is_skip_tasklist: assertion 'WNCK_IS_WINDOW (window)' failed\n",
      "Apr 19 02:47:43 joe budgie-panel[1670]: wnck_window_get_geometry: assertion 'WNCK_IS_WINDOW (window)' failed\n",
      "Apr 19 02:47:54 joe plank.desktop[1703]: [23287:23287:0419/024754.477042:ERROR:CONSOLE(1)] \"WebSocket connection to 'wss://bifrost.vivaldi.com:15674/ws' failed: Error in connection establishment: net::ERR_CONNECTION_TIMED_OUT\", source: chrome-extension://mpognobbkildjkofajifpdfhcoklimli/background-bundle.js (1)\n",
      "Apr 19 02:48:38 joe org.gnome.Nautilus[1317]: ('Handling file: ', 'file:///home/mana/Code')\n",
      "Apr 19 02:48:38 joe org.gnome.Nautilus[1317]: ('file scheme: ', 'file')\n",
      "Apr 19 02:48:38 joe org.gnome.Nautilus[1317]: RuntimeError: object at 0x7f2b9dca9b40 of type FolderColorMenu is not initialized\n",
      "Apr 19 02:49:20 joe org.gnome.Nautilus[1317]: ('Handling file: ', 'file:///home/mana/Code')\n",
      "Apr 19 02:49:20 joe org.gnome.Nautilus[1317]: ('file scheme: ', 'file')\n",
      "Apr 19 02:49:20 joe org.gnome.Nautilus[1317]: RuntimeError: object at 0x7f2b9dca9b40 of type FolderColorMenu is not initialized\n",
      "Apr 19 02:50:00 joe budgie-panel[1670]: wnck_window_is_skip_pager: assertion 'WNCK_IS_WINDOW (window)' failed\n",
      "Apr 19 02:50:00 joe budgie-panel[1670]: wnck_window_is_skip_tasklist: assertion 'WNCK_IS_WINDOW (window)' failed\n",
      "Apr 19 02:50:00 joe budgie-panel[1670]: wnck_window_get_geometry: assertion 'WNCK_IS_WINDOW (window)' failed\n",
      "Apr 19 02:50:04 joe budgie-panel[1670]: wnck_window_is_skip_pager: assertion 'WNCK_IS_WINDOW (window)' failed\n",
      "Apr 19 02:50:04 joe budgie-panel[1670]: wnck_window_is_skip_tasklist: assertion 'WNCK_IS_WINDOW (window)' failed\n",
      "Apr 19 02:50:04 joe budgie-panel[1670]: wnck_window_get_geometry: assertion 'WNCK_IS_WINDOW (window)' failed\n",
      "Apr 19 02:50:30 joe budgie-panel[1670]: wnck_window_is_skip_pager: assertion 'WNCK_IS_WINDOW (window)' failed\n",
      "Apr 19 02:50:30 joe budgie-panel[1670]: wnck_window_is_skip_tasklist: assertion 'WNCK_IS_WINDOW (window)' failed\n",
      "Apr 19 02:50:30 joe budgie-panel[1670]: wnck_window_get_geometry: assertion 'WNCK_IS_WINDOW (window)' failed\n",
      "Apr 19 02:50:49 joe budgie-panel[1670]: wnck_window_is_skip_pager: assertion 'WNCK_IS_WINDOW (window)' failed\n",
      "Apr 19 02:50:49 joe budgie-panel[1670]: wnck_window_is_skip_tasklist: assertion 'WNCK_IS_WINDOW (window)' failed\n",
      "Apr 19 02:50:49 joe budgie-panel[1670]: wnck_window_get_geometry: assertion 'WNCK_IS_WINDOW (window)' failed\n",
      "Apr 19 02:52:00 joe org.gnome.Nautilus[1317]: RuntimeError: object at 0x7f2b9dca9b40 of type FolderColorMenu is not initialized\n",
      "Apr 19 02:52:00 joe org.gnome.Nautilus[1317]: message repeated 2 times: [ RuntimeError: object at 0x7f2b9dca9b40 of type FolderColorMenu is not initialized]\n",
      "Apr 19 02:52:02 joe org.gnome.Nautilus[1317]: ('Handling file: ', 'file:///home/mana/Code/Temp')\n",
      "Apr 19 02:52:02 joe org.gnome.Nautilus[1317]: ('file scheme: ', 'file')\n",
      "Apr 19 02:52:02 joe org.gnome.Nautilus[1317]: RuntimeError: object at 0x7f2b9dca9b40 of type FolderColorMenu is not initialized\n",
      "Apr 19 02:52:06 joe org.gnome.Nautilus[1317]: message repeated 6 times: [ RuntimeError: object at 0x7f2b9dca9b40 of type FolderColorMenu is not initialized]\n",
      "Apr 19 02:52:13 joe budgie-panel[1670]: wnck_window_is_skip_pager: assertion 'WNCK_IS_WINDOW (window)' failed\n",
      "Apr 19 02:52:13 joe budgie-panel[1670]: wnck_window_is_skip_tasklist: assertion 'WNCK_IS_WINDOW (window)' failed\n",
      "Apr 19 02:52:13 joe budgie-panel[1670]: wnck_window_get_geometry: assertion 'WNCK_IS_WINDOW (window)' failed\n",
      "Apr 19 02:52:15 joe dbus-daemon[747]: [system] Activating via systemd: service name='org.freedesktop.hostname1' unit='dbus-org.freedesktop.hostname1.service' requested by ':1.892' (uid=1000 pid=4712 comm=\"/usr/bin/nautilus --gapplication-service \" label=\"unconfined\")\n",
      "Apr 19 02:52:15 joe systemd[1]: Starting Hostname Service...\n",
      "Apr 19 02:52:15 joe dbus-daemon[747]: [system] Successfully activated service 'org.freedesktop.hostname1'\n",
      "Apr 19 02:52:15 joe systemd[1]: Started Hostname Service.\n",
      "Apr 19 02:52:15 joe nautilus[4712]: _gtk_accel_group_detach: assertion 'g_slist_find (accel_group->priv->acceleratables, object) != NULL' failed\n",
      "Apr 19 02:52:15 joe org.gnome.Nautilus[1317]: RuntimeError: object at 0x7f2b9dca9b40 of type FolderColorMenu is not initialized\n",
      "Apr 19 02:52:15 joe org.gnome.Nautilus[1317]: message repeated 2 times: [ RuntimeError: object at 0x7f2b9dca9b40 of type FolderColorMenu is not initialized]\n",
      "Apr 19 02:52:34 joe org.gnome.Nautilus[1317]: ('Handling file: ', 'file:///home/mana/Code')\n",
      "Apr 19 02:52:34 joe org.gnome.Nautilus[1317]: ('file scheme: ', 'file')\n",
      "Apr 19 02:52:34 joe org.gnome.Nautilus[1317]: RuntimeError: object at 0x7f2b9dca9b40 of type FolderColorMenu is not initialized\n",
      "Apr 19 02:52:34 joe org.gnome.Nautilus[1317]: message repeated 3 times: [ RuntimeError: object at 0x7f2b9dca9b40 of type FolderColorMenu is not initialized]\n",
      "Apr 19 02:52:39 joe org.gnome.Nautilus[1317]: ('Handling file: ', 'file:///home/mana/Code/Month')\n",
      "Apr 19 02:52:39 joe org.gnome.Nautilus[1317]: ('file scheme: ', 'file')\n",
      "Apr 19 02:52:39 joe org.gnome.Nautilus[1317]: RuntimeError: object at 0x7f2b9dca9b40 of type FolderColorMenu is not initialized\n",
      "Apr 19 02:52:39 joe org.gnome.Nautilus[1317]: message repeated 3 times: [ RuntimeError: object at 0x7f2b9dca9b40 of type FolderColorMenu is not initialized]\n",
      "Apr 19 02:52:40 joe org.gnome.Nautilus[1317]: ('Handling file: ', 'file:///home/mana/Code/Month/2020')\n",
      "Apr 19 02:52:40 joe org.gnome.Nautilus[1317]: ('file scheme: ', 'file')\n",
      "Apr 19 02:52:40 joe org.gnome.Nautilus[1317]: RuntimeError: object at 0x7f2b9dca9b40 of type FolderColorMenu is not initialized\n",
      "Apr 19 02:52:42 joe org.gnome.Nautilus[1317]: message repeated 3 times: [ RuntimeError: object at 0x7f2b9dca9b40 of type FolderColorMenu is not initialized]\n",
      "Apr 19 02:52:46 joe org.gnome.Nautilus[1317]: ('Handling file: ', 'file:///home/mana/Code/Month/2020/)')\n",
      "Apr 19 02:52:46 joe org.gnome.Nautilus[1317]: ('file scheme: ', 'file')\n",
      "Apr 19 02:52:46 joe org.gnome.Nautilus[1317]: RuntimeError: object at 0x7f2b9dca9b40 of type FolderColorMenu is not initialized\n",
      "Apr 19 02:52:47 joe org.gnome.Nautilus[1317]: RuntimeError: object at 0x7f2b9dca9b40 of type FolderColorMenu is not initialized\n",
      "Apr 19 02:52:48 joe nautilus[4712]: gtk_label_set_markup: assertion 'GTK_IS_LABEL (label)' failed\n",
      "Apr 19 02:52:48 joe nautilus[4712]: gtk_revealer_set_reveal_child: assertion 'GTK_IS_REVEALER (revealer)' failed\n",
      "Apr 19 02:52:48 joe nautilus[4712]: gtk_label_set_markup: assertion 'GTK_IS_LABEL (label)' failed\n",
      "Apr 19 02:52:48 joe nautilus[4712]: gtk_revealer_set_reveal_child: assertion 'GTK_IS_REVEALER (revealer)' failed\n",
      "Apr 19 02:52:48 joe nautilus[4712]: gtk_label_set_markup: assertion 'GTK_IS_LABEL (label)' failed\n",
      "Apr 19 02:52:48 joe nautilus[4712]: gtk_revealer_set_reveal_child: assertion 'GTK_IS_REVEALER (revealer)' failed\n",
      "Apr 19 02:52:48 joe nautilus[4712]: gtk_label_set_markup: assertion 'GTK_IS_LABEL (label)' failed\n",
      "Apr 19 02:52:48 joe nautilus[4712]: gtk_revealer_set_reveal_child: assertion 'GTK_IS_REVEALER (revealer)' failed\n",
      "Apr 19 02:52:48 joe nautilus[4712]: gtk_label_set_markup: assertion 'GTK_IS_LABEL (label)' failed\n",
      "Apr 19 02:52:48 joe nautilus[4712]: gtk_revealer_set_reveal_child: assertion 'GTK_IS_REVEALER (revealer)' failed\n",
      "Apr 19 02:52:48 joe nautilus[4712]: gtk_label_set_markup: assertion 'GTK_IS_LABEL (label)' failed\n",
      "Apr 19 02:52:48 joe nautilus[4712]: gtk_revealer_set_reveal_child: assertion 'GTK_IS_REVEALER (revealer)' failed\n",
      "Apr 19 02:52:48 joe nautilus[4712]: gtk_label_set_markup: assertion 'GTK_IS_LABEL (label)' failed\n",
      "Apr 19 02:52:48 joe nautilus[4712]: gtk_revealer_set_reveal_child: assertion 'GTK_IS_REVEALER (revealer)' failed\n",
      "Apr 19 02:52:48 joe org.gnome.Nautilus[1317]: RuntimeError: object at 0x7f2b9dca9b40 of type FolderColorMenu is not initialized\n",
      "Apr 19 02:52:49 joe org.gnome.Nautilus[1317]: RuntimeError: object at 0x7f2b9dca9b40 of type FolderColorMenu is not initialized\n",
      "Apr 19 02:52:55 joe nautilus[4712]: gtk_revealer_set_reveal_child: assertion 'GTK_IS_REVEALER (revealer)' failed\n",
      "Apr 19 02:52:55 joe nautilus[4712]: message repeated 6 times: [ gtk_revealer_set_reveal_child: assertion 'GTK_IS_REVEALER (revealer)' failed]\n",
      "Apr 19 02:53:02 joe plank.desktop[1703]: [23287:23287:0419/025302.189371:ERROR:CONSOLE(0)] \"Unchecked runtime.lastError: Cannot access \"about:blank\" at origin \"http://localhost:8888\". Extension must have permission to access the frame's origin, and matchAboutBlank must be true.\", source: chrome-extension://mpognobbkildjkofajifpdfhcoklimli/browser.html (0)\n",
      "Apr 19 02:53:35 joe org.gnome.Nautilus[1317]: RuntimeError: object at 0x7f2b9dca9b40 of type FolderColorMenu is not initialized\n"
     ]
    }
   ],
   "source": [
    "%%python3\n",
    "\n",
    "from datetime import datetime, timedelta\n",
    "from pathlib import Path\n",
    "from re import search\n",
    "\n",
    "tdiff = (datetime.now() - timedelta(minutes = 30))\n",
    "last_30 = tdiff.strftime('%b %d %H:%M') \n",
    "log_lines = Path('/var/log/syslog').read_text().splitlines()\n",
    "\n",
    "for x in log_lines:\n",
    "    log_time = search(r'^\\w{3}\\s+\\d+\\s\\d{2}:\\d{2}',x).group()\n",
    "    if last_30 < log_time:\n",
    "        print(x)    "
   ]
  },
  {
   "cell_type": "markdown",
   "metadata": {},
   "source": [
    "&nbsp;"
   ]
  },
  {
   "cell_type": "markdown",
   "metadata": {},
   "source": [
    "<h3 align=\"center\"><b>OR</b></h3>"
   ]
  },
  {
   "cell_type": "markdown",
   "metadata": {},
   "source": [
    "&nbsp;"
   ]
  },
  {
   "cell_type": "code",
   "execution_count": null,
   "metadata": {},
   "outputs": [],
   "source": [
    "%%python3\n",
    "\n",
    "from datetime import datetime, timedelta\n",
    "from pathlib import Path\n",
    "from re import search\n",
    "\n",
    "mintues = [(datetime.now() - timedelta(minutes = i))\n",
    "           .strftime('%b %d %H:%M') for i in range(1, 30)]\n",
    "log_lines = Path('/var/log/syslog').read_text().splitlines()\n",
    "for x in log_lines:\n",
    "    log_time = search(r'^\\w{3}\\s+\\d+\\s\\d{2}:\\d{2}',x).group()\n",
    "    if log_time in mintues:\n",
    "        print(x)    "
   ]
  }
 ],
 "metadata": {
  "kernelspec": {
   "display_name": "Python 3",
   "language": "python",
   "name": "python3"
  },
  "language_info": {
   "codemirror_mode": {
    "name": "ipython",
    "version": 3
   },
   "file_extension": ".py",
   "mimetype": "text/x-python",
   "name": "python",
   "nbconvert_exporter": "python",
   "pygments_lexer": "ipython3",
   "version": "3.6.9"
  },
  "widgets": {
   "application/vnd.jupyter.widget-state+json": {
    "state": {},
    "version_major": 2,
    "version_minor": 0
   }
  }
 },
 "nbformat": 4,
 "nbformat_minor": 2
}
