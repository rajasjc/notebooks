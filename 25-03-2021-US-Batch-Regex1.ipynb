{
 "cells": [
  {
   "cell_type": "markdown",
   "metadata": {},
   "source": [
    "#### **{n} - Match exactly n of the preceeding item**"
   ]
  },
  {
   "cell_type": "code",
   "execution_count": 2,
   "metadata": {},
   "outputs": [
    {
     "name": "stdout",
     "output_type": "stream",
     "text": [
      "Linux is S \u001b[01;31m\u001b[KGoo\u001b[m\u001b[Koood\n"
     ]
    }
   ],
   "source": [
    "echo 'Linux is So Goooood' | egrep 'Go{2}'"
   ]
  },
  {
   "cell_type": "code",
   "execution_count": 3,
   "metadata": {},
   "outputs": [
    {
     "name": "stdout",
     "output_type": "stream",
     "text": [
      "Linux is S \u001b[01;31m\u001b[KGoooo\u001b[m\u001b[Kod\n"
     ]
    }
   ],
   "source": [
    "echo 'Linux is So Goooood' | egrep 'Go{4}'"
   ]
  },
  {
   "cell_type": "code",
   "execution_count": 5,
   "metadata": {},
   "outputs": [
    {
     "name": "stdout",
     "output_type": "stream",
     "text": [
      "Linux is S\u001b[01;31m\u001b[Ko\u001b[m\u001b[K G\u001b[01;31m\u001b[Ko\u001b[m\u001b[K\u001b[01;31m\u001b[Ko\u001b[m\u001b[K\u001b[01;31m\u001b[Ko\u001b[m\u001b[K\u001b[01;31m\u001b[Ko\u001b[m\u001b[K\u001b[01;31m\u001b[Ko\u001b[m\u001b[Kd\n"
     ]
    }
   ],
   "source": [
    "echo 'Linux is So Goooood' | egrep 'o{1}'"
   ]
  },
  {
   "cell_type": "markdown",
   "metadata": {},
   "source": [
    "#### **{n,m} - Match between n and m of the preceeding item**"
   ]
  },
  {
   "cell_type": "code",
   "execution_count": 6,
   "metadata": {},
   "outputs": [
    {
     "name": "stdout",
     "output_type": "stream",
     "text": [
      "Linux is So G\u001b[01;31m\u001b[Koooo\u001b[m\u001b[Kod\n"
     ]
    }
   ],
   "source": [
    "echo 'Linux is So Goooood' | egrep 'o{2,4}'"
   ]
  },
  {
   "cell_type": "code",
   "execution_count": 8,
   "metadata": {},
   "outputs": [
    {
     "name": "stdout",
     "output_type": "stream",
     "text": [
      "Linux is So G\u001b[01;31m\u001b[Kooooo\u001b[m\u001b[Kd\n"
     ]
    }
   ],
   "source": [
    "echo 'Linux is So Goooood' | egrep 'o{2,6}'"
   ]
  },
  {
   "cell_type": "markdown",
   "metadata": {},
   "source": [
    "#### **{n,} - Match n or more of the preceeding item**"
   ]
  },
  {
   "cell_type": "code",
   "execution_count": 11,
   "metadata": {},
   "outputs": [
    {
     "name": "stdout",
     "output_type": "stream",
     "text": [
      "Linux is S\u001b[01;31m\u001b[Ko\u001b[m\u001b[K G\u001b[01;31m\u001b[Kooooo\u001b[m\u001b[Kd\n"
     ]
    }
   ],
   "source": [
    "echo 'Linux is So Goooood' | egrep 'o{1,}'"
   ]
  },
  {
   "cell_type": "code",
   "execution_count": 12,
   "metadata": {},
   "outputs": [
    {
     "name": "stdout",
     "output_type": "stream",
     "text": [
      "Linux is So G\u001b[01;31m\u001b[Kooooo\u001b[m\u001b[Kd\n"
     ]
    }
   ],
   "source": [
    "echo 'Linux is So Goooood' | egrep 'o{2,}'"
   ]
  },
  {
   "cell_type": "markdown",
   "metadata": {},
   "source": [
    "#### **\\d - matches anything which is considered a digit. ie 0 - 9 (It is effectively a shortcut for [0-9])**"
   ]
  },
  {
   "cell_type": "code",
   "execution_count": 14,
   "metadata": {},
   "outputs": [
    {
     "ename": "",
     "evalue": "1",
     "output_type": "error",
     "traceback": []
    }
   ],
   "source": [
    "echo 'my number is 0123456789' | grep  '\\d'"
   ]
  },
  {
   "cell_type": "code",
   "execution_count": 15,
   "metadata": {},
   "outputs": [
    {
     "name": "stdout",
     "output_type": "stream",
     "text": [
      "my number is \u001b[01;31m\u001b[K0\u001b[m\u001b[K\u001b[01;31m\u001b[K1\u001b[m\u001b[K\u001b[01;31m\u001b[K2\u001b[m\u001b[K\u001b[01;31m\u001b[K3\u001b[m\u001b[K\u001b[01;31m\u001b[K4\u001b[m\u001b[K\u001b[01;31m\u001b[K5\u001b[m\u001b[K\u001b[01;31m\u001b[K6\u001b[m\u001b[K\u001b[01;31m\u001b[K7\u001b[m\u001b[K\u001b[01;31m\u001b[K8\u001b[m\u001b[K\u001b[01;31m\u001b[K9\u001b[m\u001b[K\n"
     ]
    }
   ],
   "source": [
    "echo 'my number is 0123456789' | grep -P  '\\d'"
   ]
  },
  {
   "cell_type": "code",
   "execution_count": 16,
   "metadata": {},
   "outputs": [
    {
     "name": "stdout",
     "output_type": "stream",
     "text": [
      "my number is \u001b[01;31m\u001b[K012\u001b[m\u001b[K\u001b[01;31m\u001b[K345\u001b[m\u001b[K\u001b[01;31m\u001b[K678\u001b[m\u001b[K9\n"
     ]
    }
   ],
   "source": [
    "echo 'my number is 0123456789' | grep -P  '\\d{3}'"
   ]
  },
  {
   "cell_type": "markdown",
   "metadata": {},
   "source": [
    "#### **\\D - matches the opposite of \\d, that is anything which is not considered a digit**"
   ]
  },
  {
   "cell_type": "code",
   "execution_count": 17,
   "metadata": {},
   "outputs": [
    {
     "name": "stdout",
     "output_type": "stream",
     "text": [
      "\u001b[01;31m\u001b[Km\u001b[m\u001b[K\u001b[01;31m\u001b[Ky\u001b[m\u001b[K\u001b[01;31m\u001b[K \u001b[m\u001b[K\u001b[01;31m\u001b[Kn\u001b[m\u001b[K\u001b[01;31m\u001b[Ku\u001b[m\u001b[K\u001b[01;31m\u001b[Km\u001b[m\u001b[K\u001b[01;31m\u001b[Kb\u001b[m\u001b[K\u001b[01;31m\u001b[Ke\u001b[m\u001b[K\u001b[01;31m\u001b[Kr\u001b[m\u001b[K\u001b[01;31m\u001b[K \u001b[m\u001b[K\u001b[01;31m\u001b[Ki\u001b[m\u001b[K\u001b[01;31m\u001b[Ks\u001b[m\u001b[K\u001b[01;31m\u001b[K \u001b[m\u001b[K0123456789\n"
     ]
    }
   ],
   "source": [
    "echo 'my number is 0123456789' | grep -P  '\\D'"
   ]
  },
  {
   "cell_type": "markdown",
   "metadata": {},
   "source": [
    "#### **\\w - matches anything which is considered a word character. That is [A-Za-z0-9_]. Note the inclusion of the underscore character '_'**"
   ]
  },
  {
   "cell_type": "code",
   "execution_count": 18,
   "metadata": {},
   "outputs": [
    {
     "name": "stdout",
     "output_type": "stream",
     "text": [
      "\u001b[01;31m\u001b[Km\u001b[m\u001b[K\u001b[01;31m\u001b[Ky\u001b[m\u001b[K \u001b[01;31m\u001b[Kn\u001b[m\u001b[K\u001b[01;31m\u001b[Ku\u001b[m\u001b[K\u001b[01;31m\u001b[Km\u001b[m\u001b[K\u001b[01;31m\u001b[Kb\u001b[m\u001b[K\u001b[01;31m\u001b[Ke\u001b[m\u001b[K\u001b[01;31m\u001b[Kr\u001b[m\u001b[K \u001b[01;31m\u001b[K_\u001b[m\u001b[K\u001b[01;31m\u001b[Ki\u001b[m\u001b[K\u001b[01;31m\u001b[Ks\u001b[m\u001b[K @\u001b[01;31m\u001b[K0\u001b[m\u001b[K\u001b[01;31m\u001b[K1\u001b[m\u001b[K\u001b[01;31m\u001b[K2\u001b[m\u001b[K\u001b[01;31m\u001b[K3\u001b[m\u001b[K\u001b[01;31m\u001b[K4\u001b[m\u001b[K\u001b[01;31m\u001b[K5\u001b[m\u001b[K\u001b[01;31m\u001b[K6\u001b[m\u001b[K\u001b[01;31m\u001b[K7\u001b[m\u001b[K\u001b[01;31m\u001b[K8\u001b[m\u001b[K\u001b[01;31m\u001b[K9\u001b[m\u001b[K\n"
     ]
    }
   ],
   "source": [
    "echo 'my number _is @0123456789' | grep -P  '\\w'"
   ]
  },
  {
   "cell_type": "markdown",
   "metadata": {},
   "source": [
    "#### **\\W - matches the opposite of \\w, that is anything which is not considered a word character.**"
   ]
  },
  {
   "cell_type": "code",
   "execution_count": 19,
   "metadata": {},
   "outputs": [
    {
     "name": "stdout",
     "output_type": "stream",
     "text": [
      "my\u001b[01;31m\u001b[K \u001b[m\u001b[Knumber\u001b[01;31m\u001b[K \u001b[m\u001b[K_is\u001b[01;31m\u001b[K \u001b[m\u001b[K\u001b[01;31m\u001b[K@\u001b[m\u001b[K0123456789\n"
     ]
    }
   ],
   "source": [
    "echo 'my number _is @0123456789' | grep -P  '\\W'"
   ]
  },
  {
   "cell_type": "markdown",
   "metadata": {},
   "source": [
    "#### **\\b - represents either the beginning or end of a word**"
   ]
  },
  {
   "cell_type": "code",
   "execution_count": 21,
   "metadata": {},
   "outputs": [
    {
     "name": "stdout",
     "output_type": "stream",
     "text": [
      "Linux is So \u001b[01;31m\u001b[KGo\u001b[m\u001b[Kooood\n"
     ]
    }
   ],
   "source": [
    "echo 'Linux is So Goooood' | grep -P '\\bG'"
   ]
  },
  {
   "cell_type": "code",
   "execution_count": 22,
   "metadata": {},
   "outputs": [
    {
     "name": "stdout",
     "output_type": "stream",
     "text": [
      "Linux is So \u001b[01;31m\u001b[KGo\u001b[m\u001b[Kooood\n"
     ]
    }
   ],
   "source": [
    "echo 'Linux is So Goooood' | grep -P '\\bGo'"
   ]
  },
  {
   "cell_type": "code",
   "execution_count": 23,
   "metadata": {},
   "outputs": [
    {
     "name": "stdout",
     "output_type": "stream",
     "text": [
      "Linux is So \u001b[01;31m\u001b[KGooo\u001b[m\u001b[Kood\n"
     ]
    }
   ],
   "source": [
    "echo 'Linux is So Goooood' | grep -P '\\bGo{3}'"
   ]
  },
  {
   "cell_type": "code",
   "execution_count": null,
   "metadata": {},
   "outputs": [],
   "source": []
  }
 ],
 "metadata": {
  "kernelspec": {
   "display_name": "Bash",
   "language": "bash",
   "name": "bash"
  },
  "language_info": {
   "codemirror_mode": "shell",
   "file_extension": ".sh",
   "mimetype": "text/x-sh",
   "name": "bash"
  }
 },
 "nbformat": 4,
 "nbformat_minor": 4
}
