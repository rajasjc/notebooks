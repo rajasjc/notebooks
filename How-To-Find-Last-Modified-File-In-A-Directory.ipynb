{
 "cells": [
  {
   "cell_type": "markdown",
   "metadata": {},
   "source": [
    "<h3 style=\"padding-left:85px;font-size:16px;font-weight:bolder\">\n",
    "How To Find Last Modified File In A Directory?</h3>"
   ]
  },
  {
   "cell_type": "code",
   "execution_count": 3,
   "metadata": {},
   "outputs": [
    {
     "name": "stdout",
     "output_type": "stream",
     "text": [
      "2020-04-27+14:57:44.4237294050 fruit1.txt\n"
     ]
    }
   ],
   "source": [
    "%%bash\n",
    "\n",
    "find ~/Work -type f -printf '%T+ %f\\n' | sort | tail -1"
   ]
  },
  {
   "cell_type": "markdown",
   "metadata": {},
   "source": [
    "<h3 style=\"padding-left:40px;font-size:14px;font-weight:bolder\">\n",
    "Using max</h3>"
   ]
  },
  {
   "cell_type": "code",
   "execution_count": 12,
   "metadata": {},
   "outputs": [
    {
     "name": "stdout",
     "output_type": "stream",
     "text": [
      "('fruit1.txt', 1587979664.4237294)\n"
     ]
    }
   ],
   "source": [
    "%%python3\n",
    "\n",
    "from datetime import datetime\n",
    "from pathlib import Path\n",
    "\n",
    "dpath = Path(\"/home/mana/Work\")\n",
    "files = {i.name: i.stat().st_mtime for i in dpath.iterdir() \n",
    "         if i.is_file()}\n",
    "\n",
    "print(max(files.items(), key = lambda x: x[1]))"
   ]
  },
  {
   "cell_type": "markdown",
   "metadata": {},
   "source": [
    "<h3 style=\"padding-left:40px;font-size:14px;font-weight:bolder\">Using sorted</h3>"
   ]
  },
  {
   "cell_type": "code",
   "execution_count": 14,
   "metadata": {},
   "outputs": [
    {
     "name": "stdout",
     "output_type": "stream",
     "text": [
      "('fruit1.txt', 1587979664.4237294)\n"
     ]
    }
   ],
   "source": [
    "%%python3\n",
    "\n",
    "from datetime import datetime\n",
    "from pathlib import Path\n",
    "\n",
    "dpath = Path(\"/home/mana/Work\")\n",
    "files = {i.name: i.stat().st_mtime for i in dpath.iterdir() \n",
    "         if i.is_file()}\n",
    "\n",
    "print(sorted(files.items(), key = lambda x: x[1], reverse = True)[0])"
   ]
  }
 ],
 "metadata": {
  "kernelspec": {
   "display_name": "Python 3",
   "language": "python",
   "name": "python3"
  },
  "language_info": {
   "codemirror_mode": {
    "name": "ipython",
    "version": 3
   },
   "file_extension": ".py",
   "mimetype": "text/x-python",
   "name": "python",
   "nbconvert_exporter": "python",
   "pygments_lexer": "ipython3",
   "version": "3.6.9"
  },
  "widgets": {
   "application/vnd.jupyter.widget-state+json": {
    "state": {},
    "version_major": 2,
    "version_minor": 0
   }
  }
 },
 "nbformat": 4,
 "nbformat_minor": 2
}
