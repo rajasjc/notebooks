{
 "cells": [
  {
   "cell_type": "markdown",
   "metadata": {},
   "source": [
    "<h3 style=\"padding-left:125px;font-size:15.5px;font-weight:bolder\">\n",
    "How To Remove Empty Line?</h3>"
   ]
  },
  {
   "cell_type": "code",
   "execution_count": 2,
   "metadata": {},
   "outputs": [
    {
     "name": "stdout",
     "output_type": "stream",
     "text": [
      "Apple.\r\n",
      "\r\n",
      "Watermelon.\r\n",
      "\r\n",
      "Orange.\r\n"
     ]
    }
   ],
   "source": [
    "cat ~/Work/fruit1.txt"
   ]
  },
  {
   "cell_type": "code",
   "execution_count": 5,
   "metadata": {},
   "outputs": [
    {
     "name": "stdout",
     "output_type": "stream",
     "text": [
      "Apple.\n",
      "Watermelon.\n",
      "Orange.\n"
     ]
    }
   ],
   "source": [
    "%%bash \n",
    "\n",
    "sed -n '/^$/!p'  ~/Work/fruit1.txt\n",
    ": OR\n",
    ": sed  '/^$/d'  ~/Work/fruit1.txt\n",
    ": OR\n",
    ": awk \"NF\" ~/Work/fruit1.txt"
   ]
  },
  {
   "cell_type": "code",
   "execution_count": 6,
   "metadata": {},
   "outputs": [
    {
     "name": "stdout",
     "output_type": "stream",
     "text": [
      "Apple.\n",
      "Watermelon.\n",
      "Orange.\n"
     ]
    }
   ],
   "source": [
    "%%python3\n",
    "\n",
    "from pathlib import Path\n",
    "\n",
    "path = Path('/home/mana/Work/')\n",
    "text = (path/\"fruit1.txt\").read_text().splitlines()\n",
    "text = [i for i in text if i and not i.isspace()]\n",
    "print(*text, sep = '\\n')"
   ]
  }
 ],
 "metadata": {
  "kernelspec": {
   "display_name": "Python 3",
   "language": "python",
   "name": "python3"
  },
  "language_info": {
   "codemirror_mode": {
    "name": "ipython",
    "version": 3
   },
   "file_extension": ".py",
   "mimetype": "text/x-python",
   "name": "python",
   "nbconvert_exporter": "python",
   "pygments_lexer": "ipython3",
   "version": "3.6.9"
  },
  "widgets": {
   "application/vnd.jupyter.widget-state+json": {
    "state": {},
    "version_major": 2,
    "version_minor": 0
   }
  }
 },
 "nbformat": 4,
 "nbformat_minor": 2
}
