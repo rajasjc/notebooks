{
 "cells": [
  {
   "cell_type": "markdown",
   "metadata": {},
   "source": [
    "#### **Inheritance**"
   ]
  },
  {
   "cell_type": "code",
   "execution_count": 2,
   "metadata": {},
   "outputs": [
    {
     "name": "stdout",
     "output_type": "stream",
     "text": [
      "Hi, I am Parent Class.\n",
      "Hi, I am Child Class.\n"
     ]
    }
   ],
   "source": [
    "class ParentClass:\n",
    "    def parent_display(self):\n",
    "        print('Hi, I am Parent Class.')\n",
    "\n",
    "class ChildClass(ParentClass):\n",
    "    def child_display(self):\n",
    "        print('Hi, I am Child Class.')\n",
    "    \n",
    "object = ChildClass()\n",
    "object.parent_display()\n",
    "object.child_display()"
   ]
  },
  {
   "cell_type": "code",
   "execution_count": 3,
   "metadata": {},
   "outputs": [
    {
     "name": "stdout",
     "output_type": "stream",
     "text": [
      "Hi, I am Parent Class.\n"
     ]
    }
   ],
   "source": [
    "class ParentClass:\n",
    "    def parent_display(self):\n",
    "        print('Hi, I am Parent Class.')\n",
    "\n",
    "class ChildClass(ParentClass):\n",
    "    def child_display(self):\n",
    "        print('Hi, I am Child Class.')\n",
    "    \n",
    "object = ChildClass()\n",
    "object.parent_display()"
   ]
  },
  {
   "cell_type": "code",
   "execution_count": 4,
   "metadata": {},
   "outputs": [
    {
     "name": "stdout",
     "output_type": "stream",
     "text": [
      "Hi, I am Child Class.\n"
     ]
    }
   ],
   "source": [
    "object.child_display()"
   ]
  },
  {
   "cell_type": "code",
   "execution_count": 5,
   "metadata": {},
   "outputs": [
    {
     "name": "stdout",
     "output_type": "stream",
     "text": [
      "I am Parent Micheal.\n",
      "I am Child Manavalan.\n"
     ]
    }
   ],
   "source": [
    "class Parent:\n",
    "    def fathername(self, name):\n",
    "        return f'I am Parent {name}.'\n",
    "\n",
    "class Child(Parent):\n",
    "    def childname(self, name):\n",
    "        return f'I am Child {name}.'\n",
    "    \n",
    "Son = Child()\n",
    "print(Son.fathername('Micheal'))\n",
    "print(Son.childname('Manavalan'))  "
   ]
  },
  {
   "cell_type": "markdown",
   "metadata": {},
   "source": [
    "##### **Access parent class attribute from child class**"
   ]
  },
  {
   "cell_type": "code",
   "execution_count": 7,
   "metadata": {},
   "outputs": [
    {
     "name": "stdout",
     "output_type": "stream",
     "text": [
      "Micheal\n"
     ]
    }
   ],
   "source": [
    "class parent():\n",
    "    name = 'Micheal'\n",
    "    \n",
    "class child(parent):\n",
    "    def myfathername(self):\n",
    "        print(self.name)\n",
    "        \n",
    "son = child()\n",
    "son.myfathername()"
   ]
  },
  {
   "cell_type": "markdown",
   "metadata": {},
   "source": [
    "<p style=\"padding-left:85px;color:blue;font-size:15px;font-weight:bolder;\">Access parent class attribute from child class method</p>\n",
    "<p style=\"padding-left:85px;color:blue;font-size:15px;font-weight:bolder;\">Pass Parent Class Constructor Arguments From Child Class</p>"
   ]
  },
  {
   "cell_type": "code",
   "execution_count": 8,
   "metadata": {},
   "outputs": [
    {
     "name": "stdout",
     "output_type": "stream",
     "text": [
      "Red\n"
     ]
    }
   ],
   "source": [
    "class A:\n",
    "    def __init__(self, colorname):\n",
    "        self.color = colorname\n",
    "        \n",
    "class B(A):\n",
    "    def getcolor(self):\n",
    "        print(self.color)    \n",
    "        \n",
    "obj1 = B('Red')\n",
    "obj1.getcolor()"
   ]
  },
  {
   "cell_type": "code",
   "execution_count": 9,
   "metadata": {},
   "outputs": [
    {
     "name": "stdout",
     "output_type": "stream",
     "text": [
      "White\n"
     ]
    }
   ],
   "source": [
    "obj2 = B('White')\n",
    "obj2.getcolor()"
   ]
  },
  {
   "cell_type": "code",
   "execution_count": 10,
   "metadata": {},
   "outputs": [
    {
     "name": "stdout",
     "output_type": "stream",
     "text": [
      "Micheal\n",
      "Micheal\n"
     ]
    }
   ],
   "source": [
    "class Parent:\n",
    "    def __init__(self, fathername):\n",
    "        self.fathername = fathername\n",
    "\n",
    "class Child(Parent):        \n",
    "    def getname(self):\n",
    "        print(self.fathername)\n",
    "    \n",
    "son1 = Child('Micheal')\n",
    "son1.getname()\n",
    "son2 = Child('Micheal')\n",
    "son2.getname()"
   ]
  },
  {
   "cell_type": "markdown",
   "metadata": {},
   "source": [
    "#### **Pass Parent Class Constructor Arguments From Child Class Constructor Arguments**"
   ]
  },
  {
   "cell_type": "code",
   "execution_count": 13,
   "metadata": {},
   "outputs": [
    {
     "data": {
      "text/plain": [
       "'Manavalan Micheal'"
      ]
     },
     "execution_count": 13,
     "metadata": {},
     "output_type": "execute_result"
    }
   ],
   "source": [
    "class Parent:\n",
    "    def __init__(self, fathername):\n",
    "        self.fathername = fathername\n",
    "\n",
    "class Child(Parent):\n",
    "    def __init__(self, childname, fathername):\n",
    "        self.childname = childname\n",
    "        Parent.__init__(self, fathername)\n",
    "        \n",
    "    def getname(self):\n",
    "        return self.childname + self.fathername\n",
    "    \n",
    "son1 = Child('Manavalan ', 'Micheal')\n",
    "son1.getname()"
   ]
  },
  {
   "cell_type": "code",
   "execution_count": 12,
   "metadata": {},
   "outputs": [
    {
     "data": {
      "text/plain": [
       "'Xavier Micheal'"
      ]
     },
     "execution_count": 12,
     "metadata": {},
     "output_type": "execute_result"
    }
   ],
   "source": [
    "son2 = Child('Xavier ', 'Micheal')\n",
    "son2.getname()"
   ]
  },
  {
   "cell_type": "code",
   "execution_count": 14,
   "metadata": {},
   "outputs": [
    {
     "name": "stdout",
     "output_type": "stream",
     "text": [
      "Micheal 2706\n"
     ]
    }
   ],
   "source": [
    "class A:    \n",
    "        def __init__(self, name):     \n",
    "                self.name = name  \n",
    "                              \n",
    "class B(A):             \n",
    "        def __init__(self, name, idnumber):  \n",
    "                self.idnumber = idnumber\n",
    "                super().__init__(name)\n",
    "#                A.__init__(self, name)   \n",
    "                \n",
    "        def show(self): \n",
    "            print(self.name, self.idnumber) \n",
    "            \n",
    "obj = B('Micheal', 2706)      \n",
    "obj.show()  "
   ]
  },
  {
   "cell_type": "code",
   "execution_count": null,
   "metadata": {},
   "outputs": [],
   "source": []
  }
 ],
 "metadata": {
  "kernelspec": {
   "display_name": "Python 3",
   "language": "python",
   "name": "python3"
  },
  "language_info": {
   "codemirror_mode": {
    "name": "ipython",
    "version": 3
   },
   "file_extension": ".py",
   "mimetype": "text/x-python",
   "name": "python",
   "nbconvert_exporter": "python",
   "pygments_lexer": "ipython3",
   "version": "3.6.8"
  }
 },
 "nbformat": 4,
 "nbformat_minor": 4
}
