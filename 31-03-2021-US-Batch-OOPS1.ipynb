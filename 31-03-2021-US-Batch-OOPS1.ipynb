{
 "cells": [
  {
   "cell_type": "markdown",
   "metadata": {},
   "source": [
    "### **OOPS**"
   ]
  },
  {
   "cell_type": "markdown",
   "metadata": {},
   "source": [
    "##### **What is Difference between function and method?**\n",
    "\n",
    "It called function  if outside of class.\n",
    "\n",
    "It is called method if inside of class."
   ]
  },
  {
   "cell_type": "code",
   "execution_count": 7,
   "metadata": {},
   "outputs": [
    {
     "name": "stdout",
     "output_type": "stream",
     "text": [
      "9\n",
      "5\n"
     ]
    }
   ],
   "source": [
    "def add(x, y):\n",
    "    return x + y\n",
    "\n",
    "class A:\n",
    "    def add(self, x, y):\n",
    "        print(x + y)\n",
    "        \n",
    "obj = A()\n",
    "obj.add(4, 5)\n",
    "print(add(2,3))\n"
   ]
  },
  {
   "cell_type": "markdown",
   "metadata": {},
   "source": [
    "---"
   ]
  },
  {
   "cell_type": "markdown",
   "metadata": {},
   "source": [
    "**What is Object?**\n",
    "\n",
    "Object is consider as Real-World object.\n",
    "\n",
    "Real-World objects have two characteristics:\n",
    "1. Attribute\n",
    "2. Behavior.\n",
    "\n",
    "Objects are bind with variables(data) and functions(methods) into a single entity.\n",
    "Objects get their variables(data) and functions(methods) from classes.\n",
    "\n",
    "For Example:\n",
    "\n",
    "A Car has:\n",
    "States(Attributes) - color, name.\n",
    "Behaviors(Methods) – speed.\n",
    "\n",
    "\n",
    "In Python, Everything is an object, and almost everything has attributes and methods.\n",
    "\n",
    "**What is Class?**\n",
    "\n",
    "In the real world, Many individual objects all of the same kind.\n",
    "\n",
    "1. Classes are essentially a template to create your objects.\n",
    "2. Class is collection of objects.\n",
    "\n",
    "\n",
    "For Example:\n",
    "\n",
    "All car has color and speed. So we can easily classified."
   ]
  },
  {
   "cell_type": "markdown",
   "metadata": {},
   "source": [
    "##### **How To create Class?**"
   ]
  },
  {
   "cell_type": "code",
   "execution_count": 8,
   "metadata": {},
   "outputs": [],
   "source": [
    "class Car:\n",
    "    pass"
   ]
  },
  {
   "cell_type": "code",
   "execution_count": 9,
   "metadata": {},
   "outputs": [
    {
     "name": "stdout",
     "output_type": "stream",
     "text": [
      "Hi, I am  class.\n"
     ]
    },
    {
     "data": {
      "text/plain": [
       "__main__.A"
      ]
     },
     "execution_count": 9,
     "metadata": {},
     "output_type": "execute_result"
    }
   ],
   "source": [
    "class A:\n",
    "    print('Hi, I am  class.')\n",
    "    \n",
    "A"
   ]
  },
  {
   "cell_type": "code",
   "execution_count": 10,
   "metadata": {},
   "outputs": [
    {
     "name": "stdout",
     "output_type": "stream",
     "text": [
      "Hi I am Apple 🍎 class.\n"
     ]
    },
    {
     "data": {
      "text/plain": [
       "__main__.Apple"
      ]
     },
     "execution_count": 10,
     "metadata": {},
     "output_type": "execute_result"
    }
   ],
   "source": [
    "class Apple:\n",
    "    print(f'Hi I am Apple {127822:c} class.')\n",
    "    \n",
    "    \n",
    "Apple"
   ]
  },
  {
   "cell_type": "code",
   "execution_count": 11,
   "metadata": {},
   "outputs": [
    {
     "data": {
      "text/plain": [
       "127822"
      ]
     },
     "execution_count": 11,
     "metadata": {},
     "output_type": "execute_result"
    }
   ],
   "source": [
    "ord('🍎')"
   ]
  },
  {
   "cell_type": "code",
   "execution_count": 12,
   "metadata": {},
   "outputs": [
    {
     "data": {
      "text/plain": [
       "'🍎'"
      ]
     },
     "execution_count": 12,
     "metadata": {},
     "output_type": "execute_result"
    }
   ],
   "source": [
    "chr(127822)"
   ]
  },
  {
   "cell_type": "markdown",
   "metadata": {},
   "source": [
    "##### **How To create Class With Data Only?**"
   ]
  },
  {
   "cell_type": "code",
   "execution_count": 13,
   "metadata": {},
   "outputs": [
    {
     "name": "stdout",
     "output_type": "stream",
     "text": [
      "Black\n"
     ]
    }
   ],
   "source": [
    "class Car:\n",
    "    color = 'Black'\n",
    "    name = 'BMW'\n",
    "    \n",
    "print(Car.color)"
   ]
  },
  {
   "cell_type": "markdown",
   "metadata": {},
   "source": [
    "##### **How To create Class With Method Only?**"
   ]
  },
  {
   "cell_type": "code",
   "execution_count": 14,
   "metadata": {},
   "outputs": [
    {
     "name": "stdout",
     "output_type": "stream",
     "text": [
      "Speed is 100 km/hr.\n"
     ]
    }
   ],
   "source": [
    "class Car:\n",
    "    def speed():\n",
    "        print('Speed is 100 km/hr.')\n",
    "\n",
    "Car.speed()"
   ]
  },
  {
   "cell_type": "markdown",
   "metadata": {},
   "source": [
    "#### **Instance Creation / Object Creation**"
   ]
  },
  {
   "cell_type": "code",
   "execution_count": 15,
   "metadata": {},
   "outputs": [
    {
     "data": {
      "text/plain": [
       "<__main__.A at 0x7f93dc4eb7f0>"
      ]
     },
     "execution_count": 15,
     "metadata": {},
     "output_type": "execute_result"
    }
   ],
   "source": [
    "class A:\n",
    "    pass\n",
    "\n",
    "obj = A()\n",
    "obj"
   ]
  },
  {
   "cell_type": "code",
   "execution_count": 16,
   "metadata": {},
   "outputs": [
    {
     "data": {
      "text/plain": [
       "__main__.A"
      ]
     },
     "execution_count": 16,
     "metadata": {},
     "output_type": "execute_result"
    }
   ],
   "source": [
    "class A:\n",
    "    pass\n",
    "\n",
    "A"
   ]
  },
  {
   "cell_type": "code",
   "execution_count": 17,
   "metadata": {},
   "outputs": [
    {
     "data": {
      "text/plain": [
       "<__main__.A at 0x7f93dc4eb520>"
      ]
     },
     "execution_count": 17,
     "metadata": {},
     "output_type": "execute_result"
    }
   ],
   "source": [
    "class A:\n",
    "    pass\n",
    "\n",
    "A()"
   ]
  },
  {
   "cell_type": "code",
   "execution_count": 19,
   "metadata": {},
   "outputs": [
    {
     "data": {
      "text/plain": [
       "<__main__.A at 0x7f93dc4eb940>"
      ]
     },
     "execution_count": 19,
     "metadata": {},
     "output_type": "execute_result"
    }
   ],
   "source": [
    "class A:\n",
    "    pass\n",
    "\n",
    "obj = A()\n",
    "obj"
   ]
  },
  {
   "cell_type": "code",
   "execution_count": 22,
   "metadata": {},
   "outputs": [
    {
     "name": "stdout",
     "output_type": "stream",
     "text": [
      "BMW car Speed is 300 km/hr.\n"
     ]
    }
   ],
   "source": [
    "class Car:\n",
    "    color = 'Black'\n",
    "    def speed(self):\n",
    "        print('BMW car Speed is 300 km/hr.')\n",
    "        \n",
    "BMW = Car()\n",
    "BMW.speed()"
   ]
  },
  {
   "cell_type": "markdown",
   "metadata": {},
   "source": [
    "**How Object is Created In Class?**\n",
    "\n",
    "Object is created by instance of class.\n",
    "\n",
    "\n",
    "Okay. What is Instance?\n",
    "\n",
    "⇒ Instance means just creating a reference(copy) by using the new operator.\n",
    "\n",
    "⇒ In simple words, Instance refers to the copy of the object whereas object\n",
    "  refers to the class.\n",
    "\n",
    "⇒ No memory or storage is allocated for Object."
   ]
  },
  {
   "cell_type": "markdown",
   "metadata": {},
   "source": [
    "#### **self**"
   ]
  },
  {
   "cell_type": "code",
   "execution_count": 28,
   "metadata": {},
   "outputs": [
    {
     "name": "stdout",
     "output_type": "stream",
     "text": [
      "BMW car Speed is 300 km/hr.\n"
     ]
    }
   ],
   "source": [
    "class Car:\n",
    "    color = 'Black'\n",
    "    def speed(g):\n",
    "        print('BMW car Speed is 300 km/hr.')\n",
    "        \n",
    "BMW = Car()\n",
    "BMW.speed()"
   ]
  },
  {
   "cell_type": "code",
   "execution_count": 25,
   "metadata": {},
   "outputs": [
    {
     "name": "stdout",
     "output_type": "stream",
     "text": [
      "BMW car Speed is 300 km/hr.\n"
     ]
    }
   ],
   "source": [
    "class Car:\n",
    "    color = 'Black'\n",
    "    def speed(self):\n",
    "        print('BMW car Speed is 300 km/hr.')\n",
    "        \n",
    "BMW = Car()\n",
    "BMW.speed()"
   ]
  },
  {
   "cell_type": "code",
   "execution_count": 31,
   "metadata": {},
   "outputs": [
    {
     "name": "stdout",
     "output_type": "stream",
     "text": [
      "<__main__.A object at 0x7f93dc471100>\n",
      "<__main__.A object at 0x7f93dc471370>\n"
     ]
    }
   ],
   "source": [
    "class A:\n",
    "    def ref(k):\n",
    "        return k\n",
    "    \n",
    "object1 = A()\n",
    "print(object1.ref())\n",
    "object2 = A()\n",
    "print(object2.ref())"
   ]
  },
  {
   "cell_type": "code",
   "execution_count": 32,
   "metadata": {},
   "outputs": [
    {
     "name": "stdout",
     "output_type": "stream",
     "text": [
      "<__main__.A object at 0x7f93dc471850>\n",
      "<__main__.A object at 0x7f93dc4eb1f0>\n"
     ]
    }
   ],
   "source": [
    "class A:\n",
    "    def ref(self):\n",
    "        return self\n",
    "    \n",
    "object1 = A()\n",
    "print(object1.ref())\n",
    "object2 = A()\n",
    "print(object2.ref())"
   ]
  },
  {
   "cell_type": "code",
   "execution_count": 36,
   "metadata": {},
   "outputs": [
    {
     "name": "stdout",
     "output_type": "stream",
     "text": [
      "BMW Car speed is 300 Km/hr.\n"
     ]
    }
   ],
   "source": [
    "class Car:\n",
    "    def carspeed(self, speed):\n",
    "        print(f'BMW Car speed is {speed} Km/hr.')\n",
    "\n",
    "objectBMW = Car()\n",
    "objectBMW.carspeed(300)"
   ]
  },
  {
   "cell_type": "markdown",
   "metadata": {},
   "source": [
    "objectBMW is an instance of this class.\n",
    "\n",
    "When objectBMW.carspeed(speed) is called, python internally converts it for as:\n",
    "\n",
    "**Class Car.carspeed(objectBMW, speed)**\n",
    "\n",
    "So here, The self variable refers to the object itself.\n",
    "\n",
    "This is the reason the first parameter of a function in class must be the object itself."
   ]
  },
  {
   "cell_type": "code",
   "execution_count": 39,
   "metadata": {},
   "outputs": [
    {
     "name": "stdout",
     "output_type": "stream",
     "text": [
      "Audi Car speed is 400 Km/hr.\n"
     ]
    }
   ],
   "source": [
    "class Car:\n",
    "    def carspeed(self, speed):\n",
    "        print(f'Audi Car speed is {speed} Km/hr.')\n",
    "\n",
    "Audi = Car()\n",
    "Audi.carspeed(400)"
   ]
  },
  {
   "cell_type": "markdown",
   "metadata": {},
   "source": [
    "Excercise"
   ]
  },
  {
   "cell_type": "raw",
   "metadata": {},
   "source": [
    " 1. create Bicycle class\n",
    " 2. define any data\n",
    " 3. define one method\n",
    " 4. Create object\n",
    " 5. call method using created object"
   ]
  },
  {
   "cell_type": "code",
   "execution_count": null,
   "metadata": {},
   "outputs": [],
   "source": []
  }
 ],
 "metadata": {
  "kernelspec": {
   "display_name": "Python 3",
   "language": "python",
   "name": "python3"
  },
  "language_info": {
   "codemirror_mode": {
    "name": "ipython",
    "version": 3
   },
   "file_extension": ".py",
   "mimetype": "text/x-python",
   "name": "python",
   "nbconvert_exporter": "python",
   "pygments_lexer": "ipython3",
   "version": "3.6.8"
  }
 },
 "nbformat": 4,
 "nbformat_minor": 4
}
