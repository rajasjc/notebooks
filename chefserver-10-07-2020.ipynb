{
 "cells": [
  {
   "cell_type": "code",
   "execution_count": 1,
   "metadata": {},
   "outputs": [],
   "source": [
    "from pathlib import Path\n",
    "\n",
    "p = '/root/work'\n",
    "for i in range(1,11):\n",
    "    Path(p+str(i)+'.txt').touch()\n",
    "    "
   ]
  },
  {
   "cell_type": "code",
   "execution_count": 3,
   "metadata": {},
   "outputs": [
    {
     "name": "stdout",
     "output_type": "stream",
     "text": [
      "total 28\r\n",
      "drwxr-xr-x.  7 root root  232 Jul  9 21:04 .\r\n",
      "dr-xr-x---. 29 root root 4096 Jul 14 03:40 ..\r\n",
      "drwxr-xr-x.  3 root root   15 Jun 22 18:21 1\r\n",
      "-rw-r--r--.  3 root root   54 Jun 22 18:37 announcement\r\n",
      "drwxr-xr-x.  2 root root   26 Jun 22 18:33 bala\r\n",
      "-rw-r--r--   1 root root 1982 Jul  9 21:04 chefserver-10-07-2020.ipynb\r\n",
      "-rw-r--r--.  2 root root   31 Jun 22 18:13 dest\r\n",
      "drwxr-xr-x   2 root root   52 Jul  9 12:15 .ipynb_checkpoints\r\n",
      "-rw-r--r--.  1 root root  374 Jun 22 13:28 pattern.txt\r\n",
      "-rw-r--r--.  1 root root    0 Jun 22 18:26 .sample\r\n",
      "-rw-r--r--.  2 root root   31 Jun 22 18:13 source\r\n",
      "drwxr-xr-x.  4 root root  129 Jun 26 00:15 spectre-meltdown-checker\r\n",
      "drwxr-xr-x.  2 root root   26 Jun 22 18:33 srujan\r\n",
      "-rw-r--r--.  1 root root 1860 Jun 27 08:59 status.csv\r\n"
     ]
    }
   ],
   "source": [
    "! ls -la /root/work/"
   ]
  },
  {
   "cell_type": "markdown",
   "metadata": {},
   "source": [
    "<h2 align=\"left\"> What will be the output for below code? </h2>"
   ]
  },
  {
   "cell_type": "code",
   "execution_count": 8,
   "metadata": {},
   "outputs": [
    {
     "name": "stdout",
     "output_type": "stream",
     "text": [
      "one\n",
      "two\n",
      "final looop\n",
      "two\n",
      "final looop\n",
      "final looop\n"
     ]
    }
   ],
   "source": [
    "def one_a():\n",
    "    print(\"one\")\n",
    "    one_b()\n",
    "\n",
    "def one_b():\n",
    "    print(\"two\")\n",
    "    one_c()\n",
    "\n",
    "def one_c():\n",
    "    print(\"final looop\")\n",
    "    \n",
    "\n",
    "funct = [one_a(), one_b(), one_c()]"
   ]
  },
  {
   "cell_type": "code",
   "execution_count": null,
   "metadata": {},
   "outputs": [],
   "source": []
  }
 ],
 "metadata": {
  "kernelspec": {
   "display_name": "Python 3",
   "language": "python",
   "name": "python3"
  },
  "language_info": {
   "codemirror_mode": {
    "name": "ipython",
    "version": 3
   },
   "file_extension": ".py",
   "mimetype": "text/x-python",
   "name": "python",
   "nbconvert_exporter": "python",
   "pygments_lexer": "ipython3",
   "version": "3.6.8"
  }
 },
 "nbformat": 4,
 "nbformat_minor": 4
}
