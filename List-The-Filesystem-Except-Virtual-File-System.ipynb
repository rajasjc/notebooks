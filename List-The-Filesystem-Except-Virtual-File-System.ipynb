{
 "cells": [
  {
   "cell_type": "markdown",
   "metadata": {},
   "source": [
    "<h3 style=\"padding-left:170px;font-size:17px;font-weight:bolder\">List The Filesystem Except Virtual File System</h3>"
   ]
  },
  {
   "cell_type": "code",
   "execution_count": 1,
   "metadata": {},
   "outputs": [
    {
     "name": "stdout",
     "output_type": "stream",
     "text": [
      "==================================================\n",
      "Filesystem      Size  Used Avail Use% Mounted on\n",
      "==================================================\n",
      "/dev/sda5        29G   20G  9.9G  66% /\n",
      "/dev/sda2        83G  7.0G   76G   9% /media/mana/DATA\n"
     ]
    }
   ],
   "source": [
    "%%bash\n",
    "\n",
    "printf \"%0.s=\" {1..50}; echo\n",
    "df -h | head -1\n",
    "printf \"%0.s=\" {1..50}; echo\n",
    "df -h | egrep \"sd[a-z]\""
   ]
  },
  {
   "cell_type": "markdown",
   "metadata": {},
   "source": [
    "***"
   ]
  },
  {
   "cell_type": "code",
   "execution_count": 2,
   "metadata": {},
   "outputs": [
    {
     "name": "stdout",
     "output_type": "stream",
     "text": [
      "==================================================\n",
      "Filesystem      Size  Used Avail Use% Mounted on\n",
      "==================================================\n",
      "/dev/sda5        29G   20G  9.9G  66% /\n",
      "/dev/sda2        83G  7.0G   76G   9% /media/mana/DATA\n"
     ]
    }
   ],
   "source": [
    "%%bash\n",
    "\n",
    "printf \"%0.s=\" {1..50}; echo\n",
    "df -h | awk 'NR == 1'\n",
    "printf \"%0.s=\" {1..50}; echo\n",
    "df -h | grep -P \"^.*(?=sd[a-z])\""
   ]
  },
  {
   "cell_type": "markdown",
   "metadata": {},
   "source": [
    "***"
   ]
  },
  {
   "cell_type": "code",
   "execution_count": 2,
   "metadata": {},
   "outputs": [
    {
     "name": "stdout",
     "output_type": "stream",
     "text": [
      "==================================================\n",
      "Filesystem      Size  Used Avail Use% Mounted on\n",
      "==================================================\n",
      "/dev/sda5        29G   20G  9.9G  66% /\n",
      "/dev/sda2        83G  7.0G   76G   9% /media/mana/DATA\n"
     ]
    }
   ],
   "source": [
    "%%bash\n",
    "\n",
    "printf \"%0.s=\" {1..50}; echo\n",
    "df -h | head -1\n",
    "printf \"%0.s=\" {1..50}; echo\n",
    "df -h | grep -P \"^(?!(tmpfs|udev|.*snap|File))\""
   ]
  },
  {
   "cell_type": "code",
   "execution_count": 3,
   "metadata": {},
   "outputs": [
    {
     "name": "stdout",
     "output_type": "stream",
     "text": [
      "==================================================\n",
      "Filesystem      Size  Used Avail Use% Mounted on\n",
      "==================================================\n",
      "/dev/sda5        29G   20G  9.9G  66% /\n",
      "/dev/sda2        83G  7.0G   76G   9% /media/mana/DATA\n"
     ]
    }
   ],
   "source": [
    "%%python3\n",
    "\n",
    "from subprocess import PIPE,run\n",
    "from re import search\n",
    "\n",
    "fd = dict(stdin=PIPE, stdout=PIPE, stderr=PIPE)\n",
    "cout = run(['df', '-h'], **fd)\n",
    "fs = cout.stdout.decode().splitlines()\n",
    "disk = [i for i in fs if search(r\"^.*(?=sd[a-z])\",i)]\n",
    "print('='*50)\n",
    "print(fs[0])\n",
    "print('='*50)\n",
    "print(*disk, sep = '\\n')"
   ]
  },
  {
   "cell_type": "markdown",
   "metadata": {},
   "source": [
    "***"
   ]
  }
 ],
 "metadata": {
  "kernelspec": {
   "display_name": "Python 3",
   "language": "python",
   "name": "python3"
  },
  "language_info": {
   "codemirror_mode": {
    "name": "ipython",
    "version": 3
   },
   "file_extension": ".py",
   "mimetype": "text/x-python",
   "name": "python",
   "nbconvert_exporter": "python",
   "pygments_lexer": "ipython3",
   "version": "3.6.9"
  },
  "widgets": {
   "application/vnd.jupyter.widget-state+json": {
    "state": {},
    "version_major": 2,
    "version_minor": 0
   }
  }
 },
 "nbformat": 4,
 "nbformat_minor": 2
}
