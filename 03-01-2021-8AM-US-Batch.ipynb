{
 "cells": [
  {
   "cell_type": "markdown",
   "metadata": {},
   "source": [
    "#### **Print today Date**"
   ]
  },
  {
   "cell_type": "code",
   "execution_count": 2,
   "metadata": {},
   "outputs": [
    {
     "name": "stdout",
     "output_type": "stream",
     "text": [
      "2021-01-03 07:53:16.379660\n"
     ]
    }
   ],
   "source": [
    "from datetime import datetime\n",
    "\n",
    "print(datetime.today())"
   ]
  },
  {
   "cell_type": "markdown",
   "metadata": {},
   "source": [
    "#### **How to list date format?**"
   ]
  },
  {
   "cell_type": "code",
   "execution_count": 3,
   "metadata": {},
   "outputs": [
    {
     "name": "stdout",
     "output_type": "stream",
     "text": [
      "  %%   a literal %\n",
      "  %a   locale's abbreviated weekday name (e.g., Sun)\n",
      "  %A   locale's full weekday name (e.g., Sunday)\n",
      "  %b   locale's abbreviated month name (e.g., Jan)\n",
      "  %B   locale's full month name (e.g., January)\n",
      "  %c   locale's date and time (e.g., Thu Mar  3 23:05:25 2005)\n",
      "  %C   century; like %Y, except omit last two digits (e.g., 20)\n",
      "  %d   day of month (e.g., 01)\n",
      "  %D   date; same as %m/%d/%y\n",
      "  %e   day of month, space padded; same as %_d\n",
      "  %F   full date; same as %Y-%m-%d\n",
      "  %g   last two digits of year of ISO week number (see %G)\n",
      "  %G   year of ISO week number (see %V); normally useful only with %V\n",
      "  %h   same as %b\n",
      "  %H   hour (00..23)\n",
      "  %I   hour (01..12)\n",
      "  %j   day of year (001..366)\n",
      "  %k   hour, space padded ( 0..23); same as %_H\n",
      "  %l   hour, space padded ( 1..12); same as %_I\n",
      "  %m   month (01..12)\n",
      "  %M   minute (00..59)\n",
      "  %n   a newline\n",
      "  %N   nanoseconds (000000000..999999999)\n",
      "  %p   locale's equivalent of either AM or PM; blank if not known\n",
      "  %P   like %p, but lower case\n",
      "  %q   quarter of year (1..4)\n",
      "  %r   locale's 12-hour clock time (e.g., 11:11:04 PM)\n",
      "  %R   24-hour hour and minute; same as %H:%M\n",
      "  %s   seconds since 1970-01-01 00:00:00 UTC\n",
      "  %S   second (00..60)\n",
      "  %t   a tab\n",
      "  %T   time; same as %H:%M:%S\n",
      "  %u   day of week (1..7); 1 is Monday\n",
      "  %U   week number of year, with Sunday as first day of week (00..53)\n",
      "  %V   ISO week number, with Monday as first day of week (01..53)\n",
      "  %w   day of week (0..6); 0 is Sunday\n",
      "  %W   week number of year, with Monday as first day of week (00..53)\n",
      "  %x   locale's date representation (e.g., 12/31/99)\n",
      "  %X   locale's time representation (e.g., 23:13:48)\n",
      "  %y   last two digits of year (00..99)\n",
      "  %Y   year\n",
      "  %z   +hhmm numeric time zone (e.g., -0400)\n",
      "  %:z  +hh:mm numeric time zone (e.g., -04:00)\n",
      "  %::z  +hh:mm:ss numeric time zone (e.g., -04:00:00)\n",
      "  %:::z  numeric time zone with : to necessary precision (e.g., -04, +05:30)\n",
      "  %Z   alphabetic time zone abbreviation (e.g., EDT)\n"
     ]
    }
   ],
   "source": [
    "%%bash\n",
    "\n",
    "date --help | awk '/%%/,/%Z/'"
   ]
  },
  {
   "cell_type": "code",
   "execution_count": 9,
   "metadata": {},
   "outputs": [
    {
     "data": {
      "text/plain": [
       "'Jan  3 09'"
      ]
     },
     "execution_count": 9,
     "metadata": {},
     "output_type": "execute_result"
    }
   ],
   "source": [
    "datetime.today().strftime('%b %e') + ' 09'"
   ]
  },
  {
   "cell_type": "markdown",
   "metadata": {},
   "source": [
    "#### **Unpack the list time**"
   ]
  },
  {
   "cell_type": "code",
   "execution_count": 10,
   "metadata": {},
   "outputs": [],
   "source": [
    "days = ['Sun', 'Mon', 'Tue', 'Thu']"
   ]
  },
  {
   "cell_type": "code",
   "execution_count": 11,
   "metadata": {},
   "outputs": [
    {
     "name": "stdout",
     "output_type": "stream",
     "text": [
      "Sun\n",
      "Mon\n",
      "Tue\n",
      "Thu\n"
     ]
    }
   ],
   "source": [
    "for i in days:\n",
    "    print(i)"
   ]
  },
  {
   "cell_type": "code",
   "execution_count": 14,
   "metadata": {},
   "outputs": [
    {
     "name": "stdout",
     "output_type": "stream",
     "text": [
      "Sun\n",
      "Mon\n",
      "Tue\n",
      "Thu\n"
     ]
    }
   ],
   "source": [
    "print(*days, sep = '\\n')"
   ]
  },
  {
   "cell_type": "code",
   "execution_count": null,
   "metadata": {},
   "outputs": [],
   "source": []
  }
 ],
 "metadata": {
  "kernelspec": {
   "display_name": "Python 3",
   "language": "python",
   "name": "python3"
  },
  "language_info": {
   "codemirror_mode": {
    "name": "ipython",
    "version": 3
   },
   "file_extension": ".py",
   "mimetype": "text/x-python",
   "name": "python",
   "nbconvert_exporter": "python",
   "pygments_lexer": "ipython3",
   "version": "3.8.5"
  },
  "widgets": {
   "application/vnd.jupyter.widget-state+json": {
    "state": {},
    "version_major": 1,
    "version_minor": 0
   }
  }
 },
 "nbformat": 4,
 "nbformat_minor": 4
}
