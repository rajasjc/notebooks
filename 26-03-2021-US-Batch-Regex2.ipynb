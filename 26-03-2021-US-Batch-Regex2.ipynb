{
 "cells": [
  {
   "cell_type": "markdown",
   "metadata": {},
   "source": [
    "#### **( ) - Group part of the regular expression**"
   ]
  },
  {
   "cell_type": "code",
   "execution_count": 9,
   "metadata": {},
   "outputs": [
    {
     "name": "stdout",
     "output_type": "stream",
     "text": [
      "\u001b[01;31m\u001b[KApple\u001b[m\u001b[K\n",
      "\u001b[01;31m\u001b[KOrange\u001b[m\u001b[K\n"
     ]
    }
   ],
   "source": [
    "echo \"Apple Orange Banana\" | egrep -o \"(Apple|Orange)\""
   ]
  },
  {
   "cell_type": "code",
   "execution_count": 5,
   "metadata": {},
   "outputs": [
    {
     "name": "stdout",
     "output_type": "stream",
     "text": [
      "\u001b[01;31m\u001b[Kreal\u001b[m\u001b[K\n"
     ]
    }
   ],
   "source": [
    " echo \"regex is really cool\" | egrep -o '(real)'"
   ]
  },
  {
   "cell_type": "markdown",
   "metadata": {},
   "source": [
    "#### **| - Match what is on either the left or right of the pipe symbol**"
   ]
  },
  {
   "cell_type": "code",
   "execution_count": 6,
   "metadata": {},
   "outputs": [
    {
     "name": "stdout",
     "output_type": "stream",
     "text": [
      "\u001b[01;31m\u001b[Kreal\u001b[m\u001b[K\n",
      "\u001b[01;31m\u001b[Kcool\u001b[m\u001b[K\n"
     ]
    }
   ],
   "source": [
    "echo \"regex is really cool\" | egrep -o '(real|cool)'"
   ]
  },
  {
   "cell_type": "markdown",
   "metadata": {},
   "source": [
    "#### **Back Reference**\n",
    "\n",
    "\\1 \\2 etc- Refer to something matched by a previous grouping"
   ]
  },
  {
   "cell_type": "code",
   "execution_count": 10,
   "metadata": {},
   "outputs": [
    {
     "name": "stdout",
     "output_type": "stream",
     "text": [
      "Orange Manago Apple\n"
     ]
    }
   ],
   "source": [
    " echo \"Orange Manago Apple\" "
   ]
  },
  {
   "cell_type": "code",
   "execution_count": 11,
   "metadata": {},
   "outputs": [
    {
     "name": "stdout",
     "output_type": "stream",
     "text": [
      "Apple Orange Mango\n"
     ]
    }
   ],
   "source": [
    "echo \"Orange Mango Apple\" | sed -rn \"s/(Orange) (Mango) (Apple)/\\3 \\1 \\2/p\""
   ]
  },
  {
   "cell_type": "markdown",
   "metadata": {},
   "source": [
    "#### **\\s - matches anything which is considered whitespace. This could be a space, tab, line break etc**"
   ]
  },
  {
   "cell_type": "code",
   "execution_count": 22,
   "metadata": {},
   "outputs": [
    {
     "name": "stdout",
     "output_type": "stream",
     "text": [
      "\u001b[01;31m\u001b[KLinx is\u001b[m\u001b[K good operting system\n"
     ]
    }
   ],
   "source": [
    "echo \"Linx is good operting system\" | grep   \"Linx\\sis\""
   ]
  },
  {
   "cell_type": "code",
   "execution_count": 21,
   "metadata": {},
   "outputs": [
    {
     "name": "stdout",
     "output_type": "stream",
     "text": [
      "\u001b[01;31m\u001b[KLinx is\u001b[m\u001b[K good operting system\n"
     ]
    }
   ],
   "source": [
    "echo \"Linx is good operting system\" | grep  -i \"^linx\\sis\""
   ]
  },
  {
   "cell_type": "markdown",
   "metadata": {},
   "source": [
    "#### \\S - matches the opposite of \\s, that is anything which is not considered whitespace"
   ]
  },
  {
   "cell_type": "code",
   "execution_count": 23,
   "metadata": {},
   "outputs": [
    {
     "ename": "",
     "evalue": "1",
     "output_type": "error",
     "traceback": []
    }
   ],
   "source": [
    "echo \"Linx is good operting system\" | sed "
   ]
  },
  {
   "cell_type": "code",
   "execution_count": null,
   "metadata": {},
   "outputs": [],
   "source": []
  }
 ],
 "metadata": {
  "kernelspec": {
   "display_name": "Bash",
   "language": "bash",
   "name": "bash"
  },
  "language_info": {
   "codemirror_mode": "shell",
   "file_extension": ".sh",
   "mimetype": "text/x-sh",
   "name": "bash"
  }
 },
 "nbformat": 4,
 "nbformat_minor": 4
}
