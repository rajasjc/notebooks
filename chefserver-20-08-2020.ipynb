{
 "cells": [
  {
   "cell_type": "code",
   "execution_count": 11,
   "metadata": {},
   "outputs": [
    {
     "name": "stdout",
     "output_type": "stream",
     "text": [
      "abs          all          any          ascii        bin          bool         \n",
      "bytearray    bytes        callable     chr          classmethod  compile      \n",
      "complex      copyright    credits      delattr      dict         dir          \n",
      "display      divmod       enumerate    eval         exec         filter       \n",
      "float        format       frozenset    get_ipython  getattr      globals      \n",
      "hasattr      hash         help         hex          id           input        \n",
      "int          isinstance   issubclass   iter         len          license      \n",
      "list         locals       map          max          memoryview   min          \n",
      "next         object       oct          open         ord          pow          \n",
      "print        property     range        repr         reversed     round        \n",
      "set          setattr      slice        sorted       staticmethod str          \n",
      "sum          super        tuple        type         vars         zip          \n"
     ]
    }
   ],
   "source": [
    "import builtins \n",
    "\n",
    "functions = [i for i in dir(builtins) if i[0].islower()]\n",
    "\n",
    "fmt = '{:13s}'*6\n",
    "for fn in zip(*[iter(functions)] *6):\n",
    "     print(fmt.format(*fn))"
   ]
  },
  {
   "cell_type": "code",
   "execution_count": 14,
   "metadata": {},
   "outputs": [
    {
     "name": "stdout",
     "output_type": "stream",
     "text": [
      "class Random(_random.Random)\n",
      "     seed(self, a=None, version=2)\n",
      "     getstate(self)\n",
      "     setstate(self, state)\n",
      "     randrange(self, start, stop=None, step=1, _int=int)\n",
      "     randint(self, a, b)\n",
      "     choice(self, seq)\n",
      "     shuffle(self, x, random=None)\n",
      "     sample(self, population, k)\n",
      "     choices(self, population, weights=None, *, cum_weights=None, k=1)\n",
      "     uniform(self, a, b)\n",
      "     triangular(self, low=0.0, high=1.0, mode=None)\n",
      "     normalvariate(self, mu, sigma)\n",
      "     lognormvariate(self, mu, sigma)\n",
      "     expovariate(self, lambd)\n",
      "     vonmisesvariate(self, mu, kappa)\n",
      "     gammavariate(self, alpha, beta)\n",
      "     gauss(self, mu, sigma)\n",
      "     betavariate(self, alpha, beta)\n",
      "     paretovariate(self, alpha)\n",
      "     weibullvariate(self, alpha, beta)\n",
      "class SystemRandom(Random)\n",
      "     random(self)\n",
      "     getrandbits(self, k)\n",
      "     seed(self, *args, **kwds)\n"
     ]
    }
   ],
   "source": [
    "from pathlib import Path\n",
    "import random \n",
    "import re\n",
    "\n",
    "m = random\n",
    "r = str(m).rsplit('from')[-1]\n",
    "f = re.sub(r\">|\\'| \",\"\",r)\n",
    "p= Path(f).read_text().splitlines()\n",
    "fn = [i for i in p \n",
    " if re.search(r\"^def [a-zA-Z].*|class.*:$|^\\s{1,}def [a-zA-Z].*\",i)]\n",
    "for x in fn:\n",
    "    print(re.sub(r'def|:','',x))"
   ]
  },
  {
   "cell_type": "code",
   "execution_count": 15,
   "metadata": {},
   "outputs": [
    {
     "data": {
      "text/plain": [
       "['MAXYEAR',\n",
       " 'MINYEAR',\n",
       " '__builtins__',\n",
       " '__cached__',\n",
       " '__doc__',\n",
       " '__file__',\n",
       " '__loader__',\n",
       " '__name__',\n",
       " '__package__',\n",
       " '__spec__',\n",
       " 'date',\n",
       " 'datetime',\n",
       " 'datetime_CAPI',\n",
       " 'sys',\n",
       " 'time',\n",
       " 'timedelta',\n",
       " 'timezone',\n",
       " 'tzinfo']"
      ]
     },
     "execution_count": 15,
     "metadata": {},
     "output_type": "execute_result"
    }
   ],
   "source": [
    "import datetime\n",
    "\n",
    "dir(datetime)"
   ]
  },
  {
   "cell_type": "code",
   "execution_count": 22,
   "metadata": {},
   "outputs": [
    {
     "name": "stdout",
     "output_type": "stream",
     "text": [
      "These are Variables of class date:\n",
      "***********************************\n",
      "day\n",
      "max\n",
      "min\n",
      "month\n",
      "resolution\n",
      "year\n",
      "\n",
      "These are Methods of class date:\n",
      "***********************************\n",
      "ctime\n",
      "fromordinal\n",
      "fromtimestamp\n",
      "isocalendar\n",
      "isoformat\n",
      "isoweekday\n",
      "replace\n",
      "strftime\n",
      "timetuple\n",
      "today\n",
      "toordinal\n",
      "weekday\n"
     ]
    }
   ],
   "source": [
    "from datetime import date\n",
    "\n",
    "d = [i for i in dir(date) \n",
    "     if not i.startswith('_')]\n",
    "print('These are Variables of class date:')\n",
    "print('*'*35)\n",
    "for x in d:\n",
    "    if not callable(getattr(date, x)):\n",
    "        print(x)\n",
    "else:\n",
    "    print()\n",
    "\n",
    "print('These are Methods of class date:')\n",
    "print('*'*35)\n",
    "for x in d:\n",
    "    if callable(getattr(date, x)):\n",
    "        print(x)"
   ]
  },
  {
   "cell_type": "markdown",
   "metadata": {},
   "source": [
    "<h2> What will be the output of this program? </h2>"
   ]
  },
  {
   "cell_type": "code",
   "execution_count": 1,
   "metadata": {},
   "outputs": [
    {
     "name": "stdout",
     "output_type": "stream",
     "text": [
      "True\n"
     ]
    }
   ],
   "source": [
    "x = 2 \n",
    "y = 3\n",
    "\n",
    "if 1 < x < y < 4:\n",
    "    print(\"True\")\n",
    "else:\n",
    "    print(\"False\")\n"
   ]
  },
  {
   "cell_type": "code",
   "execution_count": null,
   "metadata": {},
   "outputs": [],
   "source": []
  }
 ],
 "metadata": {
  "kernelspec": {
   "display_name": "Python 3",
   "language": "python",
   "name": "python3"
  },
  "language_info": {
   "codemirror_mode": {
    "name": "ipython",
    "version": 3
   },
   "file_extension": ".py",
   "mimetype": "text/x-python",
   "name": "python",
   "nbconvert_exporter": "python",
   "pygments_lexer": "ipython3",
   "version": "3.6.8"
  }
 },
 "nbformat": 4,
 "nbformat_minor": 4
}
