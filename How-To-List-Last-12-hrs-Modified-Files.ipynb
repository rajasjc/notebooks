{
 "cells": [
  {
   "cell_type": "markdown",
   "metadata": {},
   "source": [
    "### **How To List Last 12 Hrs Modified Files?**"
   ]
  },
  {
   "cell_type": "code",
   "execution_count": 2,
   "metadata": {},
   "outputs": [
    {
     "name": "stdout",
     "output_type": "stream",
     "text": [
      "/home/mana/Work/port.py\n",
      "/home/mana/Work/port.py-bkp\n",
      "/home/mana/Work/status.csv\n"
     ]
    }
   ],
   "source": [
    "%%bash\n",
    "\n",
    "find ~/Work -type f -mtime -0.5"
   ]
  },
  {
   "cell_type": "code",
   "execution_count": 3,
   "metadata": {},
   "outputs": [
    {
     "name": "stdout",
     "output_type": "stream",
     "text": [
      "17-04-2020 17:39 => /home/mana/Work/port.py\n",
      "17-04-2020 17:51 => /home/mana/Work/port.py-bkp\n",
      "17-04-2020 10:18 => /home/mana/Work/status.csv\n"
     ]
    }
   ],
   "source": [
    "%%python3\n",
    "\n",
    "from datetime import datetime, timedelta\n",
    "from pathlib import Path\n",
    "\n",
    "now = datetime.now()\n",
    "last_12 = datetime.now() - timedelta(hours = 12)\n",
    "files = Path('/home/mana/Work/')\n",
    "ftime = [(datetime.fromtimestamp(i.stat()[-2]),i) \n",
    "         for i in files.iterdir() if i.is_file()]\n",
    "\n",
    "for x,y in ftime:\n",
    "    if last_12 < x < now:\n",
    "        print(f'{x:%d-%m-%Y %H:%M} => {y}')"
   ]
  }
 ],
 "metadata": {
  "kernelspec": {
   "display_name": "Python 3",
   "language": "python",
   "name": "python3"
  },
  "language_info": {
   "codemirror_mode": {
    "name": "ipython",
    "version": 3
   },
   "file_extension": ".py",
   "mimetype": "text/x-python",
   "name": "python",
   "nbconvert_exporter": "python",
   "pygments_lexer": "ipython3",
   "version": "3.6.9"
  },
  "widgets": {
   "application/vnd.jupyter.widget-state+json": {
    "state": {},
    "version_major": 2,
    "version_minor": 0
   }
  }
 },
 "nbformat": 4,
 "nbformat_minor": 2
}
