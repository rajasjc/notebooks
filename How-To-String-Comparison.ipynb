{
 "cells": [
  {
   "cell_type": "markdown",
   "metadata": {},
   "source": [
    "<h3 align=\"center\"><b>How To String Comparison?</h3>"
   ]
  },
  {
   "cell_type": "markdown",
   "metadata": {},
   "source": [
    "<p style=\"padding-left:55px;color:black;font-size:15.6px;font-weight:normal;padding-right:130px;\">Bash imporved [[ support Comparison operators &#62; &#60;.<br>Actually it compare based on ASCII.<br><br>\n",
    "1. Bash, First convert string to caseless to be compare. <br>&emsp;Then it compare to ASCII.<br>\n",
    "2. Python, Stright forward compare to ASCII.\n",
    "</p>"
   ]
  },
  {
   "cell_type": "code",
   "execution_count": 5,
   "metadata": {},
   "outputs": [
    {
     "name": "stdout",
     "output_type": "stream",
     "text": [
      "False\n"
     ]
    }
   ],
   "source": [
    "%%bash\n",
    "\n",
    "if [[ 'Linux' > 'Unix' ]] \n",
    "then\n",
    "echo \"True\" \n",
    "else\n",
    "echo \"False\"\n",
    "fi"
   ]
  },
  {
   "cell_type": "markdown",
   "metadata": {},
   "source": [
    "#### **Bash One Liner**"
   ]
  },
  {
   "cell_type": "code",
   "execution_count": 2,
   "metadata": {},
   "outputs": [
    {
     "name": "stdout",
     "output_type": "stream",
     "text": [
      "true\n"
     ]
    }
   ],
   "source": [
    "%%bash\n",
    "\n",
    "([[ 'Uinux' > 'lnix' ]] && echo \"true\") || echo \"false\""
   ]
  },
  {
   "cell_type": "markdown",
   "metadata": {},
   "source": [
    "***"
   ]
  },
  {
   "cell_type": "code",
   "execution_count": 3,
   "metadata": {},
   "outputs": [
    {
     "name": "stdout",
     "output_type": "stream",
     "text": [
      "False\n"
     ]
    }
   ],
   "source": [
    "%%python3\n",
    "\n",
    "print('Linux' > 'Unix')"
   ]
  },
  {
   "cell_type": "markdown",
   "metadata": {},
   "source": [
    "<h3 style=\"padding-left:50px;font-size:15.5px;font-weight:bolder\">How this Works?</h3>\n",
    "<p style=\"padding-left:55px;color:black;font-size:15.6px;font-weight:normal;padding-right:130px;\">Here, I explain using Python.<br>Python ord function convert character to Unicode number.</p>"
   ]
  },
  {
   "cell_type": "code",
   "execution_count": 2,
   "metadata": {},
   "outputs": [
    {
     "name": "stdout",
     "output_type": "stream",
     "text": [
      "Linux string ascii value: [76, 105, 110, 117, 120]\n",
      "Unix string ascii value: [85, 110, 105, 120]\n"
     ]
    },
    {
     "data": {
      "text/plain": [
       "False"
      ]
     },
     "execution_count": 2,
     "metadata": {},
     "output_type": "execute_result"
    }
   ],
   "source": [
    "from itertools import zip_longest\n",
    "\n",
    "lin_ascii_val = [ord(i) for i in 'Linux']\n",
    "print(f'Linux string ascii value: {lin_ascii_val}')\n",
    "uni_ascii_val = [ord(i) for i in 'Unix']\n",
    "print(f'Unix string ascii value: {uni_ascii_val}')\n",
    "\n",
    "pack = zip_longest(lin_ascii_val,uni_ascii_val,fillvalue = 0)\n",
    "\n",
    "def comp(*arg):\n",
    "    for x, y in arg:\n",
    "        if x > y:\n",
    "            return True\n",
    "        else:\n",
    "            return False\n",
    "\n",
    "comp(*pack)"
   ]
  },
  {
   "cell_type": "markdown",
   "metadata": {},
   "source": [
    "***"
   ]
  }
 ],
 "metadata": {
  "kernelspec": {
   "display_name": "Python 3",
   "language": "python",
   "name": "python3"
  },
  "language_info": {
   "codemirror_mode": {
    "name": "ipython",
    "version": 3
   },
   "file_extension": ".py",
   "mimetype": "text/x-python",
   "name": "python",
   "nbconvert_exporter": "python",
   "pygments_lexer": "ipython3",
   "version": "3.6.9"
  },
  "widgets": {
   "application/vnd.jupyter.widget-state+json": {
    "state": {},
    "version_major": 2,
    "version_minor": 0
   }
  }
 },
 "nbformat": 4,
 "nbformat_minor": 2
}
