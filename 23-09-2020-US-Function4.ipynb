{
 "cells": [
  {
   "cell_type": "code",
   "execution_count": 1,
   "metadata": {},
   "outputs": [
    {
     "data": {
      "text/plain": [
       "9"
      ]
     },
     "execution_count": 1,
     "metadata": {},
     "output_type": "execute_result"
    }
   ],
   "source": [
    "def add(x, y):\n",
    "    return x + y\n",
    "\n",
    "add(4, 5)"
   ]
  },
  {
   "cell_type": "code",
   "execution_count": 6,
   "metadata": {},
   "outputs": [
    {
     "data": {
      "text/plain": [
       "'2 6'"
      ]
     },
     "execution_count": 6,
     "metadata": {},
     "output_type": "execute_result"
    }
   ],
   "source": [
    "lst = [ 1, 2, 3 ,4 ,5, 6 ]\n",
    "\n",
    "def add(*lst):\n",
    "    return f'{lst[1]} {lst[-1]}'\n",
    "\n",
    "add(*lst)"
   ]
  },
  {
   "cell_type": "code",
   "execution_count": 10,
   "metadata": {},
   "outputs": [
    {
     "data": {
      "text/plain": [
       "('Micheal', 'Chennai')"
      ]
     },
     "execution_count": 10,
     "metadata": {},
     "output_type": "execute_result"
    }
   ],
   "source": [
    "d = {'name': 'Micheal', 'city': 'Chennai', 'gender': 'Male', 'age': 40}\n",
    "\n",
    "def data(**d):\n",
    "    return d['name'], d['city']\n",
    "    \n",
    "data(**d)"
   ]
  },
  {
   "cell_type": "code",
   "execution_count": 28,
   "metadata": {},
   "outputs": [
    {
     "name": "stdout",
     "output_type": "stream",
     "text": [
      "1.0M\n"
     ]
    }
   ],
   "source": [
    "import bisect\n",
    "#size = [1, 1e+3, 1e+6, 1e+9]  ## GB\n",
    "size = [1, 2**10, 2**20, 2**30] ## GiB\n",
    "unit = ['B', 'K', 'M', 'G']\n",
    "\n",
    "def convert(byts):\n",
    "    if byts != 0:\n",
    "        index = bisect.bisect(size, byts) -1\n",
    "        return \"{}{}\".format(byts/size[index], unit[index])\n",
    "    else: \n",
    "        return '0B'\n",
    "    \n",
    "print(convert(1024*1024))"
   ]
  },
  {
   "cell_type": "code",
   "execution_count": 32,
   "metadata": {},
   "outputs": [
    {
     "name": "stdout",
     "output_type": "stream",
     "text": [
      "831.3M\n"
     ]
    }
   ],
   "source": [
    "import bisect\n",
    "#size = [1, 1e+3, 1e+6, 1e+9]  ## GB\n",
    "size = [1, 2**10, 2**20, 2**30] ## GiB\n",
    "unit = ['B', 'K', 'M', 'G']\n",
    "\n",
    "def convert(byts):\n",
    "    if byts != 0:\n",
    "        index = bisect.bisect(size, byts) -1\n",
    "        return \"{:.1f}{}\".format(byts/size[index], unit[index])\n",
    "    else: \n",
    "        return '0B'\n",
    "    \n",
    "print(convert(871659564))"
   ]
  },
  {
   "cell_type": "code",
   "execution_count": 13,
   "metadata": {},
   "outputs": [
    {
     "data": {
      "text/plain": [
       "1024"
      ]
     },
     "execution_count": 13,
     "metadata": {},
     "output_type": "execute_result"
    }
   ],
   "source": [
    "2**10"
   ]
  },
  {
   "cell_type": "code",
   "execution_count": 12,
   "metadata": {},
   "outputs": [
    {
     "data": {
      "text/plain": [
       "1000.0"
      ]
     },
     "execution_count": 12,
     "metadata": {},
     "output_type": "execute_result"
    }
   ],
   "source": [
    "1e+3"
   ]
  },
  {
   "cell_type": "code",
   "execution_count": 1,
   "metadata": {},
   "outputs": [
    {
     "data": {
      "text/plain": [
       "'78.5M  /home/mana/Downloads'"
      ]
     },
     "execution_count": 1,
     "metadata": {},
     "output_type": "execute_result"
    }
   ],
   "source": [
    "from pathlib import Path\n",
    "import bisect\n",
    "\n",
    "size = [1, 1e+3, 1e+6, 1e+9]\n",
    "unit = ['B', 'K', 'M', 'G']\n",
    "\n",
    "p = Path('/home/mana/Downloads').rglob('*')\n",
    "s = [i.stat().st_size for i in p]\n",
    "\n",
    "def f_size(byte):\n",
    "    index = bisect.bisect(size, byte) - 1\n",
    "    return \"{:.1f}{}  {}\".format(byte/size[index], unit[index], \n",
    "                                 '/home/mana/Downloads')\n",
    "\n",
    "f_size(sum(s))"
   ]
  },
  {
   "cell_type": "code",
   "execution_count": 3,
   "metadata": {},
   "outputs": [],
   "source": [
    "from pathlib import Path\n",
    "from os.path import getsize as gts\n",
    "import bisect\n",
    "\n",
    "size = [1, 1e+3, 1e+6, 1e+9]\n",
    "unit = ['B', 'K', 'M', 'G']\n",
    "file_dict = {}\n",
    "path = Path('/home/mana/Work/')\n",
    "clt_files = [fr for fr in path.rglob('*')]\n",
    "for rf in clt_files:\n",
    "    if not rf.is_dir():\n",
    "        file_dict[rf.parent] = file_dict.get(rf.parent, 0)+gts(str(rf))\n",
    "def convert(byts):\n",
    "    byts = int(byts)\n",
    "    index = bisect.bisect(size, byts)-1\n",
    "    return \"{:.0f}{}\".format(byts//size[index], unit[index])\n",
    "\n",
    "##Subdirectory Size\n",
    "for dname, fsize in file_dict.items():\n",
    "    if fsize != 0 and str(path) != str(dname):\n",
    "        print('{:40}{}'.format(str(dname.parents[0].name+'/'+dname.name), convert(fsize)))\n",
    "\n",
    "##Directory Size\n",
    "dsize = sum(file_dict.values())\n",
    "for dname, fsize in file_dict.items():\n",
    "    if fsize != 0 and str(path) == str(dname):\n",
    "        print('{:40}{}'.format(str(dname.parents[0].name+'/'+dname.name), convert(dsize)))"
   ]
  },
  {
   "cell_type": "code",
   "execution_count": null,
   "metadata": {},
   "outputs": [],
   "source": []
  }
 ],
 "metadata": {
  "kernelspec": {
   "display_name": "Python 3",
   "language": "python",
   "name": "python3"
  },
  "language_info": {
   "codemirror_mode": {
    "name": "ipython",
    "version": 3
   },
   "file_extension": ".py",
   "mimetype": "text/x-python",
   "name": "python",
   "nbconvert_exporter": "python",
   "pygments_lexer": "ipython3",
   "version": "3.8.2"
  }
 },
 "nbformat": 4,
 "nbformat_minor": 4
}
