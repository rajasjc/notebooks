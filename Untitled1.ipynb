{
 "cells": [
  {
   "cell_type": "code",
   "execution_count": 2,
   "metadata": {},
   "outputs": [
    {
     "name": "stdout",
     "output_type": "stream",
     "text": [
      "TASK [debug] *******************************************************************\n",
      "ok: [localhost] => {\n",
      "    \"msg\": \"Hello world!\"\n",
      "}\n"
     ]
    }
   ],
   "source": [
    "debug:"
   ]
  },
  {
   "cell_type": "code",
   "execution_count": 3,
   "metadata": {},
   "outputs": [
    {
     "name": "stdout",
     "output_type": "stream",
     "text": [
      "TASK [shell] *******************************************************************\n",
      "changed: [localhost] => {\n",
      "    \"ansible_facts\": {\n",
      "        \"discovered_interpreter_python\": \"/usr/bin/python\"\n",
      "    },\n",
      "    \"cmd\": \"ls\",\n",
      "    \"delta\": \"0:00:00.022926\",\n",
      "    \"end\": \"2020-07-15 11:58:02.022937\",\n",
      "    \"rc\": 0,\n",
      "    \"start\": \"2020-07-15 11:58:02.000011\",\n",
      "    \"stderr\": \"\",\n",
      "    \"stderr_lines\": [],\n",
      "    \"stdout\": \"[see below]\",\n",
      "    \"stdout_lines\": \"[removed for clarity]\"\n",
      "}\n",
      "\n",
      "[localhost] stdout:\n",
      "13-05-2020.ipynb\n",
      "18-05-2020.ipynb\n",
      "18-06-2020.ipynb\n",
      "26-06-2020.ipynb\n",
      "anaconda-ks.cfg\n",
      "ansible-14-07-2020.ipynb\n",
      "ansible.cfg\n",
      "ansible-jupyter-kernel-master\n",
      "ansible-jupyter-kernel-master.zip\n",
      "ansible_kernel.log\n",
      "ansible-os-hardening\n",
      "a.out\n",
      "awx\n",
      "biggest.c\n",
      "certificate.pem\n",
      "chefserver-02-07-2020.ipynb\n",
      "chefserver-10-07-2020.ipynb\n",
      "chefserver-ansible-15-07-2020.ipynb\n",
      "Dockerfile\n",
      "fsmonitor.sh\n",
      "goworkspace\n",
      "hello.go\n",
      "key.pem\n",
      "kubernetes-ansible\n",
      "masteringansible\n",
      "Myrepo\n",
      "Myrepo.old\n",
      "myuserinfo.sh\n",
      "next_task0.yml\n",
      "next_task1.yml\n",
      "next_task2.yml\n",
      "nimbostratus\n",
      "notebooks\n",
      "oddoreven.c\n",
      "out\n",
      "pattern.txt\n",
      "perf-tools\n",
      "playbook.yml\n",
      "Python-3.8.1.tar\n",
      "Python-3.8.3\n",
      "Python-3.8.3.tar.xz\n",
      "Python3-master\n",
      "Python3-master.zip\n",
      "rajasjc-keypair.pem\n",
      "rajasjc.pem\n",
      "roles\n",
      "running-config_20190704\n",
      "sample.c\n",
      "sampledir\n",
      "sample.py\n",
      "sample.txt\n",
      "scope.go\n",
      "scripts\n",
      "short1.go\n",
      "shortcut\n",
      "short.go\n",
      "simple.go\n",
      "site.txt\n",
      "sum.c\n",
      "testfile\n",
      "test.txt\n",
      "transpose.py\n",
      "Untitled1.ipynb\n",
      "Untitled.ipynb\n",
      "widget_vars.yml\n",
      "work\n"
     ]
    }
   ],
   "source": [
    "yum:\n",
    "    name: httpd\n",
    "    state: latest"
   ]
  },
  {
   "cell_type": "code",
   "execution_count": null,
   "metadata": {},
   "outputs": [],
   "source": []
  }
 ],
 "metadata": {
  "kernelspec": {
   "display_name": "Ansible",
   "language": "ansible",
   "name": "ansible"
  },
  "language_info": {
   "codemirror_mode": "yaml",
   "file_extension": ".yml",
   "mimetype": "text/yaml",
   "name": "ansible"
  }
 },
 "nbformat": 4,
 "nbformat_minor": 4
}
