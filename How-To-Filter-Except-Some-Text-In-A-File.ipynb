{
 "cells": [
  {
   "cell_type": "markdown",
   "metadata": {},
   "source": [
    "### **How To Filter Except Some Text In A File?**\n",
    "\n",
    "Here i filter line text except nologin"
   ]
  },
  {
   "cell_type": "code",
   "execution_count": 2,
   "metadata": {},
   "outputs": [
    {
     "name": "stdout",
     "output_type": "stream",
     "text": [
      "geoclue:x:121:129::/var/geoclue:/usr/sbin/nologin\r\n",
      "mana:x:1000:1000:mana,,,:/home/mana:/bin/bash\r\n",
      "sshd:x:122:65534::/run/sshd:/usr/sbin/nologin\r\n",
      "\r\n"
     ]
    }
   ],
   "source": [
    "!cat ~/Work/user.txt"
   ]
  },
  {
   "cell_type": "code",
   "execution_count": 3,
   "metadata": {},
   "outputs": [
    {
     "name": "stdout",
     "output_type": "stream",
     "text": [
      "mana:x:1000:1000:mana,,,:/home/mana:/bin/bash\n",
      "\n"
     ]
    }
   ],
   "source": [
    "%%bash\n",
    "\n",
    "grep -P '^(?!.*nologin$)' ~/Work/user.txt"
   ]
  },
  {
   "cell_type": "code",
   "execution_count": 5,
   "metadata": {},
   "outputs": [
    {
     "name": "stdout",
     "output_type": "stream",
     "text": [
      "mana:x:1000:1000:mana,,,:/home/mana:/bin/bash \n"
     ]
    }
   ],
   "source": [
    "%%python3\n",
    "\n",
    "from pathlib import Path\n",
    "from re import search\n",
    "\n",
    "fr = Path('/home/mana/Work/user.txt').read_text().splitlines()\n",
    "print(*[i for i in fr if search(r'^(?!.*nologin$)', i)])"
   ]
  }
 ],
 "metadata": {
  "kernelspec": {
   "display_name": "Python 3",
   "language": "python",
   "name": "python3"
  },
  "language_info": {
   "codemirror_mode": {
    "name": "ipython",
    "version": 3
   },
   "file_extension": ".py",
   "mimetype": "text/x-python",
   "name": "python",
   "nbconvert_exporter": "python",
   "pygments_lexer": "ipython3",
   "version": "3.6.9"
  },
  "widgets": {
   "application/vnd.jupyter.widget-state+json": {
    "state": {},
    "version_major": 2,
    "version_minor": 0
   }
  }
 },
 "nbformat": 4,
 "nbformat_minor": 2
}
