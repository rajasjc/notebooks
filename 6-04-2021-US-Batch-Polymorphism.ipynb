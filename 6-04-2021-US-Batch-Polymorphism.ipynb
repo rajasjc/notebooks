{
 "cells": [
  {
   "cell_type": "markdown",
   "metadata": {},
   "source": [
    "<p style=\"text-align:center;color:blue;font-size:20px;font-weight:bolder;\">Polymorphism</p>\n",
    "<br>\n",
    "<p style=\"padding-left:85px;color:black;font-size:14px;font-weight:bolder;\">&#8658;\n",
    "Polymorphism contains two words \"poly\" and \"morphs\".</p>\n",
    "<p style=\"padding-left:85px;color:black;font-size:14px;font-weight:bolder;\">&#8658; Poly means many and Morphs means form, shape.</p>\n",
    "<p style=\"padding-left:85px;color:black;font-size:14px;font-weight:bolder;\">&#8658; By polymorphism, we understand that one task can be performed in different ways.</p>\n",
    "<br>\n",
    "<p style=\"padding-left:85px;color:red;font-size:13px;font-weight:bolder;\">For Example:</p>\n",
    "<p style=\"padding-left:85px;color:black;font-size:14px;font-weight:bolder;\">&#8658;    You have a class Car, and all car speed. But they speed differently. <br>Here, the \"speed\" behavior is polymorphic in the sense and depends on the Car. </p>\n",
    "<br>\n",
    "<p style=\"padding-left:85px;color:blue;font-size:15px;font-weight:bolder;\">There are two types of polymorphism:</p>  \n",
    "<p style=\"padding-left:95px;color:black;font-size:15px;font-weight:bolder;\">1. Method Overriding.</p>\n",
    "<p style=\"padding-left:95px;color:black;font-size:15px;font-weight:bolder;\">2. Method Overloading.</p>"
   ]
  },
  {
   "cell_type": "markdown",
   "metadata": {},
   "source": [
    "<p style=\"padding-left:85px;color:blue;font-size:16px;font-weight:bolder;\">Class Polymorphism</p>\n",
    "<p style=\"padding-left:85px;color:black;font-size:14px;font-weight:bolder;\">&#8658; Polymorphism is a very important concept in Object-Oriented Programming.</p>\n",
    "<p style=\"padding-left:85px;color:black;font-size:14px;font-weight:bolder;\">&#8658; \n",
    " We can use the concept of polymorphism while creating class methods <br>&emsp; in which different classes to have methods with the same name.</p>"
   ]
  },
  {
   "cell_type": "markdown",
   "metadata": {},
   "source": [
    "<p style=\"padding-left:85px;color:blue;font-size:14px;font-weight:bolder;\"> How To Access Different Classes Methods Even If To Have Same Name?</p>\n",
    "<p style=\"padding-left:85px;color:black;font-size:14px;font-weight:bolder;\">&#8658; Create common interface to access different classe's same method name."
   ]
  },
  {
   "cell_type": "code",
   "execution_count": 1,
   "metadata": {},
   "outputs": [
    {
     "name": "stdout",
     "output_type": "stream",
     "text": [
      "Parrot can fly\n",
      "Penguin can't fly\n"
     ]
    }
   ],
   "source": [
    "class Parrot:\n",
    "\n",
    "    def fly(self):\n",
    "        print(\"Parrot can fly\")\n",
    "    \n",
    "    def swim(self):\n",
    "        print(\"Parrot can't swim\")\n",
    "\n",
    "class Penguin:\n",
    "\n",
    "    def fly(self):\n",
    "        print(\"Penguin can't fly\")\n",
    "    \n",
    "    def swim(self):\n",
    "        print(\"Penguin can swim\")\n",
    "\n",
    "# common interface\n",
    "def flying_test(bird):\n",
    "    bird.fly()\n",
    "\n",
    "#instantiate objects\n",
    "par = Parrot()\n",
    "pen = Penguin()\n",
    "\n",
    "# passing the object\n",
    "flying_test(par)\n",
    "flying_test(pen)"
   ]
  },
  {
   "cell_type": "markdown",
   "metadata": {},
   "source": [
    "<p style=\"padding-left:85px;color:black;font-size:14px;font-weight:bolder;\">&#8658;\n",
    "In the above program, we defined two classes Parrot and Penguin.</p>\n",
    "<p style=\"padding-left:85px;color:black;font-size:14px;font-weight:bolder;\">&#8658; Each of them have common method fly() method.</p>   \n",
    "<p style=\"padding-left:85px;color:black;font-size:14px;font-weight:bolder;\">&#8658; However, their functions are different.</p>\n",
    "<p style=\"padding-left:85px;color:black;font-size:14px;font-weight:bolder;\">To allow polymorphism, </p>\n",
    "<p style=\"padding-left:85px;color:black;font-size:14px;font-weight:bolder;\">&#8658; We created common interface i.e flying_test() function to access common method names.</p>"
   ]
  },
  {
   "cell_type": "markdown",
   "metadata": {},
   "source": [
    "<p style=\"padding-left:85px;color:blue;font-size:16px;font-weight:bolder;\">Polymorphism and Inheritance</p>\n",
    "<p style=\"padding-left:85px;color:blue;font-size:15px;font-weight:bolder;\">Method Overriding</p>\n",
    "<p style=\"padding-left:85px;color:black;font-size:14px;font-weight:bolder;\">&#8658; The child classes in Python also inherit methods and attributes from the parent class.</p>\n",
    "<p style=\"padding-left:85px;color:black;font-size:14px;font-weight:bolder;\">&#8658;  We can redefine certain methods and attributes specifically to fit the child class,<br>&emsp; which is known as Method Overriding.</p>\n",
    "<br>\n",
    "<p style=\"padding-left:85px;color:black;font-size:14px;font-weight:bolder;\">&#8658; Polymorphism allows us to access these overridden methods and attributes<br>&emsp;  that have the same name as the parent class.</p>\n",
    "<p style=\"padding-left:85px;color:black;font-size:14px;font-weight:bolder;\">Method override has two rules to be Write :</p>\n",
    "<p style=\"padding-left:85px;color:black;font-size:14px;font-weight:bolder;\">&emsp;&emsp; 1. Inheritance should be there. Function overriding cannot be done within a class. <br>&emsp;&emsp;&emsp; It override on child class.</p>\n",
    "<p style=\"padding-left:85px;color:black;font-size:14px;font-weight:bolder;\">&emsp;&emsp; 2. The function that is redefined in the child class should have the same signature<br>&emsp;&emsp;&emsp; as in the parent classi.e. same number of parameters.</p>"
   ]
  },
  {
   "cell_type": "code",
   "execution_count": 2,
   "metadata": {},
   "outputs": [
    {
     "name": "stdout",
     "output_type": "stream",
     "text": [
      "Hi! I am Child.\n"
     ]
    }
   ],
   "source": [
    "class Parent:  \n",
    "    # Parent's show method \n",
    "    def show(self): \n",
    "        print(\"Hi! I am Parent.\") \n",
    "    \n",
    "# Inherited or Sub class \n",
    "class Child(Parent):          \n",
    "    # Child's show method \n",
    "    def show(self): \n",
    "        print(\"Hi! I am Child.\") \n",
    "        \n",
    "c = Child()\n",
    "c.show()"
   ]
  },
  {
   "cell_type": "code",
   "execution_count": 3,
   "metadata": {},
   "outputs": [
    {
     "name": "stdout",
     "output_type": "stream",
     "text": [
      "Hi! I am Parent.\n",
      "Hi! I am Child.\n"
     ]
    }
   ],
   "source": [
    "class Parent():      \n",
    "    def show(self): \n",
    "        print(\"Hi! I am Parent.\") \n",
    "          \n",
    "class Child(Parent):       \n",
    "    def show(self): \n",
    "          \n",
    "        # Calling the parent's class method.\n",
    "        Parent.show(self)\n",
    "        print(\"Hi! I am Child.\")\n",
    "          \n",
    "c = Child() \n",
    "c.show() "
   ]
  },
  {
   "cell_type": "markdown",
   "metadata": {},
   "source": [
    "<p style=\"padding-left:85px;color:blue;font-size:15px;font-weight:bolder;\">Override Method By Super Function</p>\n",
    "<p style=\"padding-left:85px;color:red;font-size:14px;font-weight:bolder;\">Using Super():</p>"
   ]
  },
  {
   "cell_type": "code",
   "execution_count": 4,
   "metadata": {},
   "outputs": [
    {
     "name": "stdout",
     "output_type": "stream",
     "text": [
      "Hi! I am Parent.\n",
      "Hi! I am Child.\n"
     ]
    }
   ],
   "source": [
    "class Parent():      \n",
    "    def show(self): \n",
    "        print(\"Hi! I am Parent.\") \n",
    "          \n",
    "class Child(Parent):       \n",
    "    def show(self): \n",
    "          \n",
    "        # Calling the parent's class method.\n",
    "        super().show()\n",
    "        print(\"Hi! I am Child.\")\n",
    "          \n",
    "c = Child() \n",
    "c.show() "
   ]
  },
  {
   "cell_type": "markdown",
   "metadata": {},
   "source": [
    "<p style=\"padding-left:85px;color:blue;font-size:15px;font-weight:bolder;\">Operator Overloading</p>\n",
    "<p style=\"padding-left:85px;color:blue;font-size:14px;font-weight:bolder;\">What is operator overloading?</p>\n",
    "<p style=\"padding-left:85px;color:black;font-size:14px;font-weight:bolder;\"> &#8658; We can change the meaning of an operator in Python depending upon the operands used. \n",
    "<br>&emsp; This practice is known as operating overloading.</p>\n",
    "<p style=\"padding-left:85px;color:black;font-size:13px;font-weight:bolder;\"> &#8658; Same operator behaves differently with different types.</p> <p style=\"padding-left:85px;color:red;font-size:14px;font-weight:bolder;\"> For example: </p> \n",
    "<p style=\"padding-left:90px;color:black;font-size:13px;font-weight:bolder;\"> The + operator will, perform arithmetic addition on two numbers, <br>merge two lists and concatenate two strings.</p>"
   ]
  },
  {
   "cell_type": "code",
   "execution_count": 5,
   "metadata": {},
   "outputs": [
    {
     "data": {
      "text/plain": [
       "'sy'"
      ]
     },
     "execution_count": 5,
     "metadata": {},
     "output_type": "execute_result"
    }
   ],
   "source": [
    "'s' + 'y'"
   ]
  },
  {
   "cell_type": "code",
   "execution_count": 6,
   "metadata": {},
   "outputs": [
    {
     "data": {
      "text/plain": [
       "8"
      ]
     },
     "execution_count": 6,
     "metadata": {},
     "output_type": "execute_result"
    }
   ],
   "source": [
    "5 + 3"
   ]
  },
  {
   "cell_type": "markdown",
   "metadata": {},
   "source": [
    "<p style=\"padding-left:90px;color:blue;font-size:14px;font-weight:bolder;\"> Try to Add two object</p>"
   ]
  },
  {
   "cell_type": "code",
   "execution_count": 7,
   "metadata": {},
   "outputs": [],
   "source": [
    "class Point:\n",
    "    def __init__(self, x = 0, y = 0):\n",
    "        self.x = x\n",
    "        self.y = y"
   ]
  },
  {
   "cell_type": "code",
   "execution_count": 8,
   "metadata": {},
   "outputs": [
    {
     "ename": "TypeError",
     "evalue": "unsupported operand type(s) for +: 'Point' and 'Point'",
     "output_type": "error",
     "traceback": [
      "\u001b[0;31m---------------------------------------------------------------------------\u001b[0m",
      "\u001b[0;31mTypeError\u001b[0m                                 Traceback (most recent call last)",
      "\u001b[0;32m<ipython-input-8-3bfb0bc68470>\u001b[0m in \u001b[0;36m<module>\u001b[0;34m\u001b[0m\n\u001b[1;32m      1\u001b[0m \u001b[0mp1\u001b[0m \u001b[0;34m=\u001b[0m \u001b[0mPoint\u001b[0m\u001b[0;34m(\u001b[0m\u001b[0;36m4\u001b[0m\u001b[0;34m,\u001b[0m\u001b[0;36m3\u001b[0m\u001b[0;34m)\u001b[0m\u001b[0;34m\u001b[0m\u001b[0;34m\u001b[0m\u001b[0m\n\u001b[1;32m      2\u001b[0m \u001b[0mp2\u001b[0m \u001b[0;34m=\u001b[0m \u001b[0mPoint\u001b[0m\u001b[0;34m(\u001b[0m\u001b[0;36m1\u001b[0m\u001b[0;34m,\u001b[0m\u001b[0;36m2\u001b[0m\u001b[0;34m)\u001b[0m\u001b[0;34m\u001b[0m\u001b[0;34m\u001b[0m\u001b[0m\n\u001b[0;32m----> 3\u001b[0;31m \u001b[0mp1\u001b[0m \u001b[0;34m+\u001b[0m \u001b[0mp2\u001b[0m\u001b[0;34m\u001b[0m\u001b[0;34m\u001b[0m\u001b[0m\n\u001b[0m",
      "\u001b[0;31mTypeError\u001b[0m: unsupported operand type(s) for +: 'Point' and 'Point'"
     ]
    }
   ],
   "source": [
    "p1 = Point(4,3)\n",
    "p2 = Point(1,2)\n",
    "p1 + p2"
   ]
  },
  {
   "cell_type": "code",
   "execution_count": null,
   "metadata": {},
   "outputs": [],
   "source": []
  }
 ],
 "metadata": {
  "kernelspec": {
   "display_name": "Python 3",
   "language": "python",
   "name": "python3"
  },
  "language_info": {
   "codemirror_mode": {
    "name": "ipython",
    "version": 3
   },
   "file_extension": ".py",
   "mimetype": "text/x-python",
   "name": "python",
   "nbconvert_exporter": "python",
   "pygments_lexer": "ipython3",
   "version": "3.6.8"
  }
 },
 "nbformat": 4,
 "nbformat_minor": 4
}
