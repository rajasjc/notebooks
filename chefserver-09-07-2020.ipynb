{
 "cells": [
  {
   "cell_type": "code",
   "execution_count": 4,
   "metadata": {},
   "outputs": [
    {
     "name": "stdout",
     "output_type": "stream",
     "text": [
      "==================\n",
      "('Name', 'Robert')\n",
      "('Age', 37)\n",
      "('City', 'Trichy')\n",
      "==================\n"
     ]
    }
   ],
   "source": [
    "data1 = ['Name','Age','City']\n",
    "data2 = ['Robert', 37 ,'Trichy']\n",
    "\n",
    "data = list(zip(data1,data2))\n",
    "\n",
    "print('='*18)\n",
    "print(*data, sep='\\n')\n",
    "print('='*18)\n"
   ]
  },
  {
   "cell_type": "code",
   "execution_count": 4,
   "metadata": {},
   "outputs": [
    {
     "data": {
      "text/plain": [
       "1"
      ]
     },
     "execution_count": 4,
     "metadata": {},
     "output_type": "execute_result"
    }
   ],
   "source": [
    "from ctypes import *\n",
    "libc = CDLL(\"/usr/lib64/libc.so.6\")\n",
    "\n",
    "\n",
    "dir(libc)\n",
    "message_string = \"Hello world!\\n\" \n",
    "libc.printf(\"Testing: %s\", message_string)"
   ]
  },
  {
   "cell_type": "code",
   "execution_count": 5,
   "metadata": {},
   "outputs": [],
   "source": [
    "import ctypes"
   ]
  },
  {
   "cell_type": "code",
   "execution_count": 6,
   "metadata": {},
   "outputs": [
    {
     "data": {
      "text/plain": [
       "['ARRAY',\n",
       " 'ArgumentError',\n",
       " 'Array',\n",
       " 'BigEndianStructure',\n",
       " 'CDLL',\n",
       " 'CFUNCTYPE',\n",
       " 'DEFAULT_MODE',\n",
       " 'LibraryLoader',\n",
       " 'LittleEndianStructure',\n",
       " 'POINTER',\n",
       " 'PYFUNCTYPE',\n",
       " 'PyDLL',\n",
       " 'RTLD_GLOBAL',\n",
       " 'RTLD_LOCAL',\n",
       " 'SetPointerType',\n",
       " 'Structure',\n",
       " 'Union',\n",
       " '_CFuncPtr',\n",
       " '_FUNCFLAG_CDECL',\n",
       " '_FUNCFLAG_PYTHONAPI',\n",
       " '_FUNCFLAG_USE_ERRNO',\n",
       " '_FUNCFLAG_USE_LASTERROR',\n",
       " '_Pointer',\n",
       " '_SimpleCData',\n",
       " '__builtins__',\n",
       " '__cached__',\n",
       " '__doc__',\n",
       " '__file__',\n",
       " '__loader__',\n",
       " '__name__',\n",
       " '__package__',\n",
       " '__path__',\n",
       " '__spec__',\n",
       " '__version__',\n",
       " '_c_functype_cache',\n",
       " '_calcsize',\n",
       " '_cast',\n",
       " '_cast_addr',\n",
       " '_check_size',\n",
       " '_ctypes_version',\n",
       " '_dlopen',\n",
       " '_endian',\n",
       " '_memmove_addr',\n",
       " '_memset_addr',\n",
       " '_os',\n",
       " '_pointer_type_cache',\n",
       " '_reset_cache',\n",
       " '_string_at',\n",
       " '_string_at_addr',\n",
       " '_sys',\n",
       " '_wstring_at',\n",
       " '_wstring_at_addr',\n",
       " 'addressof',\n",
       " 'alignment',\n",
       " 'byref',\n",
       " 'c_bool',\n",
       " 'c_buffer',\n",
       " 'c_byte',\n",
       " 'c_char',\n",
       " 'c_char_p',\n",
       " 'c_double',\n",
       " 'c_float',\n",
       " 'c_int',\n",
       " 'c_int16',\n",
       " 'c_int32',\n",
       " 'c_int64',\n",
       " 'c_int8',\n",
       " 'c_long',\n",
       " 'c_longdouble',\n",
       " 'c_longlong',\n",
       " 'c_short',\n",
       " 'c_size_t',\n",
       " 'c_ssize_t',\n",
       " 'c_ubyte',\n",
       " 'c_uint',\n",
       " 'c_uint16',\n",
       " 'c_uint32',\n",
       " 'c_uint64',\n",
       " 'c_uint8',\n",
       " 'c_ulong',\n",
       " 'c_ulonglong',\n",
       " 'c_ushort',\n",
       " 'c_void_p',\n",
       " 'c_voidp',\n",
       " 'c_wchar',\n",
       " 'c_wchar_p',\n",
       " 'cast',\n",
       " 'cdll',\n",
       " 'create_string_buffer',\n",
       " 'create_unicode_buffer',\n",
       " 'get_errno',\n",
       " 'memmove',\n",
       " 'memset',\n",
       " 'pointer',\n",
       " 'py_object',\n",
       " 'pydll',\n",
       " 'pythonapi',\n",
       " 'resize',\n",
       " 'set_errno',\n",
       " 'sizeof',\n",
       " 'string_at',\n",
       " 'util',\n",
       " 'wstring_at']"
      ]
     },
     "execution_count": 6,
     "metadata": {},
     "output_type": "execute_result"
    }
   ],
   "source": [
    "dir(ctypes)"
   ]
  },
  {
   "cell_type": "code",
   "execution_count": null,
   "metadata": {},
   "outputs": [],
   "source": []
  }
 ],
 "metadata": {
  "kernelspec": {
   "display_name": "Python 3",
   "language": "python",
   "name": "python3"
  },
  "language_info": {
   "codemirror_mode": {
    "name": "ipython",
    "version": 3
   },
   "file_extension": ".py",
   "mimetype": "text/x-python",
   "name": "python",
   "nbconvert_exporter": "python",
   "pygments_lexer": "ipython3",
   "version": "3.6.8"
  }
 },
 "nbformat": 4,
 "nbformat_minor": 4
}
