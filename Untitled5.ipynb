{
 "cells": [
  {
   "cell_type": "code",
   "execution_count": 3,
   "metadata": {},
   "outputs": [
    {
     "data": {
      "text/plain": [
       "{'root': [0, 0, 'root', '/root', '/bin/bash'],\n",
       " 'bin': [1, 1, 'bin', '/bin', '/sbin/nologin'],\n",
       " 'daemon': [2, 2, 'daemon', '/sbin', '/sbin/nologin'],\n",
       " 'adm': [3, 4, 'adm', '/var/adm', '/sbin/nologin'],\n",
       " 'lp': [4, 7, 'lp', '/var/spool/lpd', '/sbin/nologin'],\n",
       " 'sync': [5, 0, 'sync', '/sbin', '/bin/sync'],\n",
       " 'shutdown': [6, 0, 'shutdown', '/sbin', '/sbin/shutdown'],\n",
       " 'halt': [7, 0, 'halt', '/sbin', '/sbin/halt'],\n",
       " 'mail': [8, 12, 'mail', '/var/spool/mail', '/sbin/nologin'],\n",
       " 'operator': [11, 0, 'operator', '/root', '/sbin/nologin'],\n",
       " 'games': [12, 100, 'games', '/usr/games', '/sbin/nologin'],\n",
       " 'ftp': [14, 50, 'FTP User', '/var/ftp', '/sbin/nologin'],\n",
       " 'nobody': [99, 99, 'Nobody', '/', '/sbin/nologin'],\n",
       " 'systemd-network': [192,\n",
       "  192,\n",
       "  'systemd Network Management',\n",
       "  '/',\n",
       "  '/sbin/nologin'],\n",
       " 'dbus': [81, 81, 'System message bus', '/', '/sbin/nologin'],\n",
       " 'polkitd': [999, 998, 'User for polkitd', '/', '/sbin/nologin'],\n",
       " 'sshd': [74,\n",
       "  74,\n",
       "  'Privilege-separated SSH',\n",
       "  '/var/empty/sshd',\n",
       "  '/sbin/nologin'],\n",
       " 'postfix': [89, 89, '', '/var/spool/postfix', '/sbin/nologin'],\n",
       " 'ansible': [1000, 1000, 'ansible', '/home/ansible', '/bin/bash'],\n",
       " 'dockerroot': [998, 995, 'Docker User', '/var/lib/docker', '/sbin/nologin'],\n",
       " 'tss': [59,\n",
       "  59,\n",
       "  'Account used by the trousers package to sandbox the tcsd daemon',\n",
       "  '/dev/null',\n",
       "  '/sbin/nologin'],\n",
       " 'ntp': [38, 38, '', '/etc/ntp', '/sbin/nologin']}"
      ]
     },
     "execution_count": 3,
     "metadata": {},
     "output_type": "execute_result"
    }
   ],
   "source": [
    "import pwd \n",
    "\n",
    "pass_dict={}\n",
    "\n",
    "for i in pwd.getpwall():\n",
    "    pass_dict.setdefault(i[0],[]).extend(i[2:])\n",
    "    \n",
    "pass_dict"
   ]
  },
  {
   "cell_type": "code",
   "execution_count": null,
   "metadata": {},
   "outputs": [],
   "source": []
  }
 ],
 "metadata": {
  "kernelspec": {
   "display_name": "Python 3",
   "language": "python",
   "name": "python3"
  },
  "language_info": {
   "codemirror_mode": {
    "name": "ipython",
    "version": 3
   },
   "file_extension": ".py",
   "mimetype": "text/x-python",
   "name": "python",
   "nbconvert_exporter": "python",
   "pygments_lexer": "ipython3",
   "version": "3.6.8"
  }
 },
 "nbformat": 4,
 "nbformat_minor": 4
}
